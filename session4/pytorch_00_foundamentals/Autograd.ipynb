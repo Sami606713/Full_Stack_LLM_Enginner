{
  "nbformat": 4,
  "nbformat_minor": 0,
  "metadata": {
    "colab": {
      "provenance": []
    },
    "kernelspec": {
      "name": "python3",
      "display_name": "Python 3"
    },
    "language_info": {
      "name": "python"
    }
  },
  "cells": [
    {
      "cell_type": "markdown",
      "source": [
        "# What is Autograd and why it is important.\n",
        "- Autograd is used to do autmomatic differentiation that underpins the training of machine learning models.\n",
        "-  It allows you to compute gradients of tensors automatically during backpropagation.\n",
        "- Pytoch autograd can automatically do differentiation"
      ],
      "metadata": {
        "id": "98V-fo3H7p4d"
      }
    },
    {
      "cell_type": "markdown",
      "source": [
        "# Import Packages"
      ],
      "metadata": {
        "id": "NhQfsJjB-dTp"
      }
    },
    {
      "cell_type": "code",
      "source": [
        "import torch"
      ],
      "metadata": {
        "id": "Hxwv2kLS-c6l"
      },
      "execution_count": 1,
      "outputs": []
    },
    {
      "cell_type": "markdown",
      "source": [
        "# Now we can calculate the derivative of X^2 using `autograd`\n",
        "- we know that x^2 = 2x where x =2 so  x^2 = 4"
      ],
      "metadata": {
        "id": "ShI-49vN_pUZ"
      }
    },
    {
      "cell_type": "code",
      "source": [
        "x = torch.tensor(2.0, requires_grad=True)\n",
        "x\n",
        "\n",
        "y = x**2\n",
        "y\n",
        "\n",
        "# Calculate Derivative\n",
        "y.backward()\n",
        "\n",
        "# Get the derivative\n",
        "derivative = x.grad\n",
        "print(\"Derivative\",derivative)"
      ],
      "metadata": {
        "colab": {
          "base_uri": "https://localhost:8080/"
        },
        "id": "YKqp4-zK-jqS",
        "outputId": "67cb493d-149a-4c85-a042-74edf43cea03"
      },
      "execution_count": 9,
      "outputs": [
        {
          "output_type": "stream",
          "name": "stdout",
          "text": [
            "Derivative tensor(4.)\n"
          ]
        }
      ]
    },
    {
      "cell_type": "code",
      "source": [
        "# Define a scalar function (e.g., 𝑓(𝑥)=𝑥2+3𝑥+5\n",
        "x = torch.tensor(2., requires_grad=True)\n",
        "x\n",
        "\n",
        "# NoW define fx\n",
        "fx = x**2 + 3*x + 5\n",
        "fx\n",
        "\n",
        "# Calculate the derivative\n",
        "fx.backward()\n",
        "\n",
        "# Get Derivative\n",
        "derivative = x.grad\n",
        "print(\"Derivative\",derivative)"
      ],
      "metadata": {
        "colab": {
          "base_uri": "https://localhost:8080/"
        },
        "id": "Wj9YExZ0_U_i",
        "outputId": "1bebeced-95bf-4052-a391-98e3c37c97a4"
      },
      "execution_count": 13,
      "outputs": [
        {
          "output_type": "stream",
          "name": "stdout",
          "text": [
            "Derivative tensor(7.)\n"
          ]
        }
      ]
    },
    {
      "cell_type": "markdown",
      "source": [
        "# verify\n",
        "- fx = 𝑥2+3𝑥+5  => x= 2 so\n",
        "- derivative of x^2 = 2x\n",
        "- derivative of 3x = 3\n",
        "- derivative of 5 = 0 so\n",
        "- 2x + 3 + 0 = 0 put `x= 2` so\n",
        "- 2*2 + 3 = 7 `Proved`\n",
        ""
      ],
      "metadata": {
        "id": "mA1yRuZxC8uG"
      }
    },
    {
      "cell_type": "code",
      "source": [],
      "metadata": {
        "id": "uclhjjBVD-eD"
      },
      "execution_count": null,
      "outputs": []
    },
    {
      "cell_type": "markdown",
      "source": [
        "# Now\n",
        "- find => f(x,y)=x^2 +y^3"
      ],
      "metadata": {
        "id": "U57fRM8sD_QC"
      }
    },
    {
      "cell_type": "code",
      "source": [
        "# define x and y\n",
        "x = torch.tensor(3. ,requires_grad=True)\n",
        "y = torch.tensor(3. ,requires_grad=True)\n",
        "\n",
        "# Define fx\n",
        "fx = x**2 + y**3\n",
        "fx\n",
        "\n",
        "# Calculate the derivative\n",
        "fx.backward()\n",
        "\n",
        "# get the derivative\n",
        "derivative_x = x.grad\n",
        "derivative_y = y.grad\n",
        "\n",
        "print(\"Derivative x\",derivative_x)\n",
        "print(\"Derivative y\",derivative_y)"
      ],
      "metadata": {
        "colab": {
          "base_uri": "https://localhost:8080/"
        },
        "id": "-3dJdNwpEEhx",
        "outputId": "3af14f11-db02-44c8-c7cb-fdfeb30f6389"
      },
      "execution_count": 22,
      "outputs": [
        {
          "output_type": "stream",
          "name": "stdout",
          "text": [
            "Derivative x tensor(6.)\n",
            "Derivative y tensor(27.)\n"
          ]
        }
      ]
    },
    {
      "cell_type": "markdown",
      "source": [
        "# Verify\n",
        "- fx = x**2 + y**3 x = 3 and y = 3\n",
        "- derivative of df/dx = 2x + 0\n",
        "- derivative of df/dy = 0 + 3y^2\n",
        "- now put value of x and y\n",
        "- df/dx = 2*3 = 6\n",
        "- df/dy = 3*(3**2) = 27"
      ],
      "metadata": {
        "id": "_slnPUw2EXbk"
      }
    },
    {
      "cell_type": "code",
      "source": [],
      "metadata": {
        "id": "WDxmWaQvNheL"
      },
      "execution_count": null,
      "outputs": []
    }
  ]
}