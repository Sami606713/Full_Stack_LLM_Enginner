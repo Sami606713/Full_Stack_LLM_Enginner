{
  "nbformat": 4,
  "nbformat_minor": 0,
  "metadata": {
    "colab": {
      "provenance": []
    },
    "kernelspec": {
      "name": "python3",
      "display_name": "Python 3"
    },
    "language_info": {
      "name": "python"
    }
  },
  "cells": [
    {
      "cell_type": "code",
      "execution_count": null,
      "metadata": {
        "colab": {
          "base_uri": "https://localhost:8080/"
        },
        "id": "G3HuHHWsy11r",
        "outputId": "7aebea1b-4183-4b27-fb32-399efc648aeb"
      },
      "outputs": [
        {
          "output_type": "stream",
          "name": "stdout",
          "text": [
            "Requirement already satisfied: torch in /usr/local/lib/python3.10/dist-packages (2.4.1+cu121)\n",
            "Requirement already satisfied: filelock in /usr/local/lib/python3.10/dist-packages (from torch) (3.16.1)\n",
            "Requirement already satisfied: typing-extensions>=4.8.0 in /usr/local/lib/python3.10/dist-packages (from torch) (4.12.2)\n",
            "Requirement already satisfied: sympy in /usr/local/lib/python3.10/dist-packages (from torch) (1.13.3)\n",
            "Requirement already satisfied: networkx in /usr/local/lib/python3.10/dist-packages (from torch) (3.3)\n",
            "Requirement already satisfied: jinja2 in /usr/local/lib/python3.10/dist-packages (from torch) (3.1.4)\n",
            "Requirement already satisfied: fsspec in /usr/local/lib/python3.10/dist-packages (from torch) (2024.6.1)\n",
            "Requirement already satisfied: MarkupSafe>=2.0 in /usr/local/lib/python3.10/dist-packages (from jinja2->torch) (2.1.5)\n",
            "Requirement already satisfied: mpmath<1.4,>=1.1.0 in /usr/local/lib/python3.10/dist-packages (from sympy->torch) (1.3.0)\n"
          ]
        }
      ],
      "source": [
        "!pip install --upgrade torch"
      ]
    },
    {
      "cell_type": "code",
      "source": [
        "import pandas as pd\n",
        "import numpy as np\n",
        "import matplotlib.pyplot as plt\n",
        "import torch\n",
        "\n",
        "print(torch.__version__)"
      ],
      "metadata": {
        "colab": {
          "base_uri": "https://localhost:8080/"
        },
        "id": "eL9wzFEctUMT",
        "outputId": "ae9c4f9c-d0ea-4b3e-cd3d-06bfb150d6a5"
      },
      "execution_count": null,
      "outputs": [
        {
          "output_type": "stream",
          "name": "stdout",
          "text": [
            "2.4.1+cu121\n"
          ]
        }
      ]
    },
    {
      "cell_type": "markdown",
      "source": [
        "# Intro to Tensors\n",
        "\n",
        "## Creating tensors"
      ],
      "metadata": {
        "id": "sAAuOL8stL48"
      }
    },
    {
      "cell_type": "code",
      "source": [
        "# Scaler tensor\n",
        "\n",
        "scaler=torch.tensor(6)\n",
        "\n",
        "print(\"Scaler Tensor: \",scaler)"
      ],
      "metadata": {
        "id": "U8rwg3-uzBI5",
        "colab": {
          "base_uri": "https://localhost:8080/"
        },
        "outputId": "acd0adf5-302e-45f4-cd6d-e4b4122a0bb8"
      },
      "execution_count": null,
      "outputs": [
        {
          "output_type": "stream",
          "name": "stdout",
          "text": [
            "Scaler Tensor:  tensor(6)\n"
          ]
        }
      ]
    },
    {
      "cell_type": "code",
      "source": [
        "# Dimension\n",
        "scaler.ndim"
      ],
      "metadata": {
        "colab": {
          "base_uri": "https://localhost:8080/"
        },
        "id": "TBZ2hDtstTEg",
        "outputId": "7d22c828-0cb3-456b-ad57-5834b140655a"
      },
      "execution_count": null,
      "outputs": [
        {
          "output_type": "execute_result",
          "data": {
            "text/plain": [
              "0"
            ]
          },
          "metadata": {},
          "execution_count": 4
        }
      ]
    },
    {
      "cell_type": "code",
      "source": [
        "# get the vector back into python int\n",
        "scaler.item()"
      ],
      "metadata": {
        "colab": {
          "base_uri": "https://localhost:8080/"
        },
        "id": "yy0zjoPlui7w",
        "outputId": "9a4e92c9-ca9d-4723-d0cc-9ce8aa50dfd7"
      },
      "execution_count": null,
      "outputs": [
        {
          "output_type": "execute_result",
          "data": {
            "text/plain": [
              "6"
            ]
          },
          "metadata": {},
          "execution_count": 5
        }
      ]
    },
    {
      "cell_type": "code",
      "source": [
        "# Vector\n",
        "lis=[1,3]\n",
        "\n",
        "vector=torch.tensor(lis)\n",
        "print(\"Vector: \",vector)"
      ],
      "metadata": {
        "colab": {
          "base_uri": "https://localhost:8080/"
        },
        "id": "kS-XxLxnuvj9",
        "outputId": "ff017753-0721-4bb4-8d73-e9d199a89bf9"
      },
      "execution_count": null,
      "outputs": [
        {
          "output_type": "stream",
          "name": "stdout",
          "text": [
            "Vector:  tensor([1, 3])\n"
          ]
        }
      ]
    },
    {
      "cell_type": "code",
      "source": [
        "vector.ndim"
      ],
      "metadata": {
        "colab": {
          "base_uri": "https://localhost:8080/"
        },
        "id": "g0e0Rx4Bu5DH",
        "outputId": "1a042f66-030b-4c8b-94d3-23be70cc6593"
      },
      "execution_count": null,
      "outputs": [
        {
          "output_type": "execute_result",
          "data": {
            "text/plain": [
              "1"
            ]
          },
          "metadata": {},
          "execution_count": 7
        }
      ]
    },
    {
      "cell_type": "code",
      "source": [
        "vector.shape"
      ],
      "metadata": {
        "colab": {
          "base_uri": "https://localhost:8080/"
        },
        "id": "STjR6z5bvTQw",
        "outputId": "0cc3a950-444c-4682-8ab4-96514b69dce0"
      },
      "execution_count": null,
      "outputs": [
        {
          "output_type": "execute_result",
          "data": {
            "text/plain": [
              "torch.Size([2])"
            ]
          },
          "metadata": {},
          "execution_count": 8
        }
      ]
    },
    {
      "cell_type": "code",
      "source": [
        "# MATRIX\n",
        "data=[\n",
        "    [1,2],\n",
        "    [3,4]\n",
        "]\n",
        "\n",
        "matrix=torch.tensor(data)\n",
        "print(\"Matrix: \\n\",matrix)"
      ],
      "metadata": {
        "colab": {
          "base_uri": "https://localhost:8080/"
        },
        "id": "XbxoNlDZvhOw",
        "outputId": "8ad87ac3-ca88-48da-f7ad-ad80040c3009"
      },
      "execution_count": null,
      "outputs": [
        {
          "output_type": "stream",
          "name": "stdout",
          "text": [
            "Matrix: \n",
            " tensor([[1, 2],\n",
            "        [3, 4]])\n"
          ]
        }
      ]
    },
    {
      "cell_type": "code",
      "source": [
        "matrix.ndim"
      ],
      "metadata": {
        "colab": {
          "base_uri": "https://localhost:8080/"
        },
        "id": "lKkQIBn0vx1z",
        "outputId": "3bd0bcf6-9010-4c98-f31c-8cb5e7edbd76"
      },
      "execution_count": null,
      "outputs": [
        {
          "output_type": "execute_result",
          "data": {
            "text/plain": [
              "2"
            ]
          },
          "metadata": {},
          "execution_count": 10
        }
      ]
    },
    {
      "cell_type": "code",
      "source": [
        "matrix.shape"
      ],
      "metadata": {
        "colab": {
          "base_uri": "https://localhost:8080/"
        },
        "id": "CD-VaByHv3Mb",
        "outputId": "32bb9961-f262-482c-ea9d-7d9593855619"
      },
      "execution_count": null,
      "outputs": [
        {
          "output_type": "execute_result",
          "data": {
            "text/plain": [
              "torch.Size([2, 2])"
            ]
          },
          "metadata": {},
          "execution_count": 11
        }
      ]
    },
    {
      "cell_type": "code",
      "source": [
        "# TENSOR\n",
        "TENSOR=torch.tensor([[\n",
        "    [1,2,3],\n",
        "    [4,6,8],\n",
        "    [9,10,90]\n",
        "]])\n",
        "\n",
        "print(\"Tensor: \\n\",TENSOR)"
      ],
      "metadata": {
        "colab": {
          "base_uri": "https://localhost:8080/"
        },
        "id": "2eBb7opjv5i_",
        "outputId": "46fc6dc9-8733-4bce-8c67-45ed28156ff6"
      },
      "execution_count": null,
      "outputs": [
        {
          "output_type": "stream",
          "name": "stdout",
          "text": [
            "Tensor: \n",
            " tensor([[[ 1,  2,  3],\n",
            "         [ 4,  6,  8],\n",
            "         [ 9, 10, 90]]])\n"
          ]
        }
      ]
    },
    {
      "cell_type": "code",
      "source": [
        "TENSOR.ndim"
      ],
      "metadata": {
        "colab": {
          "base_uri": "https://localhost:8080/"
        },
        "id": "dpxK84K9w-uc",
        "outputId": "0471df63-35df-4ca5-8548-c67ae7dacfe2"
      },
      "execution_count": null,
      "outputs": [
        {
          "output_type": "execute_result",
          "data": {
            "text/plain": [
              "3"
            ]
          },
          "metadata": {},
          "execution_count": 13
        }
      ]
    },
    {
      "cell_type": "code",
      "source": [
        "\n",
        "TENSOR.shape"
      ],
      "metadata": {
        "colab": {
          "base_uri": "https://localhost:8080/"
        },
        "id": "SxiuucH-xBSC",
        "outputId": "8d25b476-0ef0-44e4-ab60-1f372722b760"
      },
      "execution_count": null,
      "outputs": [
        {
          "output_type": "execute_result",
          "data": {
            "text/plain": [
              "torch.Size([1, 3, 3])"
            ]
          },
          "metadata": {},
          "execution_count": 14
        }
      ]
    },
    {
      "cell_type": "code",
      "source": [
        "TENSOR[0][0]"
      ],
      "metadata": {
        "colab": {
          "base_uri": "https://localhost:8080/"
        },
        "id": "4fPuGCJJxGKw",
        "outputId": "ae20d1fa-5a94-4b56-8b5e-2cd10b46ab29"
      },
      "execution_count": null,
      "outputs": [
        {
          "output_type": "execute_result",
          "data": {
            "text/plain": [
              "tensor([1, 2, 3])"
            ]
          },
          "metadata": {},
          "execution_count": 15
        }
      ]
    },
    {
      "cell_type": "markdown",
      "source": [
        "# RANDOM TENSOR\n",
        "- Random tensor in important in pytorch b/c all the value are fill with random number and change the random nbr after itrating on data.\n",
        "- `random nbr => itrate on data => update the random nbr`"
      ],
      "metadata": {
        "id": "k_Ni-t6oyzOI"
      }
    },
    {
      "cell_type": "code",
      "source": [
        "# RANDOM TENSOR\n",
        "random_tensor=torch.rand(3,4)\n",
        "random_tensor"
      ],
      "metadata": {
        "colab": {
          "base_uri": "https://localhost:8080/"
        },
        "id": "P7o6nISTxIeN",
        "outputId": "eb6b86b8-7b18-4fa9-abcf-467858fce6ec"
      },
      "execution_count": null,
      "outputs": [
        {
          "output_type": "execute_result",
          "data": {
            "text/plain": [
              "tensor([[0.1516, 0.1184, 0.8745, 0.3853],\n",
              "        [0.5295, 0.8490, 0.1940, 0.3654],\n",
              "        [0.5549, 0.9488, 0.9862, 0.3212]])"
            ]
          },
          "metadata": {},
          "execution_count": 16
        }
      ]
    },
    {
      "cell_type": "code",
      "source": [
        "random_tensor.ndim"
      ],
      "metadata": {
        "colab": {
          "base_uri": "https://localhost:8080/"
        },
        "id": "lKX6tY-pzVx2",
        "outputId": "c7558a44-a854-4bd9-ac39-91c39f14a233"
      },
      "execution_count": null,
      "outputs": [
        {
          "output_type": "execute_result",
          "data": {
            "text/plain": [
              "2"
            ]
          },
          "metadata": {},
          "execution_count": 17
        }
      ]
    },
    {
      "cell_type": "code",
      "source": [
        "# Create a random tensor similar to the shape of images\n",
        "random_image_tensor=torch.rand(size=(224,224,3)) # Height , Width , Channel(RGB)\n",
        "random_image_tensor.shape, random_image_tensor.ndim"
      ],
      "metadata": {
        "colab": {
          "base_uri": "https://localhost:8080/"
        },
        "id": "WDR_LMkkzank",
        "outputId": "39097b51-04a5-424a-c412-81ad3f730199"
      },
      "execution_count": null,
      "outputs": [
        {
          "output_type": "execute_result",
          "data": {
            "text/plain": [
              "(torch.Size([224, 224, 3]), 3)"
            ]
          },
          "metadata": {},
          "execution_count": 18
        }
      ]
    },
    {
      "cell_type": "markdown",
      "source": [
        "## Zeros and ones tensor"
      ],
      "metadata": {
        "id": "1gxiRu-S1yOs"
      }
    },
    {
      "cell_type": "code",
      "source": [
        "# Zeros and ones tensor\n",
        "zero_tensor=torch.zeros(size=(3,4))\n",
        "zero_tensor.shape, zero_tensor"
      ],
      "metadata": {
        "colab": {
          "base_uri": "https://localhost:8080/"
        },
        "id": "DzxAmlKk1JQ4",
        "outputId": "01c24c09-8ae6-4bac-849e-c1908262e5be"
      },
      "execution_count": null,
      "outputs": [
        {
          "output_type": "execute_result",
          "data": {
            "text/plain": [
              "(torch.Size([3, 4]),\n",
              " tensor([[0., 0., 0., 0.],\n",
              "         [0., 0., 0., 0.],\n",
              "         [0., 0., 0., 0.]]))"
            ]
          },
          "metadata": {},
          "execution_count": 19
        }
      ]
    },
    {
      "cell_type": "code",
      "source": [
        "# Zeros and ones tensor\n",
        "onse_tensor=torch.ones(size=(3,4))\n",
        "onse_tensor.shape, onse_tensor"
      ],
      "metadata": {
        "colab": {
          "base_uri": "https://localhost:8080/"
        },
        "id": "_ErFEFLm1hXt",
        "outputId": "a5a693cc-05a7-4960-b0b1-e65fa764cf24"
      },
      "execution_count": null,
      "outputs": [
        {
          "output_type": "execute_result",
          "data": {
            "text/plain": [
              "(torch.Size([3, 4]),\n",
              " tensor([[1., 1., 1., 1.],\n",
              "         [1., 1., 1., 1.],\n",
              "         [1., 1., 1., 1.]]))"
            ]
          },
          "metadata": {},
          "execution_count": 20
        }
      ]
    },
    {
      "cell_type": "markdown",
      "source": [
        "# Tensor Arange"
      ],
      "metadata": {
        "id": "H6QRsTf03DmO"
      }
    },
    {
      "cell_type": "code",
      "source": [
        "one_to_one=torch.arange(start=1,end=11,step=2)\n",
        "one_to_one"
      ],
      "metadata": {
        "colab": {
          "base_uri": "https://localhost:8080/"
        },
        "id": "DRVcgCBD1rqD",
        "outputId": "40aee2aa-ccc4-4e5c-b98c-1c33a6a245fa"
      },
      "execution_count": null,
      "outputs": [
        {
          "output_type": "execute_result",
          "data": {
            "text/plain": [
              "tensor([1, 3, 5, 7, 9])"
            ]
          },
          "metadata": {},
          "execution_count": 21
        }
      ]
    },
    {
      "cell_type": "markdown",
      "source": [
        "# Tensor Datatypes"
      ],
      "metadata": {
        "id": "29ZGW6Nu3mh6"
      }
    },
    {
      "cell_type": "code",
      "source": [
        "# Float 32 tensor\n",
        "float_32_tensor=torch.tensor(list(range(1,5)),dtype=None)\n",
        "float_32_tensor"
      ],
      "metadata": {
        "colab": {
          "base_uri": "https://localhost:8080/"
        },
        "id": "gYhQkNMf3N8l",
        "outputId": "a6886738-5f8d-4ea2-f6ea-0183b5c4d9cb"
      },
      "execution_count": null,
      "outputs": [
        {
          "output_type": "execute_result",
          "data": {
            "text/plain": [
              "tensor([1, 2, 3, 4])"
            ]
          },
          "metadata": {},
          "execution_count": 22
        }
      ]
    },
    {
      "cell_type": "code",
      "source": [
        "float_32_tensor.dtype"
      ],
      "metadata": {
        "colab": {
          "base_uri": "https://localhost:8080/"
        },
        "id": "ZwX__Lhd37MO",
        "outputId": "b5a39d90-e9c7-42ed-885f-c6d0b8346c5c"
      },
      "execution_count": null,
      "outputs": [
        {
          "output_type": "execute_result",
          "data": {
            "text/plain": [
              "torch.int64"
            ]
          },
          "metadata": {},
          "execution_count": 23
        }
      ]
    },
    {
      "cell_type": "code",
      "source": [
        "# Float 32 tensor\n",
        "float_32_tensor=torch.tensor(list(range(1,5)),dtype=torch.float32)\n",
        "float_32_tensor"
      ],
      "metadata": {
        "colab": {
          "base_uri": "https://localhost:8080/"
        },
        "id": "8OENFZ6I4G-p",
        "outputId": "3e586c4b-a212-41b9-86d9-0cb2a8d7027a"
      },
      "execution_count": null,
      "outputs": [
        {
          "output_type": "execute_result",
          "data": {
            "text/plain": [
              "tensor([1., 2., 3., 4.])"
            ]
          },
          "metadata": {},
          "execution_count": 24
        }
      ]
    },
    {
      "cell_type": "code",
      "source": [
        "float_32_tensor.dtype"
      ],
      "metadata": {
        "colab": {
          "base_uri": "https://localhost:8080/"
        },
        "id": "sr2sue9p4MvL",
        "outputId": "1341822b-fe48-4b57-94b5-5f1ab4e7b85e"
      },
      "execution_count": null,
      "outputs": [
        {
          "output_type": "execute_result",
          "data": {
            "text/plain": [
              "torch.float32"
            ]
          },
          "metadata": {},
          "execution_count": 25
        }
      ]
    },
    {
      "cell_type": "code",
      "source": [
        "# torch.dtype, require_grade, to_device\n",
        "float_32_tensor=torch.tensor(list(range(1,5)),\n",
        "                             dtype=torch.float32, # Data type of the tensor (float32, int32 and many more)\n",
        "                             device=None, # Device are 'cpu' and 'cuda'\n",
        "                             requires_grad=False) # Are used to track the gradient\n",
        "float_32_tensor, float_32_tensor.dtype"
      ],
      "metadata": {
        "colab": {
          "base_uri": "https://localhost:8080/"
        },
        "id": "kBAhbWBN4OkQ",
        "outputId": "5da4869b-a3d0-4a4a-ea17-2f8cc31d6b94"
      },
      "execution_count": null,
      "outputs": [
        {
          "output_type": "execute_result",
          "data": {
            "text/plain": [
              "(tensor([1., 2., 3., 4.]), torch.float32)"
            ]
          },
          "metadata": {},
          "execution_count": 26
        }
      ]
    },
    {
      "cell_type": "code",
      "source": [
        "# convert the float32 to int32\n",
        "int32_tensor=float_32_tensor.type(torch.int32)\n",
        "int32_tensor,int32_tensor.dtype"
      ],
      "metadata": {
        "colab": {
          "base_uri": "https://localhost:8080/"
        },
        "id": "fsdtuSfG58Ph",
        "outputId": "0e6d8231-f3a2-4074-b3bb-eb273e08c51c"
      },
      "execution_count": null,
      "outputs": [
        {
          "output_type": "execute_result",
          "data": {
            "text/plain": [
              "(tensor([1, 2, 3, 4], dtype=torch.int32), torch.int32)"
            ]
          },
          "metadata": {},
          "execution_count": 27
        }
      ]
    },
    {
      "cell_type": "code",
      "source": [
        "# multiply 2 different types of tensors\n",
        "results=float_32_tensor * int32_tensor\n",
        "results, results.dtype"
      ],
      "metadata": {
        "colab": {
          "base_uri": "https://localhost:8080/"
        },
        "id": "rCs6KGF96cD4",
        "outputId": "d245eb8e-8ef3-4176-edb2-61f6787257be"
      },
      "execution_count": null,
      "outputs": [
        {
          "output_type": "execute_result",
          "data": {
            "text/plain": [
              "(tensor([ 1.,  4.,  9., 16.]), torch.float32)"
            ]
          },
          "metadata": {},
          "execution_count": 28
        }
      ]
    },
    {
      "cell_type": "markdown",
      "source": [
        "# Get the information form tensor\n",
        "- Get the datatypes we use `.dtype`\n",
        "- Get the device we use `.device`\n",
        "- Get the shape we use `.shape`"
      ],
      "metadata": {
        "id": "D4dXuthp8-4F"
      }
    },
    {
      "cell_type": "code",
      "source": [
        "## Getting informtion from tensors\n",
        "info_tensor=torch.rand(3,4,dtype=torch.float16)\n",
        "print(f\"Tensor: \\n{info_tensor}\")\n",
        "\n",
        "print(\"*\"*50)\n",
        "print(f\"Shape: {info_tensor.shape}\")\n",
        "print(\"*\"*50)\n",
        "\n",
        "print(f\"Datatypes: {info_tensor.dtype}\")\n",
        "print(\"*\"*50)\n",
        "\n",
        "print(f\"Device: {info_tensor.device}\")"
      ],
      "metadata": {
        "colab": {
          "base_uri": "https://localhost:8080/"
        },
        "id": "LlDYVuKm60-b",
        "outputId": "0b1348fb-c758-4206-e2ac-65f93763087e"
      },
      "execution_count": null,
      "outputs": [
        {
          "output_type": "stream",
          "name": "stdout",
          "text": [
            "Tensor: \n",
            "tensor([[0.3828, 0.6455, 0.9214, 0.5928],\n",
            "        [0.7314, 0.4336, 0.9888, 0.9810],\n",
            "        [0.5352, 0.0381, 0.5249, 0.5913]], dtype=torch.float16)\n",
            "**************************************************\n",
            "Shape: torch.Size([3, 4])\n",
            "**************************************************\n",
            "Datatypes: torch.float16\n",
            "**************************************************\n",
            "Device: cpu\n"
          ]
        }
      ]
    },
    {
      "cell_type": "markdown",
      "source": [
        "# Tensor Manipulation\n",
        "- **Tensor Operations include**\n",
        "  - **Addition**\n",
        "  - **Substraction**\n",
        "  - **Multplication**\n",
        "  - **Division**"
      ],
      "metadata": {
        "id": "vbKQNcQdQ7TS"
      }
    },
    {
      "cell_type": "code",
      "source": [
        "# Create a tensor\n",
        "tensor=torch.tensor([2,4,6])\n",
        "\n",
        "print(f\"Tensor: {tensor}\")\n",
        "print(\"*\"*50)\n",
        "\n",
        "tensor_add=tensor+50\n",
        "print(f\"Tensor Add: {tensor_add}\")"
      ],
      "metadata": {
        "colab": {
          "base_uri": "https://localhost:8080/"
        },
        "id": "75oj-l8C8-Ol",
        "outputId": "ff20f948-3a6b-4060-dc1e-cbaeb24b8c18"
      },
      "execution_count": null,
      "outputs": [
        {
          "output_type": "stream",
          "name": "stdout",
          "text": [
            "Tensor: tensor([2, 4, 6])\n",
            "**************************************************\n",
            "Tensor Add: tensor([52, 54, 56])\n"
          ]
        }
      ]
    },
    {
      "cell_type": "code",
      "source": [
        "print(f\"Tensor: {tensor}\")\n",
        "print(\"*\"*50)\n",
        "\n",
        "tensor_sub=tensor-50\n",
        "print(f\"Tensor Add: {tensor_sub}\")"
      ],
      "metadata": {
        "colab": {
          "base_uri": "https://localhost:8080/"
        },
        "id": "GfjgUnck-qjJ",
        "outputId": "4162bb2b-44e8-4bb1-db9a-1754f080224c"
      },
      "execution_count": null,
      "outputs": [
        {
          "output_type": "stream",
          "name": "stdout",
          "text": [
            "Tensor: tensor([2, 4, 6])\n",
            "**************************************************\n",
            "Tensor Add: tensor([-48, -46, -44])\n"
          ]
        }
      ]
    },
    {
      "cell_type": "code",
      "source": [
        "print(f\"Tensor: {tensor}\")\n",
        "print(\"*\"*50)\n",
        "\n",
        "tensor_mul=tensor*50\n",
        "print(f\"Tensor Add: {tensor_mul}\")"
      ],
      "metadata": {
        "colab": {
          "base_uri": "https://localhost:8080/"
        },
        "id": "iDjCi5yHSR4C",
        "outputId": "7c140c8b-16c6-41f3-c686-d3314b840573"
      },
      "execution_count": null,
      "outputs": [
        {
          "output_type": "stream",
          "name": "stdout",
          "text": [
            "Tensor: tensor([2, 4, 6])\n",
            "**************************************************\n",
            "Tensor Add: tensor([100, 200, 300])\n"
          ]
        }
      ]
    },
    {
      "cell_type": "code",
      "source": [
        "print(f\"Tensor: {tensor}\")\n",
        "print(\"*\"*50)\n",
        "\n",
        "tensor_div=tensor/10\n",
        "print(f\"Tensor Add: {tensor_div}\")"
      ],
      "metadata": {
        "colab": {
          "base_uri": "https://localhost:8080/"
        },
        "id": "HMd2yCBNSR0r",
        "outputId": "5077a4f2-d74d-4e2c-dcdb-79f9b5bbcf5f"
      },
      "execution_count": null,
      "outputs": [
        {
          "output_type": "stream",
          "name": "stdout",
          "text": [
            "Tensor: tensor([2, 4, 6])\n",
            "**************************************************\n",
            "Tensor Add: tensor([0.2000, 0.4000, 0.6000])\n"
          ]
        }
      ]
    },
    {
      "cell_type": "markdown",
      "source": [
        "# Matrix Multpliplication\n",
        "- **Two ways of multlipication in neural network**\n",
        " - `Element Wise Multplipication`\n",
        " - `Matrix Multplplication`\n",
        "\n",
        "- For more information check out here: https://www.mathsisfun.com/\n",
        "\n",
        "- **There are 2 main rules for matrix multpliplications**\n",
        "  - The `Inner dimensions` must match\n",
        "    - `(3,2) @ (3,2)` won't work\n",
        "    - `(3,2) @ (2,3)` will work\n",
        "  - The resultant matrix is the shape of outer dimension\n",
        "    - `(3,2) @ (2,3)` Result dimension `(3,3)`\n",
        "  \n",
        "- Check out for matrix multliplication: http://matrixmultiplication.xyz/"
      ],
      "metadata": {
        "id": "krrmlmmCU5Um"
      }
    },
    {
      "cell_type": "code",
      "source": [
        "# Make a random matrix with different inner dimmesion and multpliply\n",
        "fir=torch.rand(2,3)\n",
        "sec=torch.rand(2,3)\n",
        "\n",
        "print(f\"First Matrix: \\n{fir}\")\n",
        "print(\"*\"*50)\n",
        "print(f\"Second Matrix: \\n{sec}\")\n",
        "\n",
        "print(\"*\"*50)\n",
        "print(f\"Result: \\n{torch.matmul(fir,sec)}\")"
      ],
      "metadata": {
        "colab": {
          "base_uri": "https://localhost:8080/",
          "height": 332
        },
        "id": "uHHnS5uBbyAO",
        "outputId": "c16b9db5-c1f1-40ff-f215-1cd099677466"
      },
      "execution_count": null,
      "outputs": [
        {
          "output_type": "stream",
          "name": "stdout",
          "text": [
            "First Matrix: \n",
            "tensor([[0.3960, 0.7796, 0.4588],\n",
            "        [0.0629, 0.5610, 0.6458]])\n",
            "**************************************************\n",
            "Second Matrix: \n",
            "tensor([[0.4340, 0.2165, 0.6226],\n",
            "        [0.7616, 0.2087, 0.2469]])\n",
            "**************************************************\n"
          ]
        },
        {
          "output_type": "error",
          "ename": "RuntimeError",
          "evalue": "mat1 and mat2 shapes cannot be multiplied (2x3 and 2x3)",
          "traceback": [
            "\u001b[0;31m---------------------------------------------------------------------------\u001b[0m",
            "\u001b[0;31mRuntimeError\u001b[0m                              Traceback (most recent call last)",
            "\u001b[0;32m<ipython-input-34-36b73d9ef853>\u001b[0m in \u001b[0;36m<cell line: 10>\u001b[0;34m()\u001b[0m\n\u001b[1;32m      8\u001b[0m \u001b[0;34m\u001b[0m\u001b[0m\n\u001b[1;32m      9\u001b[0m \u001b[0mprint\u001b[0m\u001b[0;34m(\u001b[0m\u001b[0;34m\"*\"\u001b[0m\u001b[0;34m*\u001b[0m\u001b[0;36m50\u001b[0m\u001b[0;34m)\u001b[0m\u001b[0;34m\u001b[0m\u001b[0;34m\u001b[0m\u001b[0m\n\u001b[0;32m---> 10\u001b[0;31m \u001b[0mprint\u001b[0m\u001b[0;34m(\u001b[0m\u001b[0;34mf\"Result: \\n{torch.matmul(fir,sec)}\"\u001b[0m\u001b[0;34m)\u001b[0m\u001b[0;34m\u001b[0m\u001b[0;34m\u001b[0m\u001b[0m\n\u001b[0m",
            "\u001b[0;31mRuntimeError\u001b[0m: mat1 and mat2 shapes cannot be multiplied (2x3 and 2x3)"
          ]
        }
      ]
    },
    {
      "cell_type": "code",
      "source": [
        "# Make a matrix with same inner dimesion and then multpliply\n",
        "fir=torch.rand(2,3)  # 2-Rows and 3-Columns\n",
        "sec=torch.rand(3,2)  # 3-Rows and 2-Columns\n",
        "\n",
        "print(f\"First Matrix: \\n{fir}\")\n",
        "print(\"*\"*50)\n",
        "print(f\"Second Matrix: \\n{sec}\")\n",
        "\n",
        "print(\"*\"*50)\n",
        "print(f\"Result: \\n{torch.matmul(fir,sec)}\")"
      ],
      "metadata": {
        "id": "rbnqI8bMbx3v",
        "colab": {
          "base_uri": "https://localhost:8080/"
        },
        "outputId": "27a881ce-8cbd-414e-b562-13ffa7914d71"
      },
      "execution_count": null,
      "outputs": [
        {
          "output_type": "stream",
          "name": "stdout",
          "text": [
            "First Matrix: \n",
            "tensor([[0.1392, 0.4339, 0.9086],\n",
            "        [0.8320, 0.9049, 0.0947]])\n",
            "**************************************************\n",
            "Second Matrix: \n",
            "tensor([[0.1305, 0.1554],\n",
            "        [0.7813, 0.0346],\n",
            "        [0.4705, 0.7616]])\n",
            "**************************************************\n",
            "Result: \n",
            "tensor([[0.7847, 0.7286],\n",
            "        [0.8602, 0.2327]])\n"
          ]
        }
      ]
    },
    {
      "cell_type": "code",
      "source": [
        "# =====================Element Wise=============================#\n",
        "# Matrix 1\n",
        "mat1=torch.tensor([\n",
        "    [1,4],\n",
        "    [6,5]\n",
        "])\n",
        "\n",
        "# Matrix 2\n",
        "mat2=torch.tensor([\n",
        "    [6,5],\n",
        "    [3,9]\n",
        "])\n",
        "\n",
        "print(f\"Matrix 1: \\n{mat1}\")\n",
        "print(\"*\"*50)\n",
        "print(f\"Matrix 2: \\n{mat2}\")\n",
        "\n",
        "result=mat1*mat2\n",
        "print(\"*\"*50)\n",
        "print(f\"Result: \\n{result}\")"
      ],
      "metadata": {
        "id": "QrJo7L7KSRxm",
        "colab": {
          "base_uri": "https://localhost:8080/"
        },
        "outputId": "41d926b0-5b08-4074-c750-51ea5ed377b7"
      },
      "execution_count": null,
      "outputs": [
        {
          "output_type": "stream",
          "name": "stdout",
          "text": [
            "Matrix 1: \n",
            "tensor([[1, 4],\n",
            "        [6, 5]])\n",
            "**************************************************\n",
            "Matrix 2: \n",
            "tensor([[6, 5],\n",
            "        [3, 9]])\n",
            "**************************************************\n",
            "Result: \n",
            "tensor([[ 6, 20],\n",
            "        [18, 45]])\n"
          ]
        }
      ]
    },
    {
      "cell_type": "code",
      "source": [
        "# =====================Matrix Multliplication=============================#\n",
        "# Matrix 1\n",
        "mat1=torch.tensor([\n",
        "    [1,4],\n",
        "    [6,5]\n",
        "])\n",
        "\n",
        "# Matrix 2\n",
        "mat2=torch.tensor([\n",
        "    [6,5],\n",
        "    [3,9]\n",
        "])\n",
        "\n",
        "print(f\"Matrix 1: \\n{mat1}\")\n",
        "print(\"*\"*50)\n",
        "print(f\"Matrix 2: \\n{mat2}\")\n",
        "\n",
        "result=torch.matmul(mat1,mat2)\n",
        "# Short version is torch.mm\n",
        "\n",
        "print(\"*\"*50)\n",
        "print(f\"Result: \\n{result}\")"
      ],
      "metadata": {
        "colab": {
          "base_uri": "https://localhost:8080/"
        },
        "id": "WcpqzOPVSRuH",
        "outputId": "5f5925b5-6c12-4c34-f391-39828278b4ac"
      },
      "execution_count": null,
      "outputs": [
        {
          "output_type": "stream",
          "name": "stdout",
          "text": [
            "Matrix 1: \n",
            "tensor([[1, 4],\n",
            "        [6, 5]])\n",
            "**************************************************\n",
            "Matrix 2: \n",
            "tensor([[6, 5],\n",
            "        [3, 9]])\n",
            "**************************************************\n",
            "Result: \n",
            "tensor([[18, 41],\n",
            "        [51, 75]])\n"
          ]
        }
      ]
    },
    {
      "cell_type": "code",
      "source": [
        "fir=torch.rand(2,3)\n",
        "sec=torch.rand(2,3)\n",
        "\n",
        "print(f\"First Matrix: \\n{fir}\")\n",
        "print(\"*\"*50)\n",
        "print(f\"Second Matrix: \\n{sec}\")\n",
        "\n",
        "print(\"*\"*50)\n",
        "print(f\"Result: \\n{torch.matmul(fir,sec)}\")"
      ],
      "metadata": {
        "id": "-MIgO6gLV-BO",
        "colab": {
          "base_uri": "https://localhost:8080/",
          "height": 332
        },
        "outputId": "6c049d37-6082-4d9a-d306-0c0e88405b6e"
      },
      "execution_count": null,
      "outputs": [
        {
          "output_type": "stream",
          "name": "stdout",
          "text": [
            "First Matrix: \n",
            "tensor([[0.7468, 0.8667, 0.8697],\n",
            "        [0.2153, 0.0167, 0.7238]])\n",
            "**************************************************\n",
            "Second Matrix: \n",
            "tensor([[0.9347, 0.8397, 0.4826],\n",
            "        [0.9845, 0.6291, 0.7613]])\n",
            "**************************************************\n"
          ]
        },
        {
          "output_type": "error",
          "ename": "RuntimeError",
          "evalue": "mat1 and mat2 shapes cannot be multiplied (2x3 and 2x3)",
          "traceback": [
            "\u001b[0;31m---------------------------------------------------------------------------\u001b[0m",
            "\u001b[0;31mRuntimeError\u001b[0m                              Traceback (most recent call last)",
            "\u001b[0;32m<ipython-input-38-4d95e75ba7c7>\u001b[0m in \u001b[0;36m<cell line: 9>\u001b[0;34m()\u001b[0m\n\u001b[1;32m      7\u001b[0m \u001b[0;34m\u001b[0m\u001b[0m\n\u001b[1;32m      8\u001b[0m \u001b[0mprint\u001b[0m\u001b[0;34m(\u001b[0m\u001b[0;34m\"*\"\u001b[0m\u001b[0;34m*\u001b[0m\u001b[0;36m50\u001b[0m\u001b[0;34m)\u001b[0m\u001b[0;34m\u001b[0m\u001b[0;34m\u001b[0m\u001b[0m\n\u001b[0;32m----> 9\u001b[0;31m \u001b[0mprint\u001b[0m\u001b[0;34m(\u001b[0m\u001b[0;34mf\"Result: \\n{torch.matmul(fir,sec)}\"\u001b[0m\u001b[0;34m)\u001b[0m\u001b[0;34m\u001b[0m\u001b[0;34m\u001b[0m\u001b[0m\n\u001b[0m",
            "\u001b[0;31mRuntimeError\u001b[0m: mat1 and mat2 shapes cannot be multiplied (2x3 and 2x3)"
          ]
        }
      ]
    },
    {
      "cell_type": "code",
      "source": [
        "# Now we will fix the issue using by applying the transpose\n",
        "fir=torch.rand(2,3)\n",
        "sec=torch.rand(2,3)\n",
        "\n",
        "print(f\"First Matrix: \\n{fir}\")\n",
        "print(\"*\"*50)\n",
        "print(f\"Second Matrix: \\n{sec}\")\n",
        "\n",
        "print(\"*\"*50)\n",
        "print(f\"Result: \\n{torch.matmul(fir,sec.T)}\")"
      ],
      "metadata": {
        "colab": {
          "base_uri": "https://localhost:8080/"
        },
        "id": "VC3m2jgJfS6D",
        "outputId": "aca69987-ca6f-4215-be7f-61300b331a37"
      },
      "execution_count": null,
      "outputs": [
        {
          "output_type": "stream",
          "name": "stdout",
          "text": [
            "First Matrix: \n",
            "tensor([[0.2238, 0.2200, 0.8841],\n",
            "        [0.2723, 0.0309, 0.4829]])\n",
            "**************************************************\n",
            "Second Matrix: \n",
            "tensor([[0.1751, 0.1410, 0.1982],\n",
            "        [0.0201, 0.8578, 0.9978]])\n",
            "**************************************************\n",
            "Result: \n",
            "tensor([[0.2454, 1.0754],\n",
            "        [0.1478, 0.5139]])\n"
          ]
        }
      ]
    },
    {
      "cell_type": "markdown",
      "source": [
        "# Tensor Aggreation\n",
        "- Tensor Aggreeation are `min`,`max`,`Mean` , `Medain` like that"
      ],
      "metadata": {
        "id": "WyRQyXLugxVo"
      }
    },
    {
      "cell_type": "code",
      "source": [
        "tensor_a= torch.arange(start=1,end=100,step=2,dtype=torch.float32)\n",
        "print(f\"Tensor: {tensor_a}\")"
      ],
      "metadata": {
        "colab": {
          "base_uri": "https://localhost:8080/"
        },
        "id": "GOpfTFBjfdIc",
        "outputId": "9f0f2f46-6061-4938-dffb-97e370b6534a"
      },
      "execution_count": null,
      "outputs": [
        {
          "output_type": "stream",
          "name": "stdout",
          "text": [
            "Tensor: tensor([ 1.,  3.,  5.,  7.,  9., 11., 13., 15., 17., 19., 21., 23., 25., 27.,\n",
            "        29., 31., 33., 35., 37., 39., 41., 43., 45., 47., 49., 51., 53., 55.,\n",
            "        57., 59., 61., 63., 65., 67., 69., 71., 73., 75., 77., 79., 81., 83.,\n",
            "        85., 87., 89., 91., 93., 95., 97., 99.])\n"
          ]
        }
      ]
    },
    {
      "cell_type": "code",
      "source": [
        "# Min\n",
        "tensor_a.min(),  min(tensor_a)"
      ],
      "metadata": {
        "colab": {
          "base_uri": "https://localhost:8080/"
        },
        "id": "Z4GA8KyJiF6O",
        "outputId": "17c73bd3-b07f-416e-8983-18dc279d4eda"
      },
      "execution_count": null,
      "outputs": [
        {
          "output_type": "execute_result",
          "data": {
            "text/plain": [
              "(tensor(1.), tensor(1.))"
            ]
          },
          "metadata": {},
          "execution_count": 41
        }
      ]
    },
    {
      "cell_type": "code",
      "source": [
        "# Max\n",
        "tensor_a.max(),  max(tensor_a)"
      ],
      "metadata": {
        "colab": {
          "base_uri": "https://localhost:8080/"
        },
        "id": "-71L55N4fhDv",
        "outputId": "00b1f1cf-378a-4c3d-cdea-5877bbb7bf80"
      },
      "execution_count": null,
      "outputs": [
        {
          "output_type": "execute_result",
          "data": {
            "text/plain": [
              "(tensor(99.), tensor(99.))"
            ]
          },
          "metadata": {},
          "execution_count": 42
        }
      ]
    },
    {
      "cell_type": "code",
      "source": [
        "# Mean\n",
        "torch.mean(tensor_a),tensor_a.mean()"
      ],
      "metadata": {
        "colab": {
          "base_uri": "https://localhost:8080/"
        },
        "id": "PUgdd12Bi0UV",
        "outputId": "f5e8cbf9-607e-41a4-9a17-994ff57fe292"
      },
      "execution_count": null,
      "outputs": [
        {
          "output_type": "execute_result",
          "data": {
            "text/plain": [
              "(tensor(50.), tensor(50.))"
            ]
          },
          "metadata": {},
          "execution_count": 43
        }
      ]
    },
    {
      "cell_type": "code",
      "source": [
        "# Median\n",
        "torch.median(tensor_a),tensor_a.median()"
      ],
      "metadata": {
        "colab": {
          "base_uri": "https://localhost:8080/"
        },
        "id": "VMJ1BSWli0Q1",
        "outputId": "a33ba830-a731-4d1f-f64b-44225d3f78df"
      },
      "execution_count": null,
      "outputs": [
        {
          "output_type": "execute_result",
          "data": {
            "text/plain": [
              "(tensor(49.), tensor(49.))"
            ]
          },
          "metadata": {},
          "execution_count": 44
        }
      ]
    },
    {
      "cell_type": "code",
      "source": [
        "# Sum\n",
        "torch.sum(tensor_a),tensor_a.sum()"
      ],
      "metadata": {
        "colab": {
          "base_uri": "https://localhost:8080/"
        },
        "id": "fZOTlTs0i0Nl",
        "outputId": "5b167591-2b2b-4541-b487-fb678f7e1cb8"
      },
      "execution_count": null,
      "outputs": [
        {
          "output_type": "execute_result",
          "data": {
            "text/plain": [
              "(tensor(2500.), tensor(2500.))"
            ]
          },
          "metadata": {},
          "execution_count": 45
        }
      ]
    },
    {
      "cell_type": "markdown",
      "source": [
        "# Positional max and min\n",
        "- Position min and max show the index"
      ],
      "metadata": {
        "id": "2vQcLA9MjlGz"
      }
    },
    {
      "cell_type": "code",
      "source": [
        "tensor_b=torch.arange(start=1,end=50,step=5,dtype=torch.float32)\n",
        "print(f\"Tensor: {tensor_b}\")"
      ],
      "metadata": {
        "colab": {
          "base_uri": "https://localhost:8080/"
        },
        "id": "pFSmktHIi0A3",
        "outputId": "98e7036f-9db6-491c-b7a3-87d8bff89c62"
      },
      "execution_count": null,
      "outputs": [
        {
          "output_type": "stream",
          "name": "stdout",
          "text": [
            "Tensor: tensor([ 1.,  6., 11., 16., 21., 26., 31., 36., 41., 46.])\n"
          ]
        }
      ]
    },
    {
      "cell_type": "code",
      "source": [
        "# Argmin\n",
        "tensor_b.argmin()"
      ],
      "metadata": {
        "colab": {
          "base_uri": "https://localhost:8080/"
        },
        "id": "8tJnSfTViz9q",
        "outputId": "9f9a441e-6244-46fc-f41d-7d52ff918544"
      },
      "execution_count": null,
      "outputs": [
        {
          "output_type": "execute_result",
          "data": {
            "text/plain": [
              "tensor(0)"
            ]
          },
          "metadata": {},
          "execution_count": 47
        }
      ]
    },
    {
      "cell_type": "code",
      "source": [
        "# Argmax\n",
        "tensor_b.argmax()"
      ],
      "metadata": {
        "colab": {
          "base_uri": "https://localhost:8080/"
        },
        "id": "gqeIvJ9qiz6c",
        "outputId": "b55ca282-3788-48db-feef-0a107482165a"
      },
      "execution_count": null,
      "outputs": [
        {
          "output_type": "execute_result",
          "data": {
            "text/plain": [
              "tensor(9)"
            ]
          },
          "metadata": {},
          "execution_count": 48
        }
      ]
    },
    {
      "cell_type": "code",
      "source": [],
      "metadata": {
        "id": "zqVDaCxeiz3e"
      },
      "execution_count": null,
      "outputs": []
    },
    {
      "cell_type": "markdown",
      "source": [
        "# Reshaping, Stacking, Squeezing and Unsqueezing Tensors\n",
        "* `Reshape` => Change the shape of tensor\n",
        "* `Stacking` => Stack multliply tensors on top of each others\n",
        "  * Learn More About Stcking: https://pytorch.org/docs/stable/generated/torch.stack.html\n",
        "* `Squeeze` It can remove all the single dimensions\n",
        "  * More about squeeze: https://pytorch.org/docs/main/generated/torch.squeeze.html\n",
        "\n",
        "* `UnSqueeze` It can add the single dimensions\n",
        "  * More about squeeze: https://pytorch.org/docs/main/generated/torch.unsqueeze.html"
      ],
      "metadata": {
        "id": "r-FgclbeksiJ"
      }
    },
    {
      "cell_type": "code",
      "source": [
        "import torch"
      ],
      "metadata": {
        "id": "60Zd8SUI2avY"
      },
      "execution_count": null,
      "outputs": []
    },
    {
      "cell_type": "code",
      "source": [
        "# Make a tensors\n",
        "x=torch.arange(1,13)\n",
        "\n",
        "x, x.shape"
      ],
      "metadata": {
        "id": "HLy7mB7yk4i3",
        "colab": {
          "base_uri": "https://localhost:8080/"
        },
        "outputId": "d9579cb7-95b5-4aef-c724-866803a8ebf8"
      },
      "execution_count": null,
      "outputs": [
        {
          "output_type": "execute_result",
          "data": {
            "text/plain": [
              "(tensor([ 1,  2,  3,  4,  5,  6,  7,  8,  9, 10, 11, 12]), torch.Size([12]))"
            ]
          },
          "metadata": {},
          "execution_count": 80
        }
      ]
    },
    {
      "cell_type": "code",
      "source": [
        "# Reshape the tensors\n",
        "x_reshape=x.reshape(12,1)\n",
        "x_reshape"
      ],
      "metadata": {
        "id": "ZYiLErOcmR2E",
        "colab": {
          "base_uri": "https://localhost:8080/"
        },
        "outputId": "b722fc9b-2166-4fee-dc41-a3846af49b32"
      },
      "execution_count": null,
      "outputs": [
        {
          "output_type": "execute_result",
          "data": {
            "text/plain": [
              "tensor([[ 1],\n",
              "        [ 2],\n",
              "        [ 3],\n",
              "        [ 4],\n",
              "        [ 5],\n",
              "        [ 6],\n",
              "        [ 7],\n",
              "        [ 8],\n",
              "        [ 9],\n",
              "        [10],\n",
              "        [11],\n",
              "        [12]])"
            ]
          },
          "metadata": {},
          "execution_count": 81
        }
      ]
    },
    {
      "cell_type": "code",
      "source": [
        "# Reshape the tensors\n",
        "x_reshape=x.reshape(3,4)\n",
        "x_reshape"
      ],
      "metadata": {
        "colab": {
          "base_uri": "https://localhost:8080/"
        },
        "id": "VbFUJ3AUwCcT",
        "outputId": "092cb5a1-2eeb-4cc6-de4d-6c006c5a6fc5"
      },
      "execution_count": null,
      "outputs": [
        {
          "output_type": "execute_result",
          "data": {
            "text/plain": [
              "tensor([[ 1,  2,  3,  4],\n",
              "        [ 5,  6,  7,  8],\n",
              "        [ 9, 10, 11, 12]])"
            ]
          },
          "metadata": {},
          "execution_count": 82
        }
      ]
    },
    {
      "cell_type": "code",
      "source": [
        "# Reshape the tensors\n",
        "x_reshape=x.reshape(4,3)\n",
        "x_reshape"
      ],
      "metadata": {
        "colab": {
          "base_uri": "https://localhost:8080/"
        },
        "id": "_oKwXKb-wL8h",
        "outputId": "e490e930-a626-4658-f3c3-fc590a2ebe0b"
      },
      "execution_count": null,
      "outputs": [
        {
          "output_type": "execute_result",
          "data": {
            "text/plain": [
              "tensor([[ 1,  2,  3],\n",
              "        [ 4,  5,  6],\n",
              "        [ 7,  8,  9],\n",
              "        [10, 11, 12]])"
            ]
          },
          "metadata": {},
          "execution_count": 83
        }
      ]
    },
    {
      "cell_type": "code",
      "source": [
        "# Reshape the tensors\n",
        "x_reshape=x.reshape(2,6)\n",
        "x_reshape"
      ],
      "metadata": {
        "colab": {
          "base_uri": "https://localhost:8080/"
        },
        "id": "3QXGeIoswPMy",
        "outputId": "2518dd22-b5ff-419a-c77d-397f96ab3f12"
      },
      "execution_count": null,
      "outputs": [
        {
          "output_type": "execute_result",
          "data": {
            "text/plain": [
              "tensor([[ 1,  2,  3,  4,  5,  6],\n",
              "        [ 7,  8,  9, 10, 11, 12]])"
            ]
          },
          "metadata": {},
          "execution_count": 84
        }
      ]
    },
    {
      "cell_type": "code",
      "source": [
        "# Reshape the tensors\n",
        "x_reshape=x.reshape(6,2)\n",
        "x_reshape"
      ],
      "metadata": {
        "colab": {
          "base_uri": "https://localhost:8080/"
        },
        "id": "C56d-eSlwTXG",
        "outputId": "21ed84a8-a955-4635-bab5-23592f359730"
      },
      "execution_count": null,
      "outputs": [
        {
          "output_type": "execute_result",
          "data": {
            "text/plain": [
              "tensor([[ 1,  2],\n",
              "        [ 3,  4],\n",
              "        [ 5,  6],\n",
              "        [ 7,  8],\n",
              "        [ 9, 10],\n",
              "        [11, 12]])"
            ]
          },
          "metadata": {},
          "execution_count": 85
        }
      ]
    },
    {
      "cell_type": "code",
      "source": [
        "# Reshape the tensors\n",
        "x_reshape=x.reshape(2,6)\n",
        "x_reshape"
      ],
      "metadata": {
        "id": "pjke3j-8wTTt",
        "colab": {
          "base_uri": "https://localhost:8080/"
        },
        "outputId": "150d9201-72ab-4715-91ae-f86a09056487"
      },
      "execution_count": null,
      "outputs": [
        {
          "output_type": "execute_result",
          "data": {
            "text/plain": [
              "tensor([[ 1,  2,  3,  4,  5,  6],\n",
              "        [ 7,  8,  9, 10, 11, 12]])"
            ]
          },
          "metadata": {},
          "execution_count": 86
        }
      ]
    },
    {
      "cell_type": "markdown",
      "source": [
        "# Note\n",
        "* **Reshape and view are same means both are doing the same thing**"
      ],
      "metadata": {
        "id": "htISrbZIwTQA"
      }
    },
    {
      "cell_type": "markdown",
      "source": [
        "# Stacking\n",
        "- Syntax: `torch.stack([tensor1,tensor2,......],dim=?)`\n",
        "  * `dim` should be depend upon the dimension of the tensor you want to stack.\n",
        "- We can also use `hstack` for stack the tensors `horizentally`\n",
        "- We can also use `vstack` for stack the tensors `vertically`"
      ],
      "metadata": {
        "id": "j16jMWPgwTM0"
      }
    },
    {
      "cell_type": "code",
      "source": [
        "# Tensor1\n",
        "TENSOR1=torch.arange(1,11).reshape(2,5)\n",
        "\n",
        "# Tensor2\n",
        "TENSOR2=torch.arange(11,21).reshape(2,5)\n",
        "\n",
        "TENSOR1, TENSOR2"
      ],
      "metadata": {
        "colab": {
          "base_uri": "https://localhost:8080/"
        },
        "id": "uuif4h3HwTJk",
        "outputId": "932a9a79-28ec-41b3-94c0-b52f9d14513c"
      },
      "execution_count": null,
      "outputs": [
        {
          "output_type": "execute_result",
          "data": {
            "text/plain": [
              "(tensor([[ 1,  2,  3,  4,  5],\n",
              "         [ 6,  7,  8,  9, 10]]),\n",
              " tensor([[11, 12, 13, 14, 15],\n",
              "         [16, 17, 18, 19, 20]]))"
            ]
          },
          "metadata": {},
          "execution_count": 87
        }
      ]
    },
    {
      "cell_type": "code",
      "source": [
        "# Stack the tensors on top of each others\n",
        "stack_tensor=torch.stack([TENSOR1,TENSOR1])\n",
        "stack_tensor"
      ],
      "metadata": {
        "colab": {
          "base_uri": "https://localhost:8080/"
        },
        "id": "Dzdx42cDwTFV",
        "outputId": "109cfb53-e6f2-4860-c2fc-c2cbd396c18a"
      },
      "execution_count": null,
      "outputs": [
        {
          "output_type": "execute_result",
          "data": {
            "text/plain": [
              "tensor([[[ 1,  2,  3,  4,  5],\n",
              "         [ 6,  7,  8,  9, 10]],\n",
              "\n",
              "        [[ 1,  2,  3,  4,  5],\n",
              "         [ 6,  7,  8,  9, 10]]])"
            ]
          },
          "metadata": {},
          "execution_count": 88
        }
      ]
    },
    {
      "cell_type": "code",
      "source": [
        "# We can add all the tensors as we want\n",
        "stack_tensor=torch.stack([TENSOR1,TENSOR2,TENSOR1,TENSOR2],dim=0)\n",
        "stack_tensor"
      ],
      "metadata": {
        "colab": {
          "base_uri": "https://localhost:8080/"
        },
        "id": "nModxHRZwS9D",
        "outputId": "cba00248-b84c-4cc0-a5d3-8664c910075b"
      },
      "execution_count": null,
      "outputs": [
        {
          "output_type": "execute_result",
          "data": {
            "text/plain": [
              "tensor([[[ 1,  2,  3,  4,  5],\n",
              "         [ 6,  7,  8,  9, 10]],\n",
              "\n",
              "        [[11, 12, 13, 14, 15],\n",
              "         [16, 17, 18, 19, 20]],\n",
              "\n",
              "        [[ 1,  2,  3,  4,  5],\n",
              "         [ 6,  7,  8,  9, 10]],\n",
              "\n",
              "        [[11, 12, 13, 14, 15],\n",
              "         [16, 17, 18, 19, 20]]])"
            ]
          },
          "metadata": {},
          "execution_count": 89
        }
      ]
    },
    {
      "cell_type": "code",
      "source": [
        "# We can add all the tensors as we want\n",
        "stack_tensor=torch.stack([TENSOR1,TENSOR2,TENSOR1,TENSOR2],dim=1)\n",
        "stack_tensor"
      ],
      "metadata": {
        "colab": {
          "base_uri": "https://localhost:8080/"
        },
        "id": "TcXsbt7R0xZv",
        "outputId": "75a49623-b22e-49cb-aead-48253db2f2ed"
      },
      "execution_count": null,
      "outputs": [
        {
          "output_type": "execute_result",
          "data": {
            "text/plain": [
              "tensor([[[ 1,  2,  3,  4,  5],\n",
              "         [11, 12, 13, 14, 15],\n",
              "         [ 1,  2,  3,  4,  5],\n",
              "         [11, 12, 13, 14, 15]],\n",
              "\n",
              "        [[ 6,  7,  8,  9, 10],\n",
              "         [16, 17, 18, 19, 20],\n",
              "         [ 6,  7,  8,  9, 10],\n",
              "         [16, 17, 18, 19, 20]]])"
            ]
          },
          "metadata": {},
          "execution_count": 90
        }
      ]
    },
    {
      "cell_type": "code",
      "source": [
        "# Note that if we can stack the tensors tensors should be the same shape\n",
        "stack_tensor=torch.stack([TENSOR1,x_reshape])\n",
        "stack_tensor"
      ],
      "metadata": {
        "colab": {
          "base_uri": "https://localhost:8080/",
          "height": 185
        },
        "id": "brjQlQF8zAAG",
        "outputId": "f806884e-e0fc-4a00-a353-c188bda7bd8f"
      },
      "execution_count": null,
      "outputs": [
        {
          "output_type": "error",
          "ename": "RuntimeError",
          "evalue": "stack expects each tensor to be equal size, but got [2, 5] at entry 0 and [6, 2] at entry 1",
          "traceback": [
            "\u001b[0;31m---------------------------------------------------------------------------\u001b[0m",
            "\u001b[0;31mRuntimeError\u001b[0m                              Traceback (most recent call last)",
            "\u001b[0;32m<ipython-input-69-c7fdfea14af6>\u001b[0m in \u001b[0;36m<cell line: 2>\u001b[0;34m()\u001b[0m\n\u001b[1;32m      1\u001b[0m \u001b[0;31m# We can add all the tensors as we want\u001b[0m\u001b[0;34m\u001b[0m\u001b[0;34m\u001b[0m\u001b[0m\n\u001b[0;32m----> 2\u001b[0;31m \u001b[0mstack_tensor\u001b[0m\u001b[0;34m=\u001b[0m\u001b[0mtorch\u001b[0m\u001b[0;34m.\u001b[0m\u001b[0mstack\u001b[0m\u001b[0;34m(\u001b[0m\u001b[0;34m[\u001b[0m\u001b[0mTENSOR1\u001b[0m\u001b[0;34m,\u001b[0m\u001b[0mx_reshape\u001b[0m\u001b[0;34m]\u001b[0m\u001b[0;34m)\u001b[0m\u001b[0;34m\u001b[0m\u001b[0;34m\u001b[0m\u001b[0m\n\u001b[0m\u001b[1;32m      3\u001b[0m \u001b[0mstack_tensor\u001b[0m\u001b[0;34m\u001b[0m\u001b[0;34m\u001b[0m\u001b[0m\n",
            "\u001b[0;31mRuntimeError\u001b[0m: stack expects each tensor to be equal size, but got [2, 5] at entry 0 and [6, 2] at entry 1"
          ]
        }
      ]
    },
    {
      "cell_type": "code",
      "source": [
        "# Stack horizentally\n",
        "h_stack=torch.hstack([TENSOR1,TENSOR2])\n",
        "h_stack"
      ],
      "metadata": {
        "id": "ZfkJq7wizgeT",
        "colab": {
          "base_uri": "https://localhost:8080/"
        },
        "outputId": "6c8b918f-240c-4ce0-f2fd-4579b594f155"
      },
      "execution_count": null,
      "outputs": [
        {
          "output_type": "execute_result",
          "data": {
            "text/plain": [
              "tensor([[ 1,  2,  3,  4,  5, 11, 12, 13, 14, 15],\n",
              "        [ 6,  7,  8,  9, 10, 16, 17, 18, 19, 20]])"
            ]
          },
          "metadata": {},
          "execution_count": 92
        }
      ]
    },
    {
      "cell_type": "code",
      "source": [
        "# Stack vertically\n",
        "v_stack=torch.vstack([TENSOR1,TENSOR2])\n",
        "v_stack"
      ],
      "metadata": {
        "id": "cLiPucAx1S3r",
        "colab": {
          "base_uri": "https://localhost:8080/"
        },
        "outputId": "46a40336-af6b-4607-8e76-0fedcfe90faf"
      },
      "execution_count": null,
      "outputs": [
        {
          "output_type": "execute_result",
          "data": {
            "text/plain": [
              "tensor([[ 1,  2,  3,  4,  5],\n",
              "        [ 6,  7,  8,  9, 10],\n",
              "        [11, 12, 13, 14, 15],\n",
              "        [16, 17, 18, 19, 20]])"
            ]
          },
          "metadata": {},
          "execution_count": 93
        }
      ]
    },
    {
      "cell_type": "markdown",
      "source": [
        "# Squeezing\n",
        "- Squeezing are used to remove the extra dimensions"
      ],
      "metadata": {
        "id": "MDMTDCa32zA2"
      }
    },
    {
      "cell_type": "code",
      "source": [
        "# Squezze\n",
        "x=torch.arange(1,10).reshape(1,9)\n",
        "\n",
        "x_squeeze=x.squeeze()\n",
        "\n",
        "print(\"============Squeeze==> Squeeze can remove all the single(1) dimensions===================\\n\")\n",
        "\n",
        "print(\"X: \",x)\n",
        "print(\"Shape of X: \",x.shape)\n",
        "print(\"x_squeeze: \",x_squeeze)\n",
        "print(\"Shape of x_squeeze: \",x_squeeze.shape)\n",
        "\n",
        "print(\"\\n=====================================\")"
      ],
      "metadata": {
        "colab": {
          "base_uri": "https://localhost:8080/"
        },
        "id": "X28Q_GnX2xY4",
        "outputId": "5d158226-082d-41f1-9f1d-02c5e698a2bf"
      },
      "execution_count": null,
      "outputs": [
        {
          "output_type": "stream",
          "name": "stdout",
          "text": [
            "============Squeeze==> Squeeze can remove all the single(1) dimensions===================\n",
            "\n",
            "X:  tensor([[1, 2, 3, 4, 5, 6, 7, 8, 9]])\n",
            "Shape of X:  torch.Size([1, 9])\n",
            "x_squeeze:  tensor([1, 2, 3, 4, 5, 6, 7, 8, 9])\n",
            "Shape of x_squeeze:  torch.Size([9])\n",
            "\n",
            "=====================================\n"
          ]
        }
      ]
    },
    {
      "cell_type": "markdown",
      "source": [
        "# Unsqueeze\n",
        "- It is similar to squeeze but i can add the extra dimensions"
      ],
      "metadata": {
        "id": "uVIWOczy5fzM"
      }
    },
    {
      "cell_type": "code",
      "source": [
        "# Squezze\n",
        "x=torch.arange(1,10).reshape(1,9)\n",
        "\n",
        "# Add the extra dimensions\n",
        "x_unsqueeze=x.unsqueeze(dim=0)\n",
        "\n",
        "print(\"============UnSqueeze==> Squeeze can add the dimensions===================\\n\")\n",
        "\n",
        "print(\"X: \",x)\n",
        "print(\"Shape of X: \",x.shape)\n",
        "print(\"x_unsqueeze: \",x_unsqueeze)\n",
        "print(\"Shape of x_unsqueeze: \",x_unsqueeze.shape)\n",
        "\n",
        "print(\"\\n=====================================\")"
      ],
      "metadata": {
        "colab": {
          "base_uri": "https://localhost:8080/"
        },
        "id": "9tmY3NvU3Qs0",
        "outputId": "464f050e-96bb-476e-8b8a-77b3e49f8961"
      },
      "execution_count": null,
      "outputs": [
        {
          "output_type": "stream",
          "name": "stdout",
          "text": [
            "============UnSqueeze==> Squeeze can add the dimensions===================\n",
            "\n",
            "X:  tensor([[1, 2, 3, 4, 5, 6, 7, 8, 9]])\n",
            "Shape of X:  torch.Size([1, 9])\n",
            "x_unsqueeze:  tensor([[[1, 2, 3, 4, 5, 6, 7, 8, 9]]])\n",
            "Shape of x_unsqueeze:  torch.Size([1, 1, 9])\n",
            "\n",
            "=====================================\n"
          ]
        }
      ]
    },
    {
      "cell_type": "markdown",
      "source": [
        "# Indexing"
      ],
      "metadata": {
        "id": "HCPgz6hu_Daf"
      }
    },
    {
      "cell_type": "code",
      "source": [
        "# Creating a tensor\n",
        "x=torch.zeros(4,4)\n",
        "x"
      ],
      "metadata": {
        "colab": {
          "base_uri": "https://localhost:8080/"
        },
        "id": "F3aC9ewt5spR",
        "outputId": "d65d7d33-58cf-497b-97e3-d5cd9238425a"
      },
      "execution_count": null,
      "outputs": [
        {
          "output_type": "execute_result",
          "data": {
            "text/plain": [
              "tensor([[0., 0., 0., 0.],\n",
              "        [0., 0., 0., 0.],\n",
              "        [0., 0., 0., 0.],\n",
              "        [0., 0., 0., 0.]])"
            ]
          },
          "metadata": {},
          "execution_count": 136
        }
      ]
    },
    {
      "cell_type": "code",
      "source": [
        "# let's start indexing and also apply some changes\n",
        "x[0]"
      ],
      "metadata": {
        "colab": {
          "base_uri": "https://localhost:8080/"
        },
        "id": "PRev2YsA_fMU",
        "outputId": "b9b734ae-44cb-4a4b-86c1-df997158c0bb"
      },
      "execution_count": null,
      "outputs": [
        {
          "output_type": "execute_result",
          "data": {
            "text/plain": [
              "tensor([0., 0., 0., 0.])"
            ]
          },
          "metadata": {},
          "execution_count": 137
        }
      ]
    },
    {
      "cell_type": "code",
      "source": [
        "# Chage the value of 2 row and 2 element witj -100\n",
        "x[1][1]=-100"
      ],
      "metadata": {
        "id": "2Lo786yz_1ED"
      },
      "execution_count": null,
      "outputs": []
    },
    {
      "cell_type": "code",
      "source": [
        "x"
      ],
      "metadata": {
        "colab": {
          "base_uri": "https://localhost:8080/"
        },
        "id": "bbOeLMcp_4-G",
        "outputId": "49b72d7b-e805-4069-c067-c9aacfae5495"
      },
      "execution_count": null,
      "outputs": [
        {
          "output_type": "execute_result",
          "data": {
            "text/plain": [
              "tensor([[   0.,    0.,    0.,    0.],\n",
              "        [   0., -100.,    0.,    0.],\n",
              "        [   0.,    0.,    0.,    0.],\n",
              "        [   0.,    0.,    0.,    0.]])"
            ]
          },
          "metadata": {},
          "execution_count": 141
        }
      ]
    },
    {
      "cell_type": "code",
      "source": [
        "# Now get the value we can change\n",
        "x[1][1]"
      ],
      "metadata": {
        "colab": {
          "base_uri": "https://localhost:8080/"
        },
        "id": "07vxDNxRAuGG",
        "outputId": "7e5aaee3-c151-4a61-8046-9da689a53f55"
      },
      "execution_count": null,
      "outputs": [
        {
          "output_type": "execute_result",
          "data": {
            "text/plain": [
              "tensor(-100.)"
            ]
          },
          "metadata": {},
          "execution_count": 143
        }
      ]
    },
    {
      "cell_type": "code",
      "source": [
        "# make another tenor\n",
        "x=torch.arange(1,10).reshape(1,3,3)\n",
        "x"
      ],
      "metadata": {
        "colab": {
          "base_uri": "https://localhost:8080/"
        },
        "id": "5lQ4T_quA2QA",
        "outputId": "2543d51e-047c-4427-d16e-8aca498ccb74"
      },
      "execution_count": null,
      "outputs": [
        {
          "output_type": "execute_result",
          "data": {
            "text/plain": [
              "tensor([[[1, 2, 3],\n",
              "         [4, 5, 6],\n",
              "         [7, 8, 9]]])"
            ]
          },
          "metadata": {},
          "execution_count": 144
        }
      ]
    },
    {
      "cell_type": "code",
      "source": [
        "# Now the challange is to get the only [3,6,9] value\n",
        "x[0][:,2]"
      ],
      "metadata": {
        "colab": {
          "base_uri": "https://localhost:8080/"
        },
        "id": "QTl_6x3VBisx",
        "outputId": "b0db7d24-d6e7-4b47-ed98-296399108af6"
      },
      "execution_count": null,
      "outputs": [
        {
          "output_type": "execute_result",
          "data": {
            "text/plain": [
              "tensor([3, 6, 9])"
            ]
          },
          "metadata": {},
          "execution_count": 157
        }
      ]
    },
    {
      "cell_type": "markdown",
      "source": [
        "# Pytorch and Numpy\n",
        "- Numpy is a popular scientific python numerical computing library\n",
        "- And because of this pytorch has functionality to interact with it.\n",
        "  * Data in `Numpy`, want in `pytorch` tensors=> `torch.from_numpy(n_dayarray)` and convert this into `pytorch tensors`\n",
        "  * From `Pytorch -> Numpy` -> `torch.Tensor.numpy()`"
      ],
      "metadata": {
        "id": "8dhYjlqTBmL2"
      }
    },
    {
      "cell_type": "markdown",
      "source": [
        "# Numpy `Array` => `Tensors`"
      ],
      "metadata": {
        "id": "4GaN9JE6DMYC"
      }
    },
    {
      "cell_type": "code",
      "source": [
        "import numpy as np"
      ],
      "metadata": {
        "id": "r4P81wggDMUD"
      },
      "execution_count": null,
      "outputs": []
    },
    {
      "cell_type": "code",
      "source": [
        "# Make a numpy array\n",
        "array1=np.arange(1,10)\n",
        "\n",
        "# convert the array into pytorch tensors\n",
        "tensor1=torch.from_numpy(array1)\n",
        "\n",
        "print(f\"Numpy Array:\\n{array1}\\n\")\n",
        "print(f\"Torch Tensors:\\n{tensor1}\")"
      ],
      "metadata": {
        "colab": {
          "base_uri": "https://localhost:8080/"
        },
        "id": "Mlgs63dLDMOJ",
        "outputId": "f8422e83-124f-4a90-9cb0-17b7ed650f0f"
      },
      "execution_count": null,
      "outputs": [
        {
          "output_type": "stream",
          "name": "stdout",
          "text": [
            "Numpy Array:\n",
            "[1 2 3 4 5 6 7 8 9]\n",
            "\n",
            "Torch Tensors:\n",
            "tensor([1, 2, 3, 4, 5, 6, 7, 8, 9])\n"
          ]
        }
      ]
    },
    {
      "cell_type": "markdown",
      "source": [
        "# `Tensor` => `Array`"
      ],
      "metadata": {
        "id": "SeLeMISxDMLU"
      }
    },
    {
      "cell_type": "code",
      "source": [
        "# use the previous tensor\n",
        "tensor1\n",
        "\n",
        "# convert the tensor back into numpy array\n",
        "back_array=tensor1.numpy()\n",
        "\n",
        "print(f\"Torch Tensors:\\n{tensor1}\\n\")\n",
        "print(f\"Numpy Array:\\n{back_array}\")"
      ],
      "metadata": {
        "colab": {
          "base_uri": "https://localhost:8080/"
        },
        "id": "f_rgadAIEw6o",
        "outputId": "97c147e0-b1d7-4648-a6cc-2d3d60021c29"
      },
      "execution_count": null,
      "outputs": [
        {
          "output_type": "stream",
          "name": "stdout",
          "text": [
            "Torch Tensors:\n",
            "tensor([1, 2, 3, 4, 5, 6, 7, 8, 9])\n",
            "\n",
            "Numpy Array:\n",
            "[1 2 3 4 5 6 7 8 9]\n"
          ]
        }
      ]
    },
    {
      "cell_type": "markdown",
      "source": [
        "# Reprodubility (trying to take random out of random)\n",
        "**In short how a neural network learn**\n",
        "\n",
        "- `start with random number`===>`look at the data`===> `Update the values`==> `And try to make the better representation of nbrs` ===> `again again and again`\n",
        "\n",
        "- To reduce the randomness of neural network and pytorch comes with **random seed**\n",
        "\n",
        "Get more detail check it out: https://pytorch.org/docs/stable/notes/randomness.html"
      ],
      "metadata": {
        "id": "qQAY3Y8mE1tR"
      }
    },
    {
      "cell_type": "code",
      "source": [
        "# make a random tensors\n",
        "torch.rand(3,3)"
      ],
      "metadata": {
        "colab": {
          "base_uri": "https://localhost:8080/"
        },
        "id": "wKK-ISh1FlgY",
        "outputId": "64b0c882-0337-40a3-8d7f-38a3971ce835"
      },
      "execution_count": null,
      "outputs": [
        {
          "output_type": "execute_result",
          "data": {
            "text/plain": [
              "tensor([[0.5823, 0.1702, 0.7787],\n",
              "        [0.2556, 0.1169, 0.8104],\n",
              "        [0.5156, 0.6031, 0.6797]])"
            ]
          },
          "metadata": {},
          "execution_count": 168
        }
      ]
    },
    {
      "cell_type": "code",
      "source": [
        "torch.rand(3,3)"
      ],
      "metadata": {
        "colab": {
          "base_uri": "https://localhost:8080/"
        },
        "id": "1dmxacBpI2B3",
        "outputId": "8aab6627-4d2a-4476-e65d-41fb60fb506c"
      },
      "execution_count": null,
      "outputs": [
        {
          "output_type": "execute_result",
          "data": {
            "text/plain": [
              "tensor([[0.7754, 0.1965, 0.4142],\n",
              "        [0.2112, 0.1339, 0.1210],\n",
              "        [0.1779, 0.3437, 0.6792]])"
            ]
          },
          "metadata": {},
          "execution_count": 169
        }
      ]
    },
    {
      "cell_type": "code",
      "source": [
        "tensor_1=torch.rand(3,3)\n",
        "\n",
        "tensor_2=torch.rand(3,3)\n",
        "\n",
        "print(f\"Tensor 1:\\n{tensor_1}\\n\")\n",
        "print(f\"Tensor 2:\\n{tensor_2}\\n\")\n",
        "print(f\"Does Tensor 1 equal Tensor 2:\\n{tensor_1==tensor_2}\")"
      ],
      "metadata": {
        "colab": {
          "base_uri": "https://localhost:8080/"
        },
        "id": "KGt1rXnSJaRO",
        "outputId": "d7254bc7-2089-47da-a1e6-058a8fe20262"
      },
      "execution_count": null,
      "outputs": [
        {
          "output_type": "stream",
          "name": "stdout",
          "text": [
            "Tensor 1:\n",
            "tensor([[0.3944, 0.8780, 0.4316],\n",
            "        [0.6334, 0.5795, 0.3930],\n",
            "        [0.6524, 0.7860, 0.6040]])\n",
            "\n",
            "Tensor 2:\n",
            "tensor([[0.1595, 0.5068, 0.7265],\n",
            "        [0.4217, 0.6602, 0.0833],\n",
            "        [0.1002, 0.5634, 0.9204]])\n",
            "\n",
            "Does Tensor 1 equal Tensor 2:\n",
            "tensor([[False, False, False],\n",
            "        [False, False, False],\n",
            "        [False, False, False]])\n"
          ]
        }
      ]
    },
    {
      "cell_type": "markdown",
      "source": [
        "# Observation\n",
        "- we can see that evertime we can run the above cell it will give the different random value it is not good.\n",
        "- We can also see that we can run the 2 cell with same code but the result of both the same code is different\n",
        "- To controll the randomness we use `radom seed`"
      ],
      "metadata": {
        "id": "K87r8ja3Ih-L"
      }
    },
    {
      "cell_type": "code",
      "source": [
        "# use random seed to control the randomness\n",
        "random_seed=42\n",
        "torch.manual_seed(random_seed)\n",
        "\n",
        "# make a tensor1\n",
        "tensor1=torch.rand(3,3)\n",
        "\n",
        "# make a tensor2 and also set the random seed of each tensor\n",
        "torch.manual_seed(random_seed)\n",
        "tensor2=torch.rand(3,3)\n",
        "\n",
        "print(f\"Tensor 1:\\n{tensor1}\\n\")\n",
        "print(f\"Tensor 2:\\n{tensor2}\\n\")\n",
        "print(f\"Does Tensor 1 equal Tensor 2:\\n{tensor1==tensor2}\")"
      ],
      "metadata": {
        "colab": {
          "base_uri": "https://localhost:8080/"
        },
        "id": "V4Cv_EloFlch",
        "outputId": "171b3330-fc86-4248-e1b8-2a0557b0f55e"
      },
      "execution_count": null,
      "outputs": [
        {
          "output_type": "stream",
          "name": "stdout",
          "text": [
            "Tensor 1:\n",
            "tensor([[0.8823, 0.9150, 0.3829],\n",
            "        [0.9593, 0.3904, 0.6009],\n",
            "        [0.2566, 0.7936, 0.9408]])\n",
            "\n",
            "Tensor 2:\n",
            "tensor([[0.8823, 0.9150, 0.3829],\n",
            "        [0.9593, 0.3904, 0.6009],\n",
            "        [0.2566, 0.7936, 0.9408]])\n",
            "\n",
            "Does Tensor 1 equal Tensor 2:\n",
            "tensor([[True, True, True],\n",
            "        [True, True, True],\n",
            "        [True, True, True]])\n"
          ]
        }
      ]
    },
    {
      "cell_type": "markdown",
      "source": [
        "# Different Way to accessing `GPU`\n",
        "* Runniny pytorch tensor on `GPU` for fastest processing"
      ],
      "metadata": {
        "id": "LQuC968DFlZL"
      }
    },
    {
      "cell_type": "markdown",
      "source": [
        "## Getting a `GPU`\n",
        "1. Easiest - Use google colab for free GPU\n",
        "2. Use your own\n",
        "3. Use cloud computing - GCP, AWS, Azure\n",
        "\n",
        "**For 2 and 3 check out this: https://pytorch.org/**\n",
        "**If want to train the machine learning model using skorch check out this: https://github.com/skorch-dev/skorch**\n",
        "\n",
        "# skorch(https://github.com/skorch-dev/skorch)\n",
        "- `skorch` is a pytorch frame work that support to train the machine learnings models"
      ],
      "metadata": {
        "id": "8O-tKCDVFlWD"
      }
    },
    {
      "cell_type": "code",
      "source": [
        "# Check out the GPU detail\n",
        "!nvidia-smi"
      ],
      "metadata": {
        "colab": {
          "base_uri": "https://localhost:8080/"
        },
        "id": "qBsPM1k_FkUK",
        "outputId": "9deea89b-66f7-405f-bc0d-bd4e49b77a56"
      },
      "execution_count": null,
      "outputs": [
        {
          "output_type": "stream",
          "name": "stdout",
          "text": [
            "/bin/bash: line 1: nvidia-smi: command not found\n"
          ]
        }
      ]
    },
    {
      "cell_type": "markdown",
      "source": [
        "# Check out the pytoch access using `pytorch`"
      ],
      "metadata": {
        "id": "WkHYrPW8Nyko"
      }
    },
    {
      "cell_type": "code",
      "source": [
        "import torch\n",
        "torch.cuda.is_available()"
      ],
      "metadata": {
        "colab": {
          "base_uri": "https://localhost:8080/"
        },
        "id": "xCOqqM9_Q-0b",
        "outputId": "bd6db079-8626-4d60-9867-cb38d1fdc630"
      },
      "execution_count": null,
      "outputs": [
        {
          "output_type": "execute_result",
          "data": {
            "text/plain": [
              "False"
            ]
          },
          "metadata": {},
          "execution_count": 185
        }
      ]
    },
    {
      "cell_type": "code",
      "source": [
        "# setup the device agnestice code\n",
        "if torch.cuda.is_available():\n",
        "  device=\"cude\"\n",
        "else:\n",
        "  device=\"cpu\"\n",
        "\n",
        "device"
      ],
      "metadata": {
        "colab": {
          "base_uri": "https://localhost:8080/",
          "height": 36
        },
        "id": "iJ1deWW8Q-xe",
        "outputId": "b4a110a0-d16b-4644-cf5d-eefffe69334e"
      },
      "execution_count": null,
      "outputs": [
        {
          "output_type": "execute_result",
          "data": {
            "text/plain": [
              "'cpu'"
            ],
            "application/vnd.google.colaboratory.intrinsic+json": {
              "type": "string"
            }
          },
          "metadata": {},
          "execution_count": 186
        }
      ]
    },
    {
      "cell_type": "code",
      "source": [
        "# Count the nbr of devices\n",
        "torch.cuda.device_count()"
      ],
      "metadata": {
        "colab": {
          "base_uri": "https://localhost:8080/"
        },
        "id": "gUoByzttSJ73",
        "outputId": "0658a9c4-b38f-4d25-e8da-dffd9ddf4276"
      },
      "execution_count": null,
      "outputs": [
        {
          "output_type": "execute_result",
          "data": {
            "text/plain": [
              "0"
            ]
          },
          "metadata": {},
          "execution_count": 187
        }
      ]
    },
    {
      "cell_type": "code",
      "source": [
        "# Excercise and Extra Curriculum"
      ],
      "metadata": {
        "id": "vaf01OdYSSGb"
      },
      "execution_count": null,
      "outputs": []
    },
    {
      "cell_type": "code",
      "source": [],
      "metadata": {
        "id": "UBeOXZLwSSDP"
      },
      "execution_count": null,
      "outputs": []
    }
  ]
}