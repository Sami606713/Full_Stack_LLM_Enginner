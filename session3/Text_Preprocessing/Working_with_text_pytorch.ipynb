{
  "nbformat": 4,
  "nbformat_minor": 0,
  "metadata": {
    "colab": {
      "provenance": []
    },
    "kernelspec": {
      "name": "python3",
      "display_name": "Python 3"
    },
    "language_info": {
      "name": "python"
    },
    "widgets": {
      "application/vnd.jupyter.widget-state+json": {
        "7c5f34bbac8a42518477f0fd17791d18": {
          "model_module": "@jupyter-widgets/controls",
          "model_name": "HBoxModel",
          "model_module_version": "1.5.0",
          "state": {
            "_dom_classes": [],
            "_model_module": "@jupyter-widgets/controls",
            "_model_module_version": "1.5.0",
            "_model_name": "HBoxModel",
            "_view_count": null,
            "_view_module": "@jupyter-widgets/controls",
            "_view_module_version": "1.5.0",
            "_view_name": "HBoxView",
            "box_style": "",
            "children": [
              "IPY_MODEL_4fdfecb116c84fb1bd2a955dcb05331e",
              "IPY_MODEL_7b6ff428321f403b8fc7e108ad5b84c6",
              "IPY_MODEL_64cd8de54580474fb18c06bc821f99ef"
            ],
            "layout": "IPY_MODEL_80848c47c2d44be5829b55a27e52f1a1"
          }
        },
        "4fdfecb116c84fb1bd2a955dcb05331e": {
          "model_module": "@jupyter-widgets/controls",
          "model_name": "HTMLModel",
          "model_module_version": "1.5.0",
          "state": {
            "_dom_classes": [],
            "_model_module": "@jupyter-widgets/controls",
            "_model_module_version": "1.5.0",
            "_model_name": "HTMLModel",
            "_view_count": null,
            "_view_module": "@jupyter-widgets/controls",
            "_view_module_version": "1.5.0",
            "_view_name": "HTMLView",
            "description": "",
            "description_tooltip": null,
            "layout": "IPY_MODEL_2c6935776be14541976437ef878153f3",
            "placeholder": "​",
            "style": "IPY_MODEL_1d74cb32877a4ab79ab416ded35b161d",
            "value": "spiece.model: 100%"
          }
        },
        "7b6ff428321f403b8fc7e108ad5b84c6": {
          "model_module": "@jupyter-widgets/controls",
          "model_name": "FloatProgressModel",
          "model_module_version": "1.5.0",
          "state": {
            "_dom_classes": [],
            "_model_module": "@jupyter-widgets/controls",
            "_model_module_version": "1.5.0",
            "_model_name": "FloatProgressModel",
            "_view_count": null,
            "_view_module": "@jupyter-widgets/controls",
            "_view_module_version": "1.5.0",
            "_view_name": "ProgressView",
            "bar_style": "success",
            "description": "",
            "description_tooltip": null,
            "layout": "IPY_MODEL_fa279fb2b7e74fe1a7548fccfce774b3",
            "max": 791656,
            "min": 0,
            "orientation": "horizontal",
            "style": "IPY_MODEL_94cbcdb44ad34be4b5a072d46c4f786f",
            "value": 791656
          }
        },
        "64cd8de54580474fb18c06bc821f99ef": {
          "model_module": "@jupyter-widgets/controls",
          "model_name": "HTMLModel",
          "model_module_version": "1.5.0",
          "state": {
            "_dom_classes": [],
            "_model_module": "@jupyter-widgets/controls",
            "_model_module_version": "1.5.0",
            "_model_name": "HTMLModel",
            "_view_count": null,
            "_view_module": "@jupyter-widgets/controls",
            "_view_module_version": "1.5.0",
            "_view_name": "HTMLView",
            "description": "",
            "description_tooltip": null,
            "layout": "IPY_MODEL_997468e93bb841e5bab57e8d6e8449bc",
            "placeholder": "​",
            "style": "IPY_MODEL_44f8d089d62942a5b85cb48070cbeda5",
            "value": " 792k/792k [00:00&lt;00:00, 4.01MB/s]"
          }
        },
        "80848c47c2d44be5829b55a27e52f1a1": {
          "model_module": "@jupyter-widgets/base",
          "model_name": "LayoutModel",
          "model_module_version": "1.2.0",
          "state": {
            "_model_module": "@jupyter-widgets/base",
            "_model_module_version": "1.2.0",
            "_model_name": "LayoutModel",
            "_view_count": null,
            "_view_module": "@jupyter-widgets/base",
            "_view_module_version": "1.2.0",
            "_view_name": "LayoutView",
            "align_content": null,
            "align_items": null,
            "align_self": null,
            "border": null,
            "bottom": null,
            "display": null,
            "flex": null,
            "flex_flow": null,
            "grid_area": null,
            "grid_auto_columns": null,
            "grid_auto_flow": null,
            "grid_auto_rows": null,
            "grid_column": null,
            "grid_gap": null,
            "grid_row": null,
            "grid_template_areas": null,
            "grid_template_columns": null,
            "grid_template_rows": null,
            "height": null,
            "justify_content": null,
            "justify_items": null,
            "left": null,
            "margin": null,
            "max_height": null,
            "max_width": null,
            "min_height": null,
            "min_width": null,
            "object_fit": null,
            "object_position": null,
            "order": null,
            "overflow": null,
            "overflow_x": null,
            "overflow_y": null,
            "padding": null,
            "right": null,
            "top": null,
            "visibility": null,
            "width": null
          }
        },
        "2c6935776be14541976437ef878153f3": {
          "model_module": "@jupyter-widgets/base",
          "model_name": "LayoutModel",
          "model_module_version": "1.2.0",
          "state": {
            "_model_module": "@jupyter-widgets/base",
            "_model_module_version": "1.2.0",
            "_model_name": "LayoutModel",
            "_view_count": null,
            "_view_module": "@jupyter-widgets/base",
            "_view_module_version": "1.2.0",
            "_view_name": "LayoutView",
            "align_content": null,
            "align_items": null,
            "align_self": null,
            "border": null,
            "bottom": null,
            "display": null,
            "flex": null,
            "flex_flow": null,
            "grid_area": null,
            "grid_auto_columns": null,
            "grid_auto_flow": null,
            "grid_auto_rows": null,
            "grid_column": null,
            "grid_gap": null,
            "grid_row": null,
            "grid_template_areas": null,
            "grid_template_columns": null,
            "grid_template_rows": null,
            "height": null,
            "justify_content": null,
            "justify_items": null,
            "left": null,
            "margin": null,
            "max_height": null,
            "max_width": null,
            "min_height": null,
            "min_width": null,
            "object_fit": null,
            "object_position": null,
            "order": null,
            "overflow": null,
            "overflow_x": null,
            "overflow_y": null,
            "padding": null,
            "right": null,
            "top": null,
            "visibility": null,
            "width": null
          }
        },
        "1d74cb32877a4ab79ab416ded35b161d": {
          "model_module": "@jupyter-widgets/controls",
          "model_name": "DescriptionStyleModel",
          "model_module_version": "1.5.0",
          "state": {
            "_model_module": "@jupyter-widgets/controls",
            "_model_module_version": "1.5.0",
            "_model_name": "DescriptionStyleModel",
            "_view_count": null,
            "_view_module": "@jupyter-widgets/base",
            "_view_module_version": "1.2.0",
            "_view_name": "StyleView",
            "description_width": ""
          }
        },
        "fa279fb2b7e74fe1a7548fccfce774b3": {
          "model_module": "@jupyter-widgets/base",
          "model_name": "LayoutModel",
          "model_module_version": "1.2.0",
          "state": {
            "_model_module": "@jupyter-widgets/base",
            "_model_module_version": "1.2.0",
            "_model_name": "LayoutModel",
            "_view_count": null,
            "_view_module": "@jupyter-widgets/base",
            "_view_module_version": "1.2.0",
            "_view_name": "LayoutView",
            "align_content": null,
            "align_items": null,
            "align_self": null,
            "border": null,
            "bottom": null,
            "display": null,
            "flex": null,
            "flex_flow": null,
            "grid_area": null,
            "grid_auto_columns": null,
            "grid_auto_flow": null,
            "grid_auto_rows": null,
            "grid_column": null,
            "grid_gap": null,
            "grid_row": null,
            "grid_template_areas": null,
            "grid_template_columns": null,
            "grid_template_rows": null,
            "height": null,
            "justify_content": null,
            "justify_items": null,
            "left": null,
            "margin": null,
            "max_height": null,
            "max_width": null,
            "min_height": null,
            "min_width": null,
            "object_fit": null,
            "object_position": null,
            "order": null,
            "overflow": null,
            "overflow_x": null,
            "overflow_y": null,
            "padding": null,
            "right": null,
            "top": null,
            "visibility": null,
            "width": null
          }
        },
        "94cbcdb44ad34be4b5a072d46c4f786f": {
          "model_module": "@jupyter-widgets/controls",
          "model_name": "ProgressStyleModel",
          "model_module_version": "1.5.0",
          "state": {
            "_model_module": "@jupyter-widgets/controls",
            "_model_module_version": "1.5.0",
            "_model_name": "ProgressStyleModel",
            "_view_count": null,
            "_view_module": "@jupyter-widgets/base",
            "_view_module_version": "1.2.0",
            "_view_name": "StyleView",
            "bar_color": null,
            "description_width": ""
          }
        },
        "997468e93bb841e5bab57e8d6e8449bc": {
          "model_module": "@jupyter-widgets/base",
          "model_name": "LayoutModel",
          "model_module_version": "1.2.0",
          "state": {
            "_model_module": "@jupyter-widgets/base",
            "_model_module_version": "1.2.0",
            "_model_name": "LayoutModel",
            "_view_count": null,
            "_view_module": "@jupyter-widgets/base",
            "_view_module_version": "1.2.0",
            "_view_name": "LayoutView",
            "align_content": null,
            "align_items": null,
            "align_self": null,
            "border": null,
            "bottom": null,
            "display": null,
            "flex": null,
            "flex_flow": null,
            "grid_area": null,
            "grid_auto_columns": null,
            "grid_auto_flow": null,
            "grid_auto_rows": null,
            "grid_column": null,
            "grid_gap": null,
            "grid_row": null,
            "grid_template_areas": null,
            "grid_template_columns": null,
            "grid_template_rows": null,
            "height": null,
            "justify_content": null,
            "justify_items": null,
            "left": null,
            "margin": null,
            "max_height": null,
            "max_width": null,
            "min_height": null,
            "min_width": null,
            "object_fit": null,
            "object_position": null,
            "order": null,
            "overflow": null,
            "overflow_x": null,
            "overflow_y": null,
            "padding": null,
            "right": null,
            "top": null,
            "visibility": null,
            "width": null
          }
        },
        "44f8d089d62942a5b85cb48070cbeda5": {
          "model_module": "@jupyter-widgets/controls",
          "model_name": "DescriptionStyleModel",
          "model_module_version": "1.5.0",
          "state": {
            "_model_module": "@jupyter-widgets/controls",
            "_model_module_version": "1.5.0",
            "_model_name": "DescriptionStyleModel",
            "_view_count": null,
            "_view_module": "@jupyter-widgets/base",
            "_view_module_version": "1.2.0",
            "_view_name": "StyleView",
            "description_width": ""
          }
        },
        "64e54583c5a942c6ad731c583165798b": {
          "model_module": "@jupyter-widgets/controls",
          "model_name": "HBoxModel",
          "model_module_version": "1.5.0",
          "state": {
            "_dom_classes": [],
            "_model_module": "@jupyter-widgets/controls",
            "_model_module_version": "1.5.0",
            "_model_name": "HBoxModel",
            "_view_count": null,
            "_view_module": "@jupyter-widgets/controls",
            "_view_module_version": "1.5.0",
            "_view_name": "HBoxView",
            "box_style": "",
            "children": [
              "IPY_MODEL_b48318d54c3c4c24a27bdbfc31951581",
              "IPY_MODEL_9b5c21d10a8c46a286e7eeff64792ac9",
              "IPY_MODEL_ec5a482f3eb246b0b6ebc3190350aeed"
            ],
            "layout": "IPY_MODEL_bceb0f4edf0246a99a9052b26c50065c"
          }
        },
        "b48318d54c3c4c24a27bdbfc31951581": {
          "model_module": "@jupyter-widgets/controls",
          "model_name": "HTMLModel",
          "model_module_version": "1.5.0",
          "state": {
            "_dom_classes": [],
            "_model_module": "@jupyter-widgets/controls",
            "_model_module_version": "1.5.0",
            "_model_name": "HTMLModel",
            "_view_count": null,
            "_view_module": "@jupyter-widgets/controls",
            "_view_module_version": "1.5.0",
            "_view_name": "HTMLView",
            "description": "",
            "description_tooltip": null,
            "layout": "IPY_MODEL_c6ef0976f37b478992d268e8bd055015",
            "placeholder": "​",
            "style": "IPY_MODEL_d0384748d8c54f1e9f73f53d28f7d6d7",
            "value": "tokenizer.json: 100%"
          }
        },
        "9b5c21d10a8c46a286e7eeff64792ac9": {
          "model_module": "@jupyter-widgets/controls",
          "model_name": "FloatProgressModel",
          "model_module_version": "1.5.0",
          "state": {
            "_dom_classes": [],
            "_model_module": "@jupyter-widgets/controls",
            "_model_module_version": "1.5.0",
            "_model_name": "FloatProgressModel",
            "_view_count": null,
            "_view_module": "@jupyter-widgets/controls",
            "_view_module_version": "1.5.0",
            "_view_name": "ProgressView",
            "bar_style": "success",
            "description": "",
            "description_tooltip": null,
            "layout": "IPY_MODEL_53a00bd2c6c14c5b94406864fa87da0f",
            "max": 1389353,
            "min": 0,
            "orientation": "horizontal",
            "style": "IPY_MODEL_ebea67d6354b43a793ae595185191b73",
            "value": 1389353
          }
        },
        "ec5a482f3eb246b0b6ebc3190350aeed": {
          "model_module": "@jupyter-widgets/controls",
          "model_name": "HTMLModel",
          "model_module_version": "1.5.0",
          "state": {
            "_dom_classes": [],
            "_model_module": "@jupyter-widgets/controls",
            "_model_module_version": "1.5.0",
            "_model_name": "HTMLModel",
            "_view_count": null,
            "_view_module": "@jupyter-widgets/controls",
            "_view_module_version": "1.5.0",
            "_view_name": "HTMLView",
            "description": "",
            "description_tooltip": null,
            "layout": "IPY_MODEL_6ed3162687954d58a71fd5f7aeec9d57",
            "placeholder": "​",
            "style": "IPY_MODEL_fd40834ee1a745708dd63eb9eba12e63",
            "value": " 1.39M/1.39M [00:00&lt;00:00, 7.11MB/s]"
          }
        },
        "bceb0f4edf0246a99a9052b26c50065c": {
          "model_module": "@jupyter-widgets/base",
          "model_name": "LayoutModel",
          "model_module_version": "1.2.0",
          "state": {
            "_model_module": "@jupyter-widgets/base",
            "_model_module_version": "1.2.0",
            "_model_name": "LayoutModel",
            "_view_count": null,
            "_view_module": "@jupyter-widgets/base",
            "_view_module_version": "1.2.0",
            "_view_name": "LayoutView",
            "align_content": null,
            "align_items": null,
            "align_self": null,
            "border": null,
            "bottom": null,
            "display": null,
            "flex": null,
            "flex_flow": null,
            "grid_area": null,
            "grid_auto_columns": null,
            "grid_auto_flow": null,
            "grid_auto_rows": null,
            "grid_column": null,
            "grid_gap": null,
            "grid_row": null,
            "grid_template_areas": null,
            "grid_template_columns": null,
            "grid_template_rows": null,
            "height": null,
            "justify_content": null,
            "justify_items": null,
            "left": null,
            "margin": null,
            "max_height": null,
            "max_width": null,
            "min_height": null,
            "min_width": null,
            "object_fit": null,
            "object_position": null,
            "order": null,
            "overflow": null,
            "overflow_x": null,
            "overflow_y": null,
            "padding": null,
            "right": null,
            "top": null,
            "visibility": null,
            "width": null
          }
        },
        "c6ef0976f37b478992d268e8bd055015": {
          "model_module": "@jupyter-widgets/base",
          "model_name": "LayoutModel",
          "model_module_version": "1.2.0",
          "state": {
            "_model_module": "@jupyter-widgets/base",
            "_model_module_version": "1.2.0",
            "_model_name": "LayoutModel",
            "_view_count": null,
            "_view_module": "@jupyter-widgets/base",
            "_view_module_version": "1.2.0",
            "_view_name": "LayoutView",
            "align_content": null,
            "align_items": null,
            "align_self": null,
            "border": null,
            "bottom": null,
            "display": null,
            "flex": null,
            "flex_flow": null,
            "grid_area": null,
            "grid_auto_columns": null,
            "grid_auto_flow": null,
            "grid_auto_rows": null,
            "grid_column": null,
            "grid_gap": null,
            "grid_row": null,
            "grid_template_areas": null,
            "grid_template_columns": null,
            "grid_template_rows": null,
            "height": null,
            "justify_content": null,
            "justify_items": null,
            "left": null,
            "margin": null,
            "max_height": null,
            "max_width": null,
            "min_height": null,
            "min_width": null,
            "object_fit": null,
            "object_position": null,
            "order": null,
            "overflow": null,
            "overflow_x": null,
            "overflow_y": null,
            "padding": null,
            "right": null,
            "top": null,
            "visibility": null,
            "width": null
          }
        },
        "d0384748d8c54f1e9f73f53d28f7d6d7": {
          "model_module": "@jupyter-widgets/controls",
          "model_name": "DescriptionStyleModel",
          "model_module_version": "1.5.0",
          "state": {
            "_model_module": "@jupyter-widgets/controls",
            "_model_module_version": "1.5.0",
            "_model_name": "DescriptionStyleModel",
            "_view_count": null,
            "_view_module": "@jupyter-widgets/base",
            "_view_module_version": "1.2.0",
            "_view_name": "StyleView",
            "description_width": ""
          }
        },
        "53a00bd2c6c14c5b94406864fa87da0f": {
          "model_module": "@jupyter-widgets/base",
          "model_name": "LayoutModel",
          "model_module_version": "1.2.0",
          "state": {
            "_model_module": "@jupyter-widgets/base",
            "_model_module_version": "1.2.0",
            "_model_name": "LayoutModel",
            "_view_count": null,
            "_view_module": "@jupyter-widgets/base",
            "_view_module_version": "1.2.0",
            "_view_name": "LayoutView",
            "align_content": null,
            "align_items": null,
            "align_self": null,
            "border": null,
            "bottom": null,
            "display": null,
            "flex": null,
            "flex_flow": null,
            "grid_area": null,
            "grid_auto_columns": null,
            "grid_auto_flow": null,
            "grid_auto_rows": null,
            "grid_column": null,
            "grid_gap": null,
            "grid_row": null,
            "grid_template_areas": null,
            "grid_template_columns": null,
            "grid_template_rows": null,
            "height": null,
            "justify_content": null,
            "justify_items": null,
            "left": null,
            "margin": null,
            "max_height": null,
            "max_width": null,
            "min_height": null,
            "min_width": null,
            "object_fit": null,
            "object_position": null,
            "order": null,
            "overflow": null,
            "overflow_x": null,
            "overflow_y": null,
            "padding": null,
            "right": null,
            "top": null,
            "visibility": null,
            "width": null
          }
        },
        "ebea67d6354b43a793ae595185191b73": {
          "model_module": "@jupyter-widgets/controls",
          "model_name": "ProgressStyleModel",
          "model_module_version": "1.5.0",
          "state": {
            "_model_module": "@jupyter-widgets/controls",
            "_model_module_version": "1.5.0",
            "_model_name": "ProgressStyleModel",
            "_view_count": null,
            "_view_module": "@jupyter-widgets/base",
            "_view_module_version": "1.2.0",
            "_view_name": "StyleView",
            "bar_color": null,
            "description_width": ""
          }
        },
        "6ed3162687954d58a71fd5f7aeec9d57": {
          "model_module": "@jupyter-widgets/base",
          "model_name": "LayoutModel",
          "model_module_version": "1.2.0",
          "state": {
            "_model_module": "@jupyter-widgets/base",
            "_model_module_version": "1.2.0",
            "_model_name": "LayoutModel",
            "_view_count": null,
            "_view_module": "@jupyter-widgets/base",
            "_view_module_version": "1.2.0",
            "_view_name": "LayoutView",
            "align_content": null,
            "align_items": null,
            "align_self": null,
            "border": null,
            "bottom": null,
            "display": null,
            "flex": null,
            "flex_flow": null,
            "grid_area": null,
            "grid_auto_columns": null,
            "grid_auto_flow": null,
            "grid_auto_rows": null,
            "grid_column": null,
            "grid_gap": null,
            "grid_row": null,
            "grid_template_areas": null,
            "grid_template_columns": null,
            "grid_template_rows": null,
            "height": null,
            "justify_content": null,
            "justify_items": null,
            "left": null,
            "margin": null,
            "max_height": null,
            "max_width": null,
            "min_height": null,
            "min_width": null,
            "object_fit": null,
            "object_position": null,
            "order": null,
            "overflow": null,
            "overflow_x": null,
            "overflow_y": null,
            "padding": null,
            "right": null,
            "top": null,
            "visibility": null,
            "width": null
          }
        },
        "fd40834ee1a745708dd63eb9eba12e63": {
          "model_module": "@jupyter-widgets/controls",
          "model_name": "DescriptionStyleModel",
          "model_module_version": "1.5.0",
          "state": {
            "_model_module": "@jupyter-widgets/controls",
            "_model_module_version": "1.5.0",
            "_model_name": "DescriptionStyleModel",
            "_view_count": null,
            "_view_module": "@jupyter-widgets/base",
            "_view_module_version": "1.2.0",
            "_view_name": "StyleView",
            "description_width": ""
          }
        },
        "f39cdeef582c48929747b5e0c7cbabd6": {
          "model_module": "@jupyter-widgets/controls",
          "model_name": "HBoxModel",
          "model_module_version": "1.5.0",
          "state": {
            "_dom_classes": [],
            "_model_module": "@jupyter-widgets/controls",
            "_model_module_version": "1.5.0",
            "_model_name": "HBoxModel",
            "_view_count": null,
            "_view_module": "@jupyter-widgets/controls",
            "_view_module_version": "1.5.0",
            "_view_name": "HBoxView",
            "box_style": "",
            "children": [
              "IPY_MODEL_36b0df91edbf474f8d959a29bdd04e59",
              "IPY_MODEL_6fb92e8e340d49078ed704069dd6c435",
              "IPY_MODEL_ea2bd6da777c452792f1aec93caa0208"
            ],
            "layout": "IPY_MODEL_bc0a05a589ab49e59e41dda81d6e3edd"
          }
        },
        "36b0df91edbf474f8d959a29bdd04e59": {
          "model_module": "@jupyter-widgets/controls",
          "model_name": "HTMLModel",
          "model_module_version": "1.5.0",
          "state": {
            "_dom_classes": [],
            "_model_module": "@jupyter-widgets/controls",
            "_model_module_version": "1.5.0",
            "_model_name": "HTMLModel",
            "_view_count": null,
            "_view_module": "@jupyter-widgets/controls",
            "_view_module_version": "1.5.0",
            "_view_name": "HTMLView",
            "description": "",
            "description_tooltip": null,
            "layout": "IPY_MODEL_e58e2275fa8e4b479d1715ef19c225f7",
            "placeholder": "​",
            "style": "IPY_MODEL_8b91727e79a445e59c7961b314caba55",
            "value": "config.json: 100%"
          }
        },
        "6fb92e8e340d49078ed704069dd6c435": {
          "model_module": "@jupyter-widgets/controls",
          "model_name": "FloatProgressModel",
          "model_module_version": "1.5.0",
          "state": {
            "_dom_classes": [],
            "_model_module": "@jupyter-widgets/controls",
            "_model_module_version": "1.5.0",
            "_model_name": "FloatProgressModel",
            "_view_count": null,
            "_view_module": "@jupyter-widgets/controls",
            "_view_module_version": "1.5.0",
            "_view_name": "ProgressView",
            "bar_style": "success",
            "description": "",
            "description_tooltip": null,
            "layout": "IPY_MODEL_8afedbd7134c413f8730df484bd62072",
            "max": 1208,
            "min": 0,
            "orientation": "horizontal",
            "style": "IPY_MODEL_69510586092e46f58946a248952c53cd",
            "value": 1208
          }
        },
        "ea2bd6da777c452792f1aec93caa0208": {
          "model_module": "@jupyter-widgets/controls",
          "model_name": "HTMLModel",
          "model_module_version": "1.5.0",
          "state": {
            "_dom_classes": [],
            "_model_module": "@jupyter-widgets/controls",
            "_model_module_version": "1.5.0",
            "_model_name": "HTMLModel",
            "_view_count": null,
            "_view_module": "@jupyter-widgets/controls",
            "_view_module_version": "1.5.0",
            "_view_name": "HTMLView",
            "description": "",
            "description_tooltip": null,
            "layout": "IPY_MODEL_e4800f5989d84475b17322518ad60463",
            "placeholder": "​",
            "style": "IPY_MODEL_3f95b9ccc86141b79c1efae9f9fb5699",
            "value": " 1.21k/1.21k [00:00&lt;00:00, 58.8kB/s]"
          }
        },
        "bc0a05a589ab49e59e41dda81d6e3edd": {
          "model_module": "@jupyter-widgets/base",
          "model_name": "LayoutModel",
          "model_module_version": "1.2.0",
          "state": {
            "_model_module": "@jupyter-widgets/base",
            "_model_module_version": "1.2.0",
            "_model_name": "LayoutModel",
            "_view_count": null,
            "_view_module": "@jupyter-widgets/base",
            "_view_module_version": "1.2.0",
            "_view_name": "LayoutView",
            "align_content": null,
            "align_items": null,
            "align_self": null,
            "border": null,
            "bottom": null,
            "display": null,
            "flex": null,
            "flex_flow": null,
            "grid_area": null,
            "grid_auto_columns": null,
            "grid_auto_flow": null,
            "grid_auto_rows": null,
            "grid_column": null,
            "grid_gap": null,
            "grid_row": null,
            "grid_template_areas": null,
            "grid_template_columns": null,
            "grid_template_rows": null,
            "height": null,
            "justify_content": null,
            "justify_items": null,
            "left": null,
            "margin": null,
            "max_height": null,
            "max_width": null,
            "min_height": null,
            "min_width": null,
            "object_fit": null,
            "object_position": null,
            "order": null,
            "overflow": null,
            "overflow_x": null,
            "overflow_y": null,
            "padding": null,
            "right": null,
            "top": null,
            "visibility": null,
            "width": null
          }
        },
        "e58e2275fa8e4b479d1715ef19c225f7": {
          "model_module": "@jupyter-widgets/base",
          "model_name": "LayoutModel",
          "model_module_version": "1.2.0",
          "state": {
            "_model_module": "@jupyter-widgets/base",
            "_model_module_version": "1.2.0",
            "_model_name": "LayoutModel",
            "_view_count": null,
            "_view_module": "@jupyter-widgets/base",
            "_view_module_version": "1.2.0",
            "_view_name": "LayoutView",
            "align_content": null,
            "align_items": null,
            "align_self": null,
            "border": null,
            "bottom": null,
            "display": null,
            "flex": null,
            "flex_flow": null,
            "grid_area": null,
            "grid_auto_columns": null,
            "grid_auto_flow": null,
            "grid_auto_rows": null,
            "grid_column": null,
            "grid_gap": null,
            "grid_row": null,
            "grid_template_areas": null,
            "grid_template_columns": null,
            "grid_template_rows": null,
            "height": null,
            "justify_content": null,
            "justify_items": null,
            "left": null,
            "margin": null,
            "max_height": null,
            "max_width": null,
            "min_height": null,
            "min_width": null,
            "object_fit": null,
            "object_position": null,
            "order": null,
            "overflow": null,
            "overflow_x": null,
            "overflow_y": null,
            "padding": null,
            "right": null,
            "top": null,
            "visibility": null,
            "width": null
          }
        },
        "8b91727e79a445e59c7961b314caba55": {
          "model_module": "@jupyter-widgets/controls",
          "model_name": "DescriptionStyleModel",
          "model_module_version": "1.5.0",
          "state": {
            "_model_module": "@jupyter-widgets/controls",
            "_model_module_version": "1.5.0",
            "_model_name": "DescriptionStyleModel",
            "_view_count": null,
            "_view_module": "@jupyter-widgets/base",
            "_view_module_version": "1.2.0",
            "_view_name": "StyleView",
            "description_width": ""
          }
        },
        "8afedbd7134c413f8730df484bd62072": {
          "model_module": "@jupyter-widgets/base",
          "model_name": "LayoutModel",
          "model_module_version": "1.2.0",
          "state": {
            "_model_module": "@jupyter-widgets/base",
            "_model_module_version": "1.2.0",
            "_model_name": "LayoutModel",
            "_view_count": null,
            "_view_module": "@jupyter-widgets/base",
            "_view_module_version": "1.2.0",
            "_view_name": "LayoutView",
            "align_content": null,
            "align_items": null,
            "align_self": null,
            "border": null,
            "bottom": null,
            "display": null,
            "flex": null,
            "flex_flow": null,
            "grid_area": null,
            "grid_auto_columns": null,
            "grid_auto_flow": null,
            "grid_auto_rows": null,
            "grid_column": null,
            "grid_gap": null,
            "grid_row": null,
            "grid_template_areas": null,
            "grid_template_columns": null,
            "grid_template_rows": null,
            "height": null,
            "justify_content": null,
            "justify_items": null,
            "left": null,
            "margin": null,
            "max_height": null,
            "max_width": null,
            "min_height": null,
            "min_width": null,
            "object_fit": null,
            "object_position": null,
            "order": null,
            "overflow": null,
            "overflow_x": null,
            "overflow_y": null,
            "padding": null,
            "right": null,
            "top": null,
            "visibility": null,
            "width": null
          }
        },
        "69510586092e46f58946a248952c53cd": {
          "model_module": "@jupyter-widgets/controls",
          "model_name": "ProgressStyleModel",
          "model_module_version": "1.5.0",
          "state": {
            "_model_module": "@jupyter-widgets/controls",
            "_model_module_version": "1.5.0",
            "_model_name": "ProgressStyleModel",
            "_view_count": null,
            "_view_module": "@jupyter-widgets/base",
            "_view_module_version": "1.2.0",
            "_view_name": "StyleView",
            "bar_color": null,
            "description_width": ""
          }
        },
        "e4800f5989d84475b17322518ad60463": {
          "model_module": "@jupyter-widgets/base",
          "model_name": "LayoutModel",
          "model_module_version": "1.2.0",
          "state": {
            "_model_module": "@jupyter-widgets/base",
            "_model_module_version": "1.2.0",
            "_model_name": "LayoutModel",
            "_view_count": null,
            "_view_module": "@jupyter-widgets/base",
            "_view_module_version": "1.2.0",
            "_view_name": "LayoutView",
            "align_content": null,
            "align_items": null,
            "align_self": null,
            "border": null,
            "bottom": null,
            "display": null,
            "flex": null,
            "flex_flow": null,
            "grid_area": null,
            "grid_auto_columns": null,
            "grid_auto_flow": null,
            "grid_auto_rows": null,
            "grid_column": null,
            "grid_gap": null,
            "grid_row": null,
            "grid_template_areas": null,
            "grid_template_columns": null,
            "grid_template_rows": null,
            "height": null,
            "justify_content": null,
            "justify_items": null,
            "left": null,
            "margin": null,
            "max_height": null,
            "max_width": null,
            "min_height": null,
            "min_width": null,
            "object_fit": null,
            "object_position": null,
            "order": null,
            "overflow": null,
            "overflow_x": null,
            "overflow_y": null,
            "padding": null,
            "right": null,
            "top": null,
            "visibility": null,
            "width": null
          }
        },
        "3f95b9ccc86141b79c1efae9f9fb5699": {
          "model_module": "@jupyter-widgets/controls",
          "model_name": "DescriptionStyleModel",
          "model_module_version": "1.5.0",
          "state": {
            "_model_module": "@jupyter-widgets/controls",
            "_model_module_version": "1.5.0",
            "_model_name": "DescriptionStyleModel",
            "_view_count": null,
            "_view_module": "@jupyter-widgets/base",
            "_view_module_version": "1.2.0",
            "_view_name": "StyleView",
            "description_width": ""
          }
        },
        "758fd1a9d48f4d3f8beee764b7f7d1af": {
          "model_module": "@jupyter-widgets/controls",
          "model_name": "HBoxModel",
          "model_module_version": "1.5.0",
          "state": {
            "_dom_classes": [],
            "_model_module": "@jupyter-widgets/controls",
            "_model_module_version": "1.5.0",
            "_model_name": "HBoxModel",
            "_view_count": null,
            "_view_module": "@jupyter-widgets/controls",
            "_view_module_version": "1.5.0",
            "_view_name": "HBoxView",
            "box_style": "",
            "children": [
              "IPY_MODEL_0a5fc1ac9b084007b2d54d8c93ef903d",
              "IPY_MODEL_c974824c9b634507bdc78be391029a55",
              "IPY_MODEL_a83972dd8c4b42e1a5882797d76b0975"
            ],
            "layout": "IPY_MODEL_e8268401ce664584a0aa260127c0f730"
          }
        },
        "0a5fc1ac9b084007b2d54d8c93ef903d": {
          "model_module": "@jupyter-widgets/controls",
          "model_name": "HTMLModel",
          "model_module_version": "1.5.0",
          "state": {
            "_dom_classes": [],
            "_model_module": "@jupyter-widgets/controls",
            "_model_module_version": "1.5.0",
            "_model_name": "HTMLModel",
            "_view_count": null,
            "_view_module": "@jupyter-widgets/controls",
            "_view_module_version": "1.5.0",
            "_view_name": "HTMLView",
            "description": "",
            "description_tooltip": null,
            "layout": "IPY_MODEL_380119d4d7ce4f4b93cb745b223c8f27",
            "placeholder": "​",
            "style": "IPY_MODEL_3e7887f6ae8b4a18b326186cc1ff894a",
            "value": "Map: 100%"
          }
        },
        "c974824c9b634507bdc78be391029a55": {
          "model_module": "@jupyter-widgets/controls",
          "model_name": "FloatProgressModel",
          "model_module_version": "1.5.0",
          "state": {
            "_dom_classes": [],
            "_model_module": "@jupyter-widgets/controls",
            "_model_module_version": "1.5.0",
            "_model_name": "FloatProgressModel",
            "_view_count": null,
            "_view_module": "@jupyter-widgets/controls",
            "_view_module_version": "1.5.0",
            "_view_name": "ProgressView",
            "bar_style": "success",
            "description": "",
            "description_tooltip": null,
            "layout": "IPY_MODEL_1281649380b841849b5af1e7b42cb932",
            "max": 1000,
            "min": 0,
            "orientation": "horizontal",
            "style": "IPY_MODEL_98bf87d1ffa04b48bd0f88beb03588bb",
            "value": 1000
          }
        },
        "a83972dd8c4b42e1a5882797d76b0975": {
          "model_module": "@jupyter-widgets/controls",
          "model_name": "HTMLModel",
          "model_module_version": "1.5.0",
          "state": {
            "_dom_classes": [],
            "_model_module": "@jupyter-widgets/controls",
            "_model_module_version": "1.5.0",
            "_model_name": "HTMLModel",
            "_view_count": null,
            "_view_module": "@jupyter-widgets/controls",
            "_view_module_version": "1.5.0",
            "_view_name": "HTMLView",
            "description": "",
            "description_tooltip": null,
            "layout": "IPY_MODEL_f1c640078a3f4168a8eea5c6843ae861",
            "placeholder": "​",
            "style": "IPY_MODEL_7d83e54c784b40ecae3cca1f90608c76",
            "value": " 1000/1000 [00:07&lt;00:00, 167.11 examples/s]"
          }
        },
        "e8268401ce664584a0aa260127c0f730": {
          "model_module": "@jupyter-widgets/base",
          "model_name": "LayoutModel",
          "model_module_version": "1.2.0",
          "state": {
            "_model_module": "@jupyter-widgets/base",
            "_model_module_version": "1.2.0",
            "_model_name": "LayoutModel",
            "_view_count": null,
            "_view_module": "@jupyter-widgets/base",
            "_view_module_version": "1.2.0",
            "_view_name": "LayoutView",
            "align_content": null,
            "align_items": null,
            "align_self": null,
            "border": null,
            "bottom": null,
            "display": null,
            "flex": null,
            "flex_flow": null,
            "grid_area": null,
            "grid_auto_columns": null,
            "grid_auto_flow": null,
            "grid_auto_rows": null,
            "grid_column": null,
            "grid_gap": null,
            "grid_row": null,
            "grid_template_areas": null,
            "grid_template_columns": null,
            "grid_template_rows": null,
            "height": null,
            "justify_content": null,
            "justify_items": null,
            "left": null,
            "margin": null,
            "max_height": null,
            "max_width": null,
            "min_height": null,
            "min_width": null,
            "object_fit": null,
            "object_position": null,
            "order": null,
            "overflow": null,
            "overflow_x": null,
            "overflow_y": null,
            "padding": null,
            "right": null,
            "top": null,
            "visibility": null,
            "width": null
          }
        },
        "380119d4d7ce4f4b93cb745b223c8f27": {
          "model_module": "@jupyter-widgets/base",
          "model_name": "LayoutModel",
          "model_module_version": "1.2.0",
          "state": {
            "_model_module": "@jupyter-widgets/base",
            "_model_module_version": "1.2.0",
            "_model_name": "LayoutModel",
            "_view_count": null,
            "_view_module": "@jupyter-widgets/base",
            "_view_module_version": "1.2.0",
            "_view_name": "LayoutView",
            "align_content": null,
            "align_items": null,
            "align_self": null,
            "border": null,
            "bottom": null,
            "display": null,
            "flex": null,
            "flex_flow": null,
            "grid_area": null,
            "grid_auto_columns": null,
            "grid_auto_flow": null,
            "grid_auto_rows": null,
            "grid_column": null,
            "grid_gap": null,
            "grid_row": null,
            "grid_template_areas": null,
            "grid_template_columns": null,
            "grid_template_rows": null,
            "height": null,
            "justify_content": null,
            "justify_items": null,
            "left": null,
            "margin": null,
            "max_height": null,
            "max_width": null,
            "min_height": null,
            "min_width": null,
            "object_fit": null,
            "object_position": null,
            "order": null,
            "overflow": null,
            "overflow_x": null,
            "overflow_y": null,
            "padding": null,
            "right": null,
            "top": null,
            "visibility": null,
            "width": null
          }
        },
        "3e7887f6ae8b4a18b326186cc1ff894a": {
          "model_module": "@jupyter-widgets/controls",
          "model_name": "DescriptionStyleModel",
          "model_module_version": "1.5.0",
          "state": {
            "_model_module": "@jupyter-widgets/controls",
            "_model_module_version": "1.5.0",
            "_model_name": "DescriptionStyleModel",
            "_view_count": null,
            "_view_module": "@jupyter-widgets/base",
            "_view_module_version": "1.2.0",
            "_view_name": "StyleView",
            "description_width": ""
          }
        },
        "1281649380b841849b5af1e7b42cb932": {
          "model_module": "@jupyter-widgets/base",
          "model_name": "LayoutModel",
          "model_module_version": "1.2.0",
          "state": {
            "_model_module": "@jupyter-widgets/base",
            "_model_module_version": "1.2.0",
            "_model_name": "LayoutModel",
            "_view_count": null,
            "_view_module": "@jupyter-widgets/base",
            "_view_module_version": "1.2.0",
            "_view_name": "LayoutView",
            "align_content": null,
            "align_items": null,
            "align_self": null,
            "border": null,
            "bottom": null,
            "display": null,
            "flex": null,
            "flex_flow": null,
            "grid_area": null,
            "grid_auto_columns": null,
            "grid_auto_flow": null,
            "grid_auto_rows": null,
            "grid_column": null,
            "grid_gap": null,
            "grid_row": null,
            "grid_template_areas": null,
            "grid_template_columns": null,
            "grid_template_rows": null,
            "height": null,
            "justify_content": null,
            "justify_items": null,
            "left": null,
            "margin": null,
            "max_height": null,
            "max_width": null,
            "min_height": null,
            "min_width": null,
            "object_fit": null,
            "object_position": null,
            "order": null,
            "overflow": null,
            "overflow_x": null,
            "overflow_y": null,
            "padding": null,
            "right": null,
            "top": null,
            "visibility": null,
            "width": null
          }
        },
        "98bf87d1ffa04b48bd0f88beb03588bb": {
          "model_module": "@jupyter-widgets/controls",
          "model_name": "ProgressStyleModel",
          "model_module_version": "1.5.0",
          "state": {
            "_model_module": "@jupyter-widgets/controls",
            "_model_module_version": "1.5.0",
            "_model_name": "ProgressStyleModel",
            "_view_count": null,
            "_view_module": "@jupyter-widgets/base",
            "_view_module_version": "1.2.0",
            "_view_name": "StyleView",
            "bar_color": null,
            "description_width": ""
          }
        },
        "f1c640078a3f4168a8eea5c6843ae861": {
          "model_module": "@jupyter-widgets/base",
          "model_name": "LayoutModel",
          "model_module_version": "1.2.0",
          "state": {
            "_model_module": "@jupyter-widgets/base",
            "_model_module_version": "1.2.0",
            "_model_name": "LayoutModel",
            "_view_count": null,
            "_view_module": "@jupyter-widgets/base",
            "_view_module_version": "1.2.0",
            "_view_name": "LayoutView",
            "align_content": null,
            "align_items": null,
            "align_self": null,
            "border": null,
            "bottom": null,
            "display": null,
            "flex": null,
            "flex_flow": null,
            "grid_area": null,
            "grid_auto_columns": null,
            "grid_auto_flow": null,
            "grid_auto_rows": null,
            "grid_column": null,
            "grid_gap": null,
            "grid_row": null,
            "grid_template_areas": null,
            "grid_template_columns": null,
            "grid_template_rows": null,
            "height": null,
            "justify_content": null,
            "justify_items": null,
            "left": null,
            "margin": null,
            "max_height": null,
            "max_width": null,
            "min_height": null,
            "min_width": null,
            "object_fit": null,
            "object_position": null,
            "order": null,
            "overflow": null,
            "overflow_x": null,
            "overflow_y": null,
            "padding": null,
            "right": null,
            "top": null,
            "visibility": null,
            "width": null
          }
        },
        "7d83e54c784b40ecae3cca1f90608c76": {
          "model_module": "@jupyter-widgets/controls",
          "model_name": "DescriptionStyleModel",
          "model_module_version": "1.5.0",
          "state": {
            "_model_module": "@jupyter-widgets/controls",
            "_model_module_version": "1.5.0",
            "_model_name": "DescriptionStyleModel",
            "_view_count": null,
            "_view_module": "@jupyter-widgets/base",
            "_view_module_version": "1.2.0",
            "_view_name": "StyleView",
            "description_width": ""
          }
        }
      }
    }
  },
  "cells": [
    {
      "cell_type": "markdown",
      "source": [
        "![text_pre.png](data:image/png;base64,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)"
      ],
      "metadata": {
        "id": "_nxtK26wq0BN"
      }
    },
    {
      "cell_type": "markdown",
      "source": [
        "# Text Preprocessing for both ML and DL\n",
        "- In this notebook we can tell all the text preprocessing step that we can use in both machine leaning and deep learning.\n",
        "- **What you will learn form this note-book.**\n",
        "    - **Text Preprocessing for machine learning**\n",
        "        - Convert text to lower case.\n",
        "        - Text to tokens\n",
        "        - Remove URL or tags.\n",
        "        - Remove Stop Words if necessray\n",
        "        - Convert text to `vector or vectors` for traning.\n",
        "    - **Text Preprocessing for Deep Learning learning**\n",
        "        - For text preprocessing we will see `openai tokenization` **Tiktoken**\n",
        "        - We will see `hugging face` **Tokenization**\n",
        "        - We will also see how we can build custom txt dataset using `pytorch` so that we can use them for model training"
      ],
      "metadata": {
        "id": "zCGW1P6DsqFU"
      }
    },
    {
      "cell_type": "code",
      "source": [
        "import pandas as pd\n",
        "import torch\n",
        "import numpy as np\n",
        "from torch.utils.data import Dataset, DataLoader"
      ],
      "metadata": {
        "id": "2B5V2uEytGeA"
      },
      "execution_count": 1,
      "outputs": []
    },
    {
      "cell_type": "markdown",
      "source": [
        "# Load data\n",
        "- we will use the `Cnn Daily Mail Dataset`"
      ],
      "metadata": {
        "id": "bV3-aheGtyyx"
      }
    },
    {
      "cell_type": "code",
      "source": [
        "!kaggle datasets download -d gowrishankarp/newspaper-text-summarization-cnn-dailymail"
      ],
      "metadata": {
        "colab": {
          "base_uri": "https://localhost:8080/"
        },
        "id": "jbJsVr42tMgd",
        "outputId": "98c1a75d-a410-4bfb-830e-b8494114f95a"
      },
      "execution_count": 2,
      "outputs": [
        {
          "output_type": "stream",
          "name": "stdout",
          "text": [
            "Dataset URL: https://www.kaggle.com/datasets/gowrishankarp/newspaper-text-summarization-cnn-dailymail\n",
            "License(s): CC0-1.0\n",
            "Downloading newspaper-text-summarization-cnn-dailymail.zip to /content\n",
            " 99% 497M/503M [00:05<00:00, 70.3MB/s]\n",
            "100% 503M/503M [00:05<00:00, 94.5MB/s]\n"
          ]
        }
      ]
    },
    {
      "cell_type": "code",
      "source": [
        "!unzip  /content/newspaper-text-summarization-cnn-dailymail.zip"
      ],
      "metadata": {
        "colab": {
          "base_uri": "https://localhost:8080/"
        },
        "id": "j442ttnPPFeF",
        "outputId": "86055fd5-8760-4e03-d5d0-c004ffec4e6f"
      },
      "execution_count": 3,
      "outputs": [
        {
          "output_type": "stream",
          "name": "stdout",
          "text": [
            "Archive:  /content/newspaper-text-summarization-cnn-dailymail.zip\n",
            "  inflating: cnn_dailymail/test.csv  \n",
            "  inflating: cnn_dailymail/train.csv  \n"
          ]
        }
      ]
    },
    {
      "cell_type": "markdown",
      "source": [
        "# Data Preprocessing"
      ],
      "metadata": {
        "id": "xcPrVWk4t2tC"
      }
    },
    {
      "cell_type": "code",
      "source": [
        "df = pd.read_csv(\"/content/cnn_dailymail/train.csv\")\n",
        "df.head(2)"
      ],
      "metadata": {
        "colab": {
          "base_uri": "https://localhost:8080/",
          "height": 147
        },
        "id": "rOp6D7KYPD5q",
        "outputId": "850ef58a-587c-4950-d2c9-7b57c4738bcf"
      },
      "execution_count": 4,
      "outputs": [
        {
          "output_type": "execute_result",
          "data": {
            "text/plain": [
              "                                         id  \\\n",
              "0  0001d1afc246a7964130f43ae940af6bc6c57f01   \n",
              "1  0002095e55fcbd3a2f366d9bf92a95433dc305ef   \n",
              "\n",
              "                                             article  \\\n",
              "0  By . Associated Press . PUBLISHED: . 14:11 EST...   \n",
              "1  (CNN) -- Ralph Mata was an internal affairs li...   \n",
              "\n",
              "                                          highlights  \n",
              "0  Bishop John Folda, of North Dakota, is taking ...  \n",
              "1  Criminal complaint: Cop used his role to help ...  "
            ],
            "text/html": [
              "\n",
              "  <div id=\"df-8de03b97-ef7f-4e2a-9430-f655782d581e\" class=\"colab-df-container\">\n",
              "    <div>\n",
              "<style scoped>\n",
              "    .dataframe tbody tr th:only-of-type {\n",
              "        vertical-align: middle;\n",
              "    }\n",
              "\n",
              "    .dataframe tbody tr th {\n",
              "        vertical-align: top;\n",
              "    }\n",
              "\n",
              "    .dataframe thead th {\n",
              "        text-align: right;\n",
              "    }\n",
              "</style>\n",
              "<table border=\"1\" class=\"dataframe\">\n",
              "  <thead>\n",
              "    <tr style=\"text-align: right;\">\n",
              "      <th></th>\n",
              "      <th>id</th>\n",
              "      <th>article</th>\n",
              "      <th>highlights</th>\n",
              "    </tr>\n",
              "  </thead>\n",
              "  <tbody>\n",
              "    <tr>\n",
              "      <th>0</th>\n",
              "      <td>0001d1afc246a7964130f43ae940af6bc6c57f01</td>\n",
              "      <td>By . Associated Press . PUBLISHED: . 14:11 EST...</td>\n",
              "      <td>Bishop John Folda, of North Dakota, is taking ...</td>\n",
              "    </tr>\n",
              "    <tr>\n",
              "      <th>1</th>\n",
              "      <td>0002095e55fcbd3a2f366d9bf92a95433dc305ef</td>\n",
              "      <td>(CNN) -- Ralph Mata was an internal affairs li...</td>\n",
              "      <td>Criminal complaint: Cop used his role to help ...</td>\n",
              "    </tr>\n",
              "  </tbody>\n",
              "</table>\n",
              "</div>\n",
              "    <div class=\"colab-df-buttons\">\n",
              "\n",
              "  <div class=\"colab-df-container\">\n",
              "    <button class=\"colab-df-convert\" onclick=\"convertToInteractive('df-8de03b97-ef7f-4e2a-9430-f655782d581e')\"\n",
              "            title=\"Convert this dataframe to an interactive table.\"\n",
              "            style=\"display:none;\">\n",
              "\n",
              "  <svg xmlns=\"http://www.w3.org/2000/svg\" height=\"24px\" viewBox=\"0 -960 960 960\">\n",
              "    <path d=\"M120-120v-720h720v720H120Zm60-500h600v-160H180v160Zm220 220h160v-160H400v160Zm0 220h160v-160H400v160ZM180-400h160v-160H180v160Zm440 0h160v-160H620v160ZM180-180h160v-160H180v160Zm440 0h160v-160H620v160Z\"/>\n",
              "  </svg>\n",
              "    </button>\n",
              "\n",
              "  <style>\n",
              "    .colab-df-container {\n",
              "      display:flex;\n",
              "      gap: 12px;\n",
              "    }\n",
              "\n",
              "    .colab-df-convert {\n",
              "      background-color: #E8F0FE;\n",
              "      border: none;\n",
              "      border-radius: 50%;\n",
              "      cursor: pointer;\n",
              "      display: none;\n",
              "      fill: #1967D2;\n",
              "      height: 32px;\n",
              "      padding: 0 0 0 0;\n",
              "      width: 32px;\n",
              "    }\n",
              "\n",
              "    .colab-df-convert:hover {\n",
              "      background-color: #E2EBFA;\n",
              "      box-shadow: 0px 1px 2px rgba(60, 64, 67, 0.3), 0px 1px 3px 1px rgba(60, 64, 67, 0.15);\n",
              "      fill: #174EA6;\n",
              "    }\n",
              "\n",
              "    .colab-df-buttons div {\n",
              "      margin-bottom: 4px;\n",
              "    }\n",
              "\n",
              "    [theme=dark] .colab-df-convert {\n",
              "      background-color: #3B4455;\n",
              "      fill: #D2E3FC;\n",
              "    }\n",
              "\n",
              "    [theme=dark] .colab-df-convert:hover {\n",
              "      background-color: #434B5C;\n",
              "      box-shadow: 0px 1px 3px 1px rgba(0, 0, 0, 0.15);\n",
              "      filter: drop-shadow(0px 1px 2px rgba(0, 0, 0, 0.3));\n",
              "      fill: #FFFFFF;\n",
              "    }\n",
              "  </style>\n",
              "\n",
              "    <script>\n",
              "      const buttonEl =\n",
              "        document.querySelector('#df-8de03b97-ef7f-4e2a-9430-f655782d581e button.colab-df-convert');\n",
              "      buttonEl.style.display =\n",
              "        google.colab.kernel.accessAllowed ? 'block' : 'none';\n",
              "\n",
              "      async function convertToInteractive(key) {\n",
              "        const element = document.querySelector('#df-8de03b97-ef7f-4e2a-9430-f655782d581e');\n",
              "        const dataTable =\n",
              "          await google.colab.kernel.invokeFunction('convertToInteractive',\n",
              "                                                    [key], {});\n",
              "        if (!dataTable) return;\n",
              "\n",
              "        const docLinkHtml = 'Like what you see? Visit the ' +\n",
              "          '<a target=\"_blank\" href=https://colab.research.google.com/notebooks/data_table.ipynb>data table notebook</a>'\n",
              "          + ' to learn more about interactive tables.';\n",
              "        element.innerHTML = '';\n",
              "        dataTable['output_type'] = 'display_data';\n",
              "        await google.colab.output.renderOutput(dataTable, element);\n",
              "        const docLink = document.createElement('div');\n",
              "        docLink.innerHTML = docLinkHtml;\n",
              "        element.appendChild(docLink);\n",
              "      }\n",
              "    </script>\n",
              "  </div>\n",
              "\n",
              "\n",
              "<div id=\"df-1a80ca0c-7c6c-4ab5-a0c8-3fd74d697b4a\">\n",
              "  <button class=\"colab-df-quickchart\" onclick=\"quickchart('df-1a80ca0c-7c6c-4ab5-a0c8-3fd74d697b4a')\"\n",
              "            title=\"Suggest charts\"\n",
              "            style=\"display:none;\">\n",
              "\n",
              "<svg xmlns=\"http://www.w3.org/2000/svg\" height=\"24px\"viewBox=\"0 0 24 24\"\n",
              "     width=\"24px\">\n",
              "    <g>\n",
              "        <path d=\"M19 3H5c-1.1 0-2 .9-2 2v14c0 1.1.9 2 2 2h14c1.1 0 2-.9 2-2V5c0-1.1-.9-2-2-2zM9 17H7v-7h2v7zm4 0h-2V7h2v10zm4 0h-2v-4h2v4z\"/>\n",
              "    </g>\n",
              "</svg>\n",
              "  </button>\n",
              "\n",
              "<style>\n",
              "  .colab-df-quickchart {\n",
              "      --bg-color: #E8F0FE;\n",
              "      --fill-color: #1967D2;\n",
              "      --hover-bg-color: #E2EBFA;\n",
              "      --hover-fill-color: #174EA6;\n",
              "      --disabled-fill-color: #AAA;\n",
              "      --disabled-bg-color: #DDD;\n",
              "  }\n",
              "\n",
              "  [theme=dark] .colab-df-quickchart {\n",
              "      --bg-color: #3B4455;\n",
              "      --fill-color: #D2E3FC;\n",
              "      --hover-bg-color: #434B5C;\n",
              "      --hover-fill-color: #FFFFFF;\n",
              "      --disabled-bg-color: #3B4455;\n",
              "      --disabled-fill-color: #666;\n",
              "  }\n",
              "\n",
              "  .colab-df-quickchart {\n",
              "    background-color: var(--bg-color);\n",
              "    border: none;\n",
              "    border-radius: 50%;\n",
              "    cursor: pointer;\n",
              "    display: none;\n",
              "    fill: var(--fill-color);\n",
              "    height: 32px;\n",
              "    padding: 0;\n",
              "    width: 32px;\n",
              "  }\n",
              "\n",
              "  .colab-df-quickchart:hover {\n",
              "    background-color: var(--hover-bg-color);\n",
              "    box-shadow: 0 1px 2px rgba(60, 64, 67, 0.3), 0 1px 3px 1px rgba(60, 64, 67, 0.15);\n",
              "    fill: var(--button-hover-fill-color);\n",
              "  }\n",
              "\n",
              "  .colab-df-quickchart-complete:disabled,\n",
              "  .colab-df-quickchart-complete:disabled:hover {\n",
              "    background-color: var(--disabled-bg-color);\n",
              "    fill: var(--disabled-fill-color);\n",
              "    box-shadow: none;\n",
              "  }\n",
              "\n",
              "  .colab-df-spinner {\n",
              "    border: 2px solid var(--fill-color);\n",
              "    border-color: transparent;\n",
              "    border-bottom-color: var(--fill-color);\n",
              "    animation:\n",
              "      spin 1s steps(1) infinite;\n",
              "  }\n",
              "\n",
              "  @keyframes spin {\n",
              "    0% {\n",
              "      border-color: transparent;\n",
              "      border-bottom-color: var(--fill-color);\n",
              "      border-left-color: var(--fill-color);\n",
              "    }\n",
              "    20% {\n",
              "      border-color: transparent;\n",
              "      border-left-color: var(--fill-color);\n",
              "      border-top-color: var(--fill-color);\n",
              "    }\n",
              "    30% {\n",
              "      border-color: transparent;\n",
              "      border-left-color: var(--fill-color);\n",
              "      border-top-color: var(--fill-color);\n",
              "      border-right-color: var(--fill-color);\n",
              "    }\n",
              "    40% {\n",
              "      border-color: transparent;\n",
              "      border-right-color: var(--fill-color);\n",
              "      border-top-color: var(--fill-color);\n",
              "    }\n",
              "    60% {\n",
              "      border-color: transparent;\n",
              "      border-right-color: var(--fill-color);\n",
              "    }\n",
              "    80% {\n",
              "      border-color: transparent;\n",
              "      border-right-color: var(--fill-color);\n",
              "      border-bottom-color: var(--fill-color);\n",
              "    }\n",
              "    90% {\n",
              "      border-color: transparent;\n",
              "      border-bottom-color: var(--fill-color);\n",
              "    }\n",
              "  }\n",
              "</style>\n",
              "\n",
              "  <script>\n",
              "    async function quickchart(key) {\n",
              "      const quickchartButtonEl =\n",
              "        document.querySelector('#' + key + ' button');\n",
              "      quickchartButtonEl.disabled = true;  // To prevent multiple clicks.\n",
              "      quickchartButtonEl.classList.add('colab-df-spinner');\n",
              "      try {\n",
              "        const charts = await google.colab.kernel.invokeFunction(\n",
              "            'suggestCharts', [key], {});\n",
              "      } catch (error) {\n",
              "        console.error('Error during call to suggestCharts:', error);\n",
              "      }\n",
              "      quickchartButtonEl.classList.remove('colab-df-spinner');\n",
              "      quickchartButtonEl.classList.add('colab-df-quickchart-complete');\n",
              "    }\n",
              "    (() => {\n",
              "      let quickchartButtonEl =\n",
              "        document.querySelector('#df-1a80ca0c-7c6c-4ab5-a0c8-3fd74d697b4a button');\n",
              "      quickchartButtonEl.style.display =\n",
              "        google.colab.kernel.accessAllowed ? 'block' : 'none';\n",
              "    })();\n",
              "  </script>\n",
              "</div>\n",
              "\n",
              "    </div>\n",
              "  </div>\n"
            ],
            "application/vnd.google.colaboratory.intrinsic+json": {
              "type": "dataframe",
              "variable_name": "df"
            }
          },
          "metadata": {},
          "execution_count": 4
        }
      ]
    },
    {
      "cell_type": "markdown",
      "source": [
        "\n",
        "# Observation\n",
        "- we cna get the only 1000 records"
      ],
      "metadata": {
        "id": "WezTGr6gQFyv"
      }
    },
    {
      "cell_type": "markdown",
      "source": [
        "# Normal Life\n",
        "\n",
        "# Data Preprocessing\n",
        "- Convert the text into tokens\n",
        "- Lower case\n",
        "- Remove Pouncation\n",
        "- Steming or lemitizatinon\n",
        "- Embeddings"
      ],
      "metadata": {
        "id": "x5AghfRBPXN5"
      }
    },
    {
      "cell_type": "code",
      "source": [
        "df = df.iloc[:1000,1:]"
      ],
      "metadata": {
        "id": "YFYqqLdpPzGi"
      },
      "execution_count": 5,
      "outputs": []
    },
    {
      "cell_type": "code",
      "source": [
        "df.head(2)"
      ],
      "metadata": {
        "colab": {
          "base_uri": "https://localhost:8080/",
          "height": 112
        },
        "id": "doXt_wRbP2Ki",
        "outputId": "8ab4c011-0e83-4b2d-b02f-5a5fad4fb01a"
      },
      "execution_count": 6,
      "outputs": [
        {
          "output_type": "execute_result",
          "data": {
            "text/plain": [
              "                                             article  \\\n",
              "0  By . Associated Press . PUBLISHED: . 14:11 EST...   \n",
              "1  (CNN) -- Ralph Mata was an internal affairs li...   \n",
              "\n",
              "                                          highlights  \n",
              "0  Bishop John Folda, of North Dakota, is taking ...  \n",
              "1  Criminal complaint: Cop used his role to help ...  "
            ],
            "text/html": [
              "\n",
              "  <div id=\"df-141e54f4-7301-416a-8bee-299e294fef06\" class=\"colab-df-container\">\n",
              "    <div>\n",
              "<style scoped>\n",
              "    .dataframe tbody tr th:only-of-type {\n",
              "        vertical-align: middle;\n",
              "    }\n",
              "\n",
              "    .dataframe tbody tr th {\n",
              "        vertical-align: top;\n",
              "    }\n",
              "\n",
              "    .dataframe thead th {\n",
              "        text-align: right;\n",
              "    }\n",
              "</style>\n",
              "<table border=\"1\" class=\"dataframe\">\n",
              "  <thead>\n",
              "    <tr style=\"text-align: right;\">\n",
              "      <th></th>\n",
              "      <th>article</th>\n",
              "      <th>highlights</th>\n",
              "    </tr>\n",
              "  </thead>\n",
              "  <tbody>\n",
              "    <tr>\n",
              "      <th>0</th>\n",
              "      <td>By . Associated Press . PUBLISHED: . 14:11 EST...</td>\n",
              "      <td>Bishop John Folda, of North Dakota, is taking ...</td>\n",
              "    </tr>\n",
              "    <tr>\n",
              "      <th>1</th>\n",
              "      <td>(CNN) -- Ralph Mata was an internal affairs li...</td>\n",
              "      <td>Criminal complaint: Cop used his role to help ...</td>\n",
              "    </tr>\n",
              "  </tbody>\n",
              "</table>\n",
              "</div>\n",
              "    <div class=\"colab-df-buttons\">\n",
              "\n",
              "  <div class=\"colab-df-container\">\n",
              "    <button class=\"colab-df-convert\" onclick=\"convertToInteractive('df-141e54f4-7301-416a-8bee-299e294fef06')\"\n",
              "            title=\"Convert this dataframe to an interactive table.\"\n",
              "            style=\"display:none;\">\n",
              "\n",
              "  <svg xmlns=\"http://www.w3.org/2000/svg\" height=\"24px\" viewBox=\"0 -960 960 960\">\n",
              "    <path d=\"M120-120v-720h720v720H120Zm60-500h600v-160H180v160Zm220 220h160v-160H400v160Zm0 220h160v-160H400v160ZM180-400h160v-160H180v160Zm440 0h160v-160H620v160ZM180-180h160v-160H180v160Zm440 0h160v-160H620v160Z\"/>\n",
              "  </svg>\n",
              "    </button>\n",
              "\n",
              "  <style>\n",
              "    .colab-df-container {\n",
              "      display:flex;\n",
              "      gap: 12px;\n",
              "    }\n",
              "\n",
              "    .colab-df-convert {\n",
              "      background-color: #E8F0FE;\n",
              "      border: none;\n",
              "      border-radius: 50%;\n",
              "      cursor: pointer;\n",
              "      display: none;\n",
              "      fill: #1967D2;\n",
              "      height: 32px;\n",
              "      padding: 0 0 0 0;\n",
              "      width: 32px;\n",
              "    }\n",
              "\n",
              "    .colab-df-convert:hover {\n",
              "      background-color: #E2EBFA;\n",
              "      box-shadow: 0px 1px 2px rgba(60, 64, 67, 0.3), 0px 1px 3px 1px rgba(60, 64, 67, 0.15);\n",
              "      fill: #174EA6;\n",
              "    }\n",
              "\n",
              "    .colab-df-buttons div {\n",
              "      margin-bottom: 4px;\n",
              "    }\n",
              "\n",
              "    [theme=dark] .colab-df-convert {\n",
              "      background-color: #3B4455;\n",
              "      fill: #D2E3FC;\n",
              "    }\n",
              "\n",
              "    [theme=dark] .colab-df-convert:hover {\n",
              "      background-color: #434B5C;\n",
              "      box-shadow: 0px 1px 3px 1px rgba(0, 0, 0, 0.15);\n",
              "      filter: drop-shadow(0px 1px 2px rgba(0, 0, 0, 0.3));\n",
              "      fill: #FFFFFF;\n",
              "    }\n",
              "  </style>\n",
              "\n",
              "    <script>\n",
              "      const buttonEl =\n",
              "        document.querySelector('#df-141e54f4-7301-416a-8bee-299e294fef06 button.colab-df-convert');\n",
              "      buttonEl.style.display =\n",
              "        google.colab.kernel.accessAllowed ? 'block' : 'none';\n",
              "\n",
              "      async function convertToInteractive(key) {\n",
              "        const element = document.querySelector('#df-141e54f4-7301-416a-8bee-299e294fef06');\n",
              "        const dataTable =\n",
              "          await google.colab.kernel.invokeFunction('convertToInteractive',\n",
              "                                                    [key], {});\n",
              "        if (!dataTable) return;\n",
              "\n",
              "        const docLinkHtml = 'Like what you see? Visit the ' +\n",
              "          '<a target=\"_blank\" href=https://colab.research.google.com/notebooks/data_table.ipynb>data table notebook</a>'\n",
              "          + ' to learn more about interactive tables.';\n",
              "        element.innerHTML = '';\n",
              "        dataTable['output_type'] = 'display_data';\n",
              "        await google.colab.output.renderOutput(dataTable, element);\n",
              "        const docLink = document.createElement('div');\n",
              "        docLink.innerHTML = docLinkHtml;\n",
              "        element.appendChild(docLink);\n",
              "      }\n",
              "    </script>\n",
              "  </div>\n",
              "\n",
              "\n",
              "<div id=\"df-37b6faa9-6926-4fd6-bd92-4b737208e6e0\">\n",
              "  <button class=\"colab-df-quickchart\" onclick=\"quickchart('df-37b6faa9-6926-4fd6-bd92-4b737208e6e0')\"\n",
              "            title=\"Suggest charts\"\n",
              "            style=\"display:none;\">\n",
              "\n",
              "<svg xmlns=\"http://www.w3.org/2000/svg\" height=\"24px\"viewBox=\"0 0 24 24\"\n",
              "     width=\"24px\">\n",
              "    <g>\n",
              "        <path d=\"M19 3H5c-1.1 0-2 .9-2 2v14c0 1.1.9 2 2 2h14c1.1 0 2-.9 2-2V5c0-1.1-.9-2-2-2zM9 17H7v-7h2v7zm4 0h-2V7h2v10zm4 0h-2v-4h2v4z\"/>\n",
              "    </g>\n",
              "</svg>\n",
              "  </button>\n",
              "\n",
              "<style>\n",
              "  .colab-df-quickchart {\n",
              "      --bg-color: #E8F0FE;\n",
              "      --fill-color: #1967D2;\n",
              "      --hover-bg-color: #E2EBFA;\n",
              "      --hover-fill-color: #174EA6;\n",
              "      --disabled-fill-color: #AAA;\n",
              "      --disabled-bg-color: #DDD;\n",
              "  }\n",
              "\n",
              "  [theme=dark] .colab-df-quickchart {\n",
              "      --bg-color: #3B4455;\n",
              "      --fill-color: #D2E3FC;\n",
              "      --hover-bg-color: #434B5C;\n",
              "      --hover-fill-color: #FFFFFF;\n",
              "      --disabled-bg-color: #3B4455;\n",
              "      --disabled-fill-color: #666;\n",
              "  }\n",
              "\n",
              "  .colab-df-quickchart {\n",
              "    background-color: var(--bg-color);\n",
              "    border: none;\n",
              "    border-radius: 50%;\n",
              "    cursor: pointer;\n",
              "    display: none;\n",
              "    fill: var(--fill-color);\n",
              "    height: 32px;\n",
              "    padding: 0;\n",
              "    width: 32px;\n",
              "  }\n",
              "\n",
              "  .colab-df-quickchart:hover {\n",
              "    background-color: var(--hover-bg-color);\n",
              "    box-shadow: 0 1px 2px rgba(60, 64, 67, 0.3), 0 1px 3px 1px rgba(60, 64, 67, 0.15);\n",
              "    fill: var(--button-hover-fill-color);\n",
              "  }\n",
              "\n",
              "  .colab-df-quickchart-complete:disabled,\n",
              "  .colab-df-quickchart-complete:disabled:hover {\n",
              "    background-color: var(--disabled-bg-color);\n",
              "    fill: var(--disabled-fill-color);\n",
              "    box-shadow: none;\n",
              "  }\n",
              "\n",
              "  .colab-df-spinner {\n",
              "    border: 2px solid var(--fill-color);\n",
              "    border-color: transparent;\n",
              "    border-bottom-color: var(--fill-color);\n",
              "    animation:\n",
              "      spin 1s steps(1) infinite;\n",
              "  }\n",
              "\n",
              "  @keyframes spin {\n",
              "    0% {\n",
              "      border-color: transparent;\n",
              "      border-bottom-color: var(--fill-color);\n",
              "      border-left-color: var(--fill-color);\n",
              "    }\n",
              "    20% {\n",
              "      border-color: transparent;\n",
              "      border-left-color: var(--fill-color);\n",
              "      border-top-color: var(--fill-color);\n",
              "    }\n",
              "    30% {\n",
              "      border-color: transparent;\n",
              "      border-left-color: var(--fill-color);\n",
              "      border-top-color: var(--fill-color);\n",
              "      border-right-color: var(--fill-color);\n",
              "    }\n",
              "    40% {\n",
              "      border-color: transparent;\n",
              "      border-right-color: var(--fill-color);\n",
              "      border-top-color: var(--fill-color);\n",
              "    }\n",
              "    60% {\n",
              "      border-color: transparent;\n",
              "      border-right-color: var(--fill-color);\n",
              "    }\n",
              "    80% {\n",
              "      border-color: transparent;\n",
              "      border-right-color: var(--fill-color);\n",
              "      border-bottom-color: var(--fill-color);\n",
              "    }\n",
              "    90% {\n",
              "      border-color: transparent;\n",
              "      border-bottom-color: var(--fill-color);\n",
              "    }\n",
              "  }\n",
              "</style>\n",
              "\n",
              "  <script>\n",
              "    async function quickchart(key) {\n",
              "      const quickchartButtonEl =\n",
              "        document.querySelector('#' + key + ' button');\n",
              "      quickchartButtonEl.disabled = true;  // To prevent multiple clicks.\n",
              "      quickchartButtonEl.classList.add('colab-df-spinner');\n",
              "      try {\n",
              "        const charts = await google.colab.kernel.invokeFunction(\n",
              "            'suggestCharts', [key], {});\n",
              "      } catch (error) {\n",
              "        console.error('Error during call to suggestCharts:', error);\n",
              "      }\n",
              "      quickchartButtonEl.classList.remove('colab-df-spinner');\n",
              "      quickchartButtonEl.classList.add('colab-df-quickchart-complete');\n",
              "    }\n",
              "    (() => {\n",
              "      let quickchartButtonEl =\n",
              "        document.querySelector('#df-37b6faa9-6926-4fd6-bd92-4b737208e6e0 button');\n",
              "      quickchartButtonEl.style.display =\n",
              "        google.colab.kernel.accessAllowed ? 'block' : 'none';\n",
              "    })();\n",
              "  </script>\n",
              "</div>\n",
              "\n",
              "    </div>\n",
              "  </div>\n"
            ],
            "application/vnd.google.colaboratory.intrinsic+json": {
              "type": "dataframe",
              "variable_name": "df",
              "summary": "{\n  \"name\": \"df\",\n  \"rows\": 1000,\n  \"fields\": [\n    {\n      \"column\": \"article\",\n      \"properties\": {\n        \"dtype\": \"string\",\n        \"num_unique_values\": 1000,\n        \"samples\": [\n          \"Experts have used a radical new satellites to capture unique psychedelic images of the ruptures in the Earth's crust caused by the Napa earthquake. Radar images from the UK's Sentinel-1A satellite have been used to map the biggest earthquake that has shaken northern California in 25 years. The images reveal the rupture is larger than previously thought. By processing two Sentinel-1A images, which were acquired on 7 August and 31 August 2014 over this wine-producing region, an interferogram was generated. The two round shapes around Napa valley, which are visible in the central part of the image, show how the ground moved during the quake. The satellite uses a technique called 'Synthetic aperture radar interferometry'. This uses two or more satellite radar images of the same area are combined to detect large-scale surface changes. Small changes on the ground modify the reflected radar signal and lead to rainbow-coloured fringes in the 'interferogram'. Each colour cycle corresponds to a deformation of 28 mm deformation. The maximum deformation is more than 10 cm, and an area of about 30x30 km was affected significantly. Yngvar Larsen from Norway's Northern Research Institute and Petar Marinkovic from PPO.labs in the Netherlands processed this new interferogram from two images: one that Sentinel-1A acquired on 7 August, the day the satellite reached its operational orbit, and another captured on 31 August. It clearly confirms that part of the West Napa Fault system was responsible for the 6.0 earthquake that rocked California's wine-producing region. However, the fault had not been identified as being particularly hazardous prior to the quake that hit on 24 August. Importantly, the extent of the ground deformation in the interferogram shows that the fault slip continues further north than the extent of the rupture mapped at the surface. Sharp lines in the interferogram show minor movements on other faults, such as the part of the West Napa Fault system that crosses Napa airport. The maximum deformation is more than 10 cm, and an area of about 30x30 km was affected significantly. Austin Elliott, a PhD student at the University of California Davis, is one of the team mapping the earthquake rupture on the ground. Researchers have also been on the ground to examine the damage to the local area . He said, 'The data from satellites are invaluable for completely identifying the surface break of the earthquake \\u2013 deformation maps from satellite imagery guide us to places where rupture has not yet been mapped.' Tim Wright, from University of Leeds said, 'This successful demonstration of Sentinel-1A marks the beginning of a new era for our ability to map earthquakes from space. 'COMET scientists are building a system that will provide these results routinely for all continental earthquakes, as well as mapping the slow warping of the ground surface that leads to earthquakes.' Sentinel-1A passes over the same spot on the ground every 12 days. However, once its identical twin, Sentinel-1B, is launched in 2016, this will be cut to just six days, so that changes can be mapped even faster .\",\n          \"(CNN)As another snowstorm barrels toward the already-buried Northeast this weekend, some folks have had just about all they can take. Dr. Steve Schlozman, an assistant professor of psychiatry at Harvard Medical School, wrote this week that he has \\\"developed a new sympathy for my daughter's hamster,\\\" on WBUR's Common Health blog. \\\"She's seen the same cage, the same scene, the same everything, day in and day out,\\\" Schlozman wrote. \\\"But alas, my kid's hamster cannot work scissors, or a remote control for the television, or engage in any sort of higher order thinking.\\\" But too much time for thinking in the winter can lead to trouble. Millions of Americans experience a serious mood change during the winter months, when there is less natural sunlight. The condition is called seasonal affective disorder, or SAD. According to the National Institute of Mental Health, it's a type of depression, with symptoms such as: . \\u2022 Sad, anxious or \\\"empty\\\" feelings . \\u2022 Feelings of hopelessness and/or pessimism . \\u2022 Feelings of guilt, worthlessness or helplessness . \\u2022 Irritability, restlessness . \\u2022 Loss of interest or pleasure in activities you used to enjoy . \\u2022 Fatigue and decreased energy . \\u2022 Difficulty concentrating, remembering details and making decisions . \\u2022 Difficulty sleeping or oversleeping . \\u2022 Changes in weight . \\u2022 Thoughts of death or suicide . While the specific cause of SAD remains unknown, researchers have narrowed down a few factors that may come into play. \\\"Our inner clock, whose timing cycle does not necessarily match day and night outdoors, needs to stay in sync with rest-activity cycles dictated by family and work life,\\\" says Michael Terman, a professor of clinical psychology in psychiatry at Columbia University's College of Physicians and Surgeons. \\\"This is both very disorienting and a trigger for mood slumps and depression.\\\" \\\"Since the inner clock relies on sunlight to stay in sync, winter sunrise is later and winter nights are longer, melatonin can overshoot into the day, causing grogginess or 'brain fog,' for several hours,\\\" Terman says. Melatonin is a hormone that regulates sleep and wake cycles. Serotonin, one of many brain chemicals that affect mood, also varies seasonally, with lower levels in winter. According to the Mayo Clinic, SAD is diagnosed more often in women than in men, but men typically experience more severe symptoms. Younger people have a higher risk of SAD, and those affected are more likely to have blood relatives with SAD or another form of depression. So, how can you beat the winter blues? You've got a few options: . Light therapy is typically the treatment most people try first. You sit a few feet from a specially designed bright light, which mimics natural outdoor light. Solid scientific data is lacking, but light therapy appears to cause a change in brain chemicals linked to mood and seems to be effective for most people in relieving SAD symptoms. You don't need a prescription from your doctor. There are options on websites such as Amazon for under $100. The U.S. Food and Drug Administration doesn't regulate light-therapy products and, as you might expect, some of the manufacturers' claims are confusing and overreaching. The general consensus is to look for a light box that provides white light -- as opposed to blue or \\\"full spectrum\\\" -- with 10,000 lux of illumination and a broad diffuser screen that filters out UV rays. Most patients report phototherapy generally starts working in just a few days and results in few side effects; at worst: headaches, mild nausea, feelings of restlessness and trouble sleeping. If light therapy doesn't work, you might ask your doctor about a prescription for an antidepressant, especially if your symptoms are severe. Keep in mind that it might take a few weeks for the medication to fully kick in. Additionally, you may have to try a few different medications before you find one that works well for you and has the fewest side effects. If you want to go the natural route, psychotherapy is another option to treat SAD. Psychotherapy can help you identify and change negative thoughts and behaviors that may be making you feel worse, learn healthy ways to cope with SAD and learn how to better manage stress. Of course, the best solutions to any problem are sometimes the simplest. \\u2022 Get outside. Bundle up and take a walk, even a short one. Even on a cold or cloudy day, outdoor light can help -- especially if you soak it in within the first few hours or waking up in the morning. \\u2022 Make time to work out. Exercise helps decrease stress and anxiety, both of which can increase symptoms of SAD. As we all know, being more in shape can make you feel better about yourself, too, which can lift your mood. \\u2022 Last but not least: socialize. When you're feeling down, it can be hard to be social, but that's when it's most important to connect with those around you. So grab your spouse, your kids, a neighbor and let us see what you're up to by posting on social media using the hashtag #CNNsnow.\",\n          \"(CNN) -- The race is on to locate the latest Banksy on the streets of New York. The work shows a dog urinating on a fire hydrant -- with a thought bubble above the hydrant reading \\\"You complete me.\\\" This is the third piece by the mysterious street artist to appear this week. The first depicted two boys reaching up to a sign which said \\\"Graffiti Is a Crime.\\\" The second simply read \\\"This is my New York Accent... normally I write like this.\\\" Banksy authenticated the works by publishing them on his website and within hours they were located and defaced. Banksy may have started out as a graffiti artist in western England but his work now sells for millions in the coveted evening contemporary art auctions at Christie's and Sotheby's. His foray into the film business even earned him an Oscar nomination. Read more: Oscars won't let Banksy attend in disguise . He's a hugely successful artist and crucially he knows how to manage his brand. Banksy knows that his reputation was made on street corners, not in establishment hang-outs like the auction rooms of London and New York. New York 'residency' He regularly reminds us of his roots, as with his latest project in New York which his long serving PR, Jo Brooks, describes as: \\\"A month-long residency on streets of New York.\\\" Read more: Banksy mural torn from wall, up for auction . Banksy is painting images on walls, taking photographs and publishing them on Instagram and his own website. It's art but it's also a treasure hunt -- a race to locate the work before the vandals. Next to each piece is a toll-free number that the finder can call to receive an audio commentary of the work whilst standing in front of it. Banksy was an early adopter of social media. It was the perfect tool to allow him to communicate directly with fans whilst also protecting his anonymity. He's using Instagram because it doesn't matter where you are, you can see what's going on. The more traditional use of a toll-free number is intended to make it feel like you're in a museum. The lingering question is: Will anyone locate Banksy himself and publish that picture on Instagram? Well I've been trying for years. Apparently I've even met him without knowing it. But this month I hand the task over to New Yorkers ... Read more: Street vs public art .\"\n        ],\n        \"semantic_type\": \"\",\n        \"description\": \"\"\n      }\n    },\n    {\n      \"column\": \"highlights\",\n      \"properties\": {\n        \"dtype\": \"string\",\n        \"num_unique_values\": 1000,\n        \"samples\": [\n          \"Confirms\\u00a0West Napa Fault system was responsible for the 6.0 earthquake .\\nReveals area of about 30x30 km was affected significantly .\\nFault slip continues further north than previously thought .\\nsystem set to be used to monitor all future earthquakes .\",\n          \"Yet more snow heading to Northeast United States this weekend .\\nMany are tired of it, but some are SAD. Here are suggestions to help cheer up .\",\n          \"Banksy started out as a graffiti artist in western England but his work now sells for millions .\\nHe is in New York for what his spokesperson says is a \\\"month-long residency.\\\"\\nBanksy is painting images, taking photos and publishing them on Instagram and his website.\\nFinders of the works can phone a toll-free number to get a commentary on them.\"\n        ],\n        \"semantic_type\": \"\",\n        \"description\": \"\"\n      }\n    }\n  ]\n}"
            }
          },
          "metadata": {},
          "execution_count": 6
        }
      ]
    },
    {
      "cell_type": "markdown",
      "source": [
        "# Impoer necessrry packages"
      ],
      "metadata": {
        "id": "fLfLiA1UrND1"
      }
    },
    {
      "cell_type": "code",
      "source": [
        "import nltk\n",
        "from nltk import word_tokenize,sent_tokenize\n",
        "from nltk.stem import  PorterStemmer\n",
        "from nltk.corpus import stopwords\n",
        "import string\n",
        "nltk.download('punkt')\n",
        "nltk.download('punkt_tab')\n",
        "nltk.download('stopwords')"
      ],
      "metadata": {
        "colab": {
          "base_uri": "https://localhost:8080/"
        },
        "id": "57Z586fzQnmc",
        "outputId": "b4823086-ff1e-4857-a6a5-a1eb620ddacc"
      },
      "execution_count": 7,
      "outputs": [
        {
          "output_type": "stream",
          "name": "stderr",
          "text": [
            "[nltk_data] Downloading package punkt to /root/nltk_data...\n",
            "[nltk_data]   Unzipping tokenizers/punkt.zip.\n",
            "[nltk_data] Downloading package punkt_tab to /root/nltk_data...\n",
            "[nltk_data]   Unzipping tokenizers/punkt_tab.zip.\n",
            "[nltk_data] Downloading package stopwords to /root/nltk_data...\n",
            "[nltk_data]   Unzipping corpora/stopwords.zip.\n"
          ]
        },
        {
          "output_type": "execute_result",
          "data": {
            "text/plain": [
              "True"
            ]
          },
          "metadata": {},
          "execution_count": 7
        }
      ]
    },
    {
      "cell_type": "markdown",
      "source": [
        "# Data Preprocessing Function\n",
        "- we will make a dtaa preprocessing fun so that we can use them for text cleaning"
      ],
      "metadata": {
        "id": "yuujeevpQfKo"
      }
    },
    {
      "cell_type": "code",
      "source": [
        "def preprocess_text(text):\n",
        "    # Lower case\n",
        "    text = text.lower()\n",
        "\n",
        "    # Text to tokens\n",
        "    # tokens = word_tokenize(text)\n",
        "    tokens = sent_tokenize(text)\n",
        "\n",
        "    stemer = PorterStemmer()\n",
        "    clean_text = []\n",
        "    for token in tokens:\n",
        "        for word in token.split():\n",
        "            word = stemer.stem(word)\n",
        "            # print(word)\n",
        "            clean_text.append(word)\n",
        "    return \" \".join(clean_text)"
      ],
      "metadata": {
        "id": "NldanEEHQkfh"
      },
      "execution_count": 9,
      "outputs": []
    },
    {
      "cell_type": "code",
      "source": [
        "# Test the fun\n",
        "preprocess_text(df.iloc[0,0])"
      ],
      "metadata": {
        "colab": {
          "base_uri": "https://localhost:8080/",
          "height": 174
        },
        "id": "_0RewDpeQ83j",
        "outputId": "c7d72b53-70e9-4d1e-8b3a-eb5375ef1d78"
      },
      "execution_count": 10,
      "outputs": [
        {
          "output_type": "execute_result",
          "data": {
            "text/plain": [
              "\"by . associ press . published: . 14:11 est, 25 octob 2013 . | . updated: . 15:36 est, 25 octob 2013 . the bishop of the fargo cathol dioces in north dakota ha expos potenti hundr of church member in fargo, grand fork and jamestown to the hepat a viru in late septemb and earli october. the state health depart ha issu an advisori of exposur for anyon who attend five church and took communion. bishop john folda (pictured) of the fargo cathol dioces in north dakota ha expos potenti hundr of church member in fargo, grand fork and jamestown to the hepat a . state immun program manag molli howel say the risk is low, but offici feel it' import to alert peopl to the possibl exposure. the dioces announc on monday that bishop john folda is take time off after be diagnos with hepat a. the dioces say he contract the infect through contamin food while attend a confer for newli ordain bishop in itali last month. symptom of hepat a includ fever, tiredness, loss of appetite, nausea and abdomin discomfort. fargo cathol dioces in north dakota (pictured) is where the bishop is locat .\""
            ],
            "application/vnd.google.colaboratory.intrinsic+json": {
              "type": "string"
            }
          },
          "metadata": {},
          "execution_count": 10
        }
      ]
    },
    {
      "cell_type": "code",
      "source": [
        "# Test the fun\n",
        "preprocess_text(df.iloc[0,1])"
      ],
      "metadata": {
        "colab": {
          "base_uri": "https://localhost:8080/",
          "height": 53
        },
        "id": "iA84nfULRH1_",
        "outputId": "91080747-dd81-494d-c137-5af50b0697ea"
      },
      "execution_count": 11,
      "outputs": [
        {
          "output_type": "execute_result",
          "data": {
            "text/plain": [
              "'bishop john folda, of north dakota, is take time off after be diagnos . he contract the infect through contamin food in itali . church member in fargo, grand fork and jamestown could have been expos .'"
            ],
            "application/vnd.google.colaboratory.intrinsic+json": {
              "type": "string"
            }
          },
          "metadata": {},
          "execution_count": 11
        }
      ]
    },
    {
      "cell_type": "code",
      "source": [
        "# Apply the function\n",
        "%%time\n",
        "df['article'] = df['article'].apply(preprocess_text)\n",
        "df['highlights'] = df['highlights'].apply(preprocess_text)"
      ],
      "metadata": {
        "colab": {
          "base_uri": "https://localhost:8080/"
        },
        "id": "SF32c87AVEwC",
        "outputId": "53831850-473d-4ad6-dd0c-dd909b7ecc86"
      },
      "execution_count": 12,
      "outputs": [
        {
          "output_type": "stream",
          "name": "stdout",
          "text": [
            "CPU times: user 15.9 s, sys: 43.6 ms, total: 15.9 s\n",
            "Wall time: 16.1 s\n"
          ]
        }
      ]
    },
    {
      "cell_type": "markdown",
      "source": [
        "# Observation\n",
        "- We can't remove the stopword b/c context of the meaning is important for text summerization"
      ],
      "metadata": {
        "id": "p8MMB4cXYB89"
      }
    },
    {
      "cell_type": "code",
      "source": [
        "df['article'][0]"
      ],
      "metadata": {
        "colab": {
          "base_uri": "https://localhost:8080/",
          "height": 174
        },
        "id": "yYe9ZfCjWWxv",
        "outputId": "96f0c23d-d850-48b8-adab-df0948fd775d"
      },
      "execution_count": 13,
      "outputs": [
        {
          "output_type": "execute_result",
          "data": {
            "text/plain": [
              "\"by . associ press . published: . 14:11 est, 25 octob 2013 . | . updated: . 15:36 est, 25 octob 2013 . the bishop of the fargo cathol dioces in north dakota ha expos potenti hundr of church member in fargo, grand fork and jamestown to the hepat a viru in late septemb and earli october. the state health depart ha issu an advisori of exposur for anyon who attend five church and took communion. bishop john folda (pictured) of the fargo cathol dioces in north dakota ha expos potenti hundr of church member in fargo, grand fork and jamestown to the hepat a . state immun program manag molli howel say the risk is low, but offici feel it' import to alert peopl to the possibl exposure. the dioces announc on monday that bishop john folda is take time off after be diagnos with hepat a. the dioces say he contract the infect through contamin food while attend a confer for newli ordain bishop in itali last month. symptom of hepat a includ fever, tiredness, loss of appetite, nausea and abdomin discomfort. fargo cathol dioces in north dakota (pictured) is where the bishop is locat .\""
            ],
            "application/vnd.google.colaboratory.intrinsic+json": {
              "type": "string"
            }
          },
          "metadata": {},
          "execution_count": 13
        }
      ]
    },
    {
      "cell_type": "code",
      "source": [
        "df['highlights'][0]"
      ],
      "metadata": {
        "colab": {
          "base_uri": "https://localhost:8080/",
          "height": 53
        },
        "id": "YD7WRQiSWYZe",
        "outputId": "faf78e38-5a02-40f8-c309-beec65f41814"
      },
      "execution_count": 14,
      "outputs": [
        {
          "output_type": "execute_result",
          "data": {
            "text/plain": [
              "'bishop john folda, of north dakota, is take time off after be diagnos . he contract the infect through contamin food in itali . church member in fargo, grand fork and jamestown could have been expos .'"
            ],
            "application/vnd.google.colaboratory.intrinsic+json": {
              "type": "string"
            }
          },
          "metadata": {},
          "execution_count": 14
        }
      ]
    },
    {
      "cell_type": "markdown",
      "source": [
        "# Observation\n",
        "- Now we can clean the text now we can conevcrt the text into embeddings"
      ],
      "metadata": {
        "id": "ak8_fvanXN1G"
      }
    },
    {
      "cell_type": "markdown",
      "source": [
        "# TFIDF\n",
        "- we will use the `TF-IDF` for text encoding\n",
        "- **Note** we will also use the `Count Vectorizer` keep in mind."
      ],
      "metadata": {
        "id": "gyJlrYLNrlod"
      }
    },
    {
      "cell_type": "code",
      "source": [
        "from sklearn.feature_extraction.text import TfidfVectorizer"
      ],
      "metadata": {
        "id": "_O8jGI3XXMcM"
      },
      "execution_count": 15,
      "outputs": []
    },
    {
      "cell_type": "code",
      "source": [
        "artile_courpus = df['article'].tolist()\n",
        "summary_courpus = df['highlights'].tolist()"
      ],
      "metadata": {
        "id": "0LQtuGseYX3Q"
      },
      "execution_count": 16,
      "outputs": []
    },
    {
      "cell_type": "code",
      "source": [
        "vector = TfidfVectorizer()\n",
        "\n",
        "# article embedding\n",
        "article_embedding = vector.fit_transform(artile_courpus).toarray()\n",
        "\n",
        "# summary embeddings\n",
        "summary_embedding = vector.fit_transform(summary_courpus ).toarray()"
      ],
      "metadata": {
        "id": "1yqWMCgSYii-"
      },
      "execution_count": 17,
      "outputs": []
    },
    {
      "cell_type": "code",
      "source": [
        "# article embedding\n",
        "article_embedding\n",
        "\n",
        "# summary embeddings\n",
        "summary_embedding"
      ],
      "metadata": {
        "colab": {
          "base_uri": "https://localhost:8080/"
        },
        "id": "XLMQSbQUZpKN",
        "outputId": "e46020cd-34fe-4caa-da77-a3c30519f3f8"
      },
      "execution_count": 18,
      "outputs": [
        {
          "output_type": "execute_result",
          "data": {
            "text/plain": [
              "array([[0.        , 0.        , 0.        , ..., 0.        , 0.        ,\n",
              "        0.        ],\n",
              "       [0.        , 0.        , 0.        , ..., 0.        , 0.        ,\n",
              "        0.        ],\n",
              "       [0.        , 0.        , 0.        , ..., 0.        , 0.        ,\n",
              "        0.        ],\n",
              "       ...,\n",
              "       [0.        , 0.        , 0.        , ..., 0.        , 0.        ,\n",
              "        0.        ],\n",
              "       [0.        , 0.21594621, 0.        , ..., 0.        , 0.        ,\n",
              "        0.        ],\n",
              "       [0.        , 0.        , 0.        , ..., 0.        , 0.        ,\n",
              "        0.        ]])"
            ]
          },
          "metadata": {},
          "execution_count": 18
        }
      ]
    },
    {
      "cell_type": "code",
      "source": [
        "# Now make dic\n",
        "dic = {\n",
        "    \"Article\" : artile_courpus,\n",
        "    \"Article_Embedding\" : article_embedding,\n",
        "\n",
        "    \"Summary\" : artile_courpus,\n",
        "    \"summary_embedding\" : summary_embedding\n",
        "}"
      ],
      "metadata": {
        "id": "k7MAwhBuaB6G"
      },
      "execution_count": 19,
      "outputs": []
    },
    {
      "cell_type": "code",
      "source": [
        "dic['Article'][0]"
      ],
      "metadata": {
        "colab": {
          "base_uri": "https://localhost:8080/",
          "height": 174
        },
        "id": "O_Lxlb3vb2dJ",
        "outputId": "c2ead70f-e167-4c81-96d2-63c18647fb1d"
      },
      "execution_count": 20,
      "outputs": [
        {
          "output_type": "execute_result",
          "data": {
            "text/plain": [
              "\"by . associ press . published: . 14:11 est, 25 octob 2013 . | . updated: . 15:36 est, 25 octob 2013 . the bishop of the fargo cathol dioces in north dakota ha expos potenti hundr of church member in fargo, grand fork and jamestown to the hepat a viru in late septemb and earli october. the state health depart ha issu an advisori of exposur for anyon who attend five church and took communion. bishop john folda (pictured) of the fargo cathol dioces in north dakota ha expos potenti hundr of church member in fargo, grand fork and jamestown to the hepat a . state immun program manag molli howel say the risk is low, but offici feel it' import to alert peopl to the possibl exposure. the dioces announc on monday that bishop john folda is take time off after be diagnos with hepat a. the dioces say he contract the infect through contamin food while attend a confer for newli ordain bishop in itali last month. symptom of hepat a includ fever, tiredness, loss of appetite, nausea and abdomin discomfort. fargo cathol dioces in north dakota (pictured) is where the bishop is locat .\""
            ],
            "application/vnd.google.colaboratory.intrinsic+json": {
              "type": "string"
            }
          },
          "metadata": {},
          "execution_count": 20
        }
      ]
    },
    {
      "cell_type": "code",
      "source": [
        "dic['Article_Embedding'][0]"
      ],
      "metadata": {
        "colab": {
          "base_uri": "https://localhost:8080/"
        },
        "id": "Im6ClNPScXnq",
        "outputId": "20f237ef-3a9d-4bda-f0aa-4374250bb2f1"
      },
      "execution_count": 21,
      "outputs": [
        {
          "output_type": "execute_result",
          "data": {
            "text/plain": [
              "array([0., 0., 0., ..., 0., 0., 0.])"
            ]
          },
          "metadata": {},
          "execution_count": 21
        }
      ]
    },
    {
      "cell_type": "markdown",
      "source": [
        "# Legend Life\n",
        "- In this we can use the advance tokenization technique like `tok token` and `hugging face tokenization` ect"
      ],
      "metadata": {
        "id": "VraeKLRleXL2"
      }
    },
    {
      "cell_type": "markdown",
      "source": [
        "# Tik-Token Embedding"
      ],
      "metadata": {
        "id": "HpRtBbWxiOQ1"
      }
    },
    {
      "cell_type": "code",
      "source": [
        "!pip install tiktoken"
      ],
      "metadata": {
        "colab": {
          "base_uri": "https://localhost:8080/"
        },
        "collapsed": true,
        "id": "LKFqsG70etqM",
        "outputId": "93df6272-7524-4dd6-fd32-48edd5d0ceb9"
      },
      "execution_count": 22,
      "outputs": [
        {
          "output_type": "stream",
          "name": "stdout",
          "text": [
            "Collecting tiktoken\n",
            "  Downloading tiktoken-0.8.0-cp310-cp310-manylinux_2_17_x86_64.manylinux2014_x86_64.whl.metadata (6.6 kB)\n",
            "Requirement already satisfied: regex>=2022.1.18 in /usr/local/lib/python3.10/dist-packages (from tiktoken) (2024.9.11)\n",
            "Requirement already satisfied: requests>=2.26.0 in /usr/local/lib/python3.10/dist-packages (from tiktoken) (2.32.3)\n",
            "Requirement already satisfied: charset-normalizer<4,>=2 in /usr/local/lib/python3.10/dist-packages (from requests>=2.26.0->tiktoken) (3.4.0)\n",
            "Requirement already satisfied: idna<4,>=2.5 in /usr/local/lib/python3.10/dist-packages (from requests>=2.26.0->tiktoken) (3.10)\n",
            "Requirement already satisfied: urllib3<3,>=1.21.1 in /usr/local/lib/python3.10/dist-packages (from requests>=2.26.0->tiktoken) (2.2.3)\n",
            "Requirement already satisfied: certifi>=2017.4.17 in /usr/local/lib/python3.10/dist-packages (from requests>=2.26.0->tiktoken) (2024.8.30)\n",
            "Downloading tiktoken-0.8.0-cp310-cp310-manylinux_2_17_x86_64.manylinux2014_x86_64.whl (1.2 MB)\n",
            "\u001b[?25l   \u001b[90m━━━━━━━━━━━━━━━━━━━━━━━━━━━━━━━━━━━━━━━━\u001b[0m \u001b[32m0.0/1.2 MB\u001b[0m \u001b[31m?\u001b[0m eta \u001b[36m-:--:--\u001b[0m\r\u001b[2K   \u001b[91m━━━━━━━━━━━━━━━━━━━━━━━━━\u001b[0m\u001b[90m╺\u001b[0m\u001b[90m━━━━━━━━━━━━━━\u001b[0m \u001b[32m0.7/1.2 MB\u001b[0m \u001b[31m22.0 MB/s\u001b[0m eta \u001b[36m0:00:01\u001b[0m\r\u001b[2K   \u001b[90m━━━━━━━━━━━━━━━━━━━━━━━━━━━━━━━━━━━━━━━━\u001b[0m \u001b[32m1.2/1.2 MB\u001b[0m \u001b[31m21.0 MB/s\u001b[0m eta \u001b[36m0:00:00\u001b[0m\n",
            "\u001b[?25hInstalling collected packages: tiktoken\n",
            "Successfully installed tiktoken-0.8.0\n"
          ]
        }
      ]
    },
    {
      "cell_type": "code",
      "source": [
        "import tiktoken"
      ],
      "metadata": {
        "id": "zzJnmxmzfqp3"
      },
      "execution_count": 23,
      "outputs": []
    },
    {
      "cell_type": "code",
      "source": [
        "# Initilize the encoding\n",
        "encoding = tiktoken.get_encoding(\"cl100k_base\")"
      ],
      "metadata": {
        "id": "ikUPponJfUDu"
      },
      "execution_count": 24,
      "outputs": []
    },
    {
      "cell_type": "code",
      "source": [
        "def process_text(text):\n",
        "    # Convert the text to lower case\n",
        "    text = text.lower()\n",
        "    # convert the text into token\n",
        "    encoding = tiktoken.get_encoding(\"cl100k_base\")\n",
        "\n",
        "    # Encode text into tokens\n",
        "    tokens = encoding.encode(text)\n",
        "\n",
        "    return tokens"
      ],
      "metadata": {
        "id": "w2aYddQYe2HJ"
      },
      "execution_count": 25,
      "outputs": []
    },
    {
      "cell_type": "code",
      "source": [
        "# Test the fun\n",
        "tokens = process_text(df['article'][0])"
      ],
      "metadata": {
        "id": "yyYF5ZGxfdbV"
      },
      "execution_count": 26,
      "outputs": []
    },
    {
      "cell_type": "code",
      "source": [
        "print(\"token: \",tokens)"
      ],
      "metadata": {
        "colab": {
          "base_uri": "https://localhost:8080/"
        },
        "id": "wHdRg0wcfjhF",
        "outputId": "485766c8-ede2-492d-df42-618f2941ce20"
      },
      "execution_count": 27,
      "outputs": [
        {
          "output_type": "stream",
          "name": "stdout",
          "text": [
            "token:  [1729, 662, 4189, 3577, 662, 4756, 25, 662, 220, 975, 25, 806, 1826, 11, 220, 914, 18998, 677, 220, 679, 18, 662, 765, 662, 6177, 25, 662, 220, 868, 25, 1927, 1826, 11, 220, 914, 18998, 677, 220, 679, 18, 662, 279, 54306, 315, 279, 282, 12359, 31747, 337, 1891, 511, 288, 304, 10411, 98153, 6217, 6520, 46956, 3419, 23202, 305, 1263, 81, 315, 8993, 4562, 304, 282, 12359, 11, 6800, 23243, 323, 503, 373, 44058, 311, 279, 58259, 264, 9043, 84, 304, 3389, 35429, 9034, 323, 2487, 747, 18998, 6048, 13, 279, 1614, 2890, 11776, 6520, 53066, 459, 9819, 13915, 315, 46956, 324, 369, 904, 263, 889, 9604, 4330, 8993, 323, 3952, 94132, 13, 54306, 40742, 11816, 64, 320, 69389, 8, 315, 279, 282, 12359, 31747, 337, 1891, 511, 288, 304, 10411, 98153, 6217, 6520, 46956, 3419, 23202, 305, 1263, 81, 315, 8993, 4562, 304, 282, 12359, 11, 6800, 23243, 323, 503, 373, 44058, 311, 279, 58259, 264, 662, 1614, 33119, 2068, 893, 351, 22337, 747, 1268, 301, 2019, 279, 5326, 374, 3428, 11, 719, 2856, 72, 2733, 433, 6, 1179, 311, 5225, 1069, 56178, 311, 279, 2278, 581, 75, 14675, 13, 279, 1891, 511, 288, 5466, 389, 94299, 430, 54306, 40742, 11816, 64, 374, 1935, 892, 1022, 1306, 387, 13493, 437, 449, 58259, 264, 13, 279, 1891, 511, 288, 2019, 568, 5226, 279, 34527, 1555, 35522, 3691, 1418, 9604, 264, 49843, 369, 502, 747, 6141, 467, 54306, 304, 433, 8115, 1566, 2305, 13, 49648, 315, 58259, 264, 1836, 34653, 11, 19781, 2136, 11, 4814, 315, 38575, 11, 61880, 323, 37084, 258, 44776, 13, 282, 12359, 31747, 337, 1891, 511, 288, 304, 10411, 98153, 6217, 320, 69389, 8, 374, 1405, 279, 54306, 374, 1353, 266, 662]\n"
          ]
        }
      ]
    },
    {
      "cell_type": "code",
      "source": [
        "# Decode the token\n",
        "decode_text = encoding.decode(tokens)\n",
        "decode_text"
      ],
      "metadata": {
        "colab": {
          "base_uri": "https://localhost:8080/",
          "height": 174
        },
        "id": "LPcp1NS3gNlV",
        "outputId": "b83ce5a8-0689-4a0e-c9da-34ec20ef0153"
      },
      "execution_count": 28,
      "outputs": [
        {
          "output_type": "execute_result",
          "data": {
            "text/plain": [
              "\"by . associ press . published: . 14:11 est, 25 octob 2013 . | . updated: . 15:36 est, 25 octob 2013 . the bishop of the fargo cathol dioces in north dakota ha expos potenti hundr of church member in fargo, grand fork and jamestown to the hepat a viru in late septemb and earli october. the state health depart ha issu an advisori of exposur for anyon who attend five church and took communion. bishop john folda (pictured) of the fargo cathol dioces in north dakota ha expos potenti hundr of church member in fargo, grand fork and jamestown to the hepat a . state immun program manag molli howel say the risk is low, but offici feel it' import to alert peopl to the possibl exposure. the dioces announc on monday that bishop john folda is take time off after be diagnos with hepat a. the dioces say he contract the infect through contamin food while attend a confer for newli ordain bishop in itali last month. symptom of hepat a includ fever, tiredness, loss of appetite, nausea and abdomin discomfort. fargo cathol dioces in north dakota (pictured) is where the bishop is locat .\""
            ],
            "application/vnd.google.colaboratory.intrinsic+json": {
              "type": "string"
            }
          },
          "metadata": {},
          "execution_count": 28
        }
      ]
    },
    {
      "cell_type": "markdown",
      "source": [
        "# Hugging Face Tokenization\n",
        "- In this we can use `hugging face tokenizer`"
      ],
      "metadata": {
        "id": "ru74Fc2JiUY1"
      }
    },
    {
      "cell_type": "code",
      "source": [
        "# model = T5ForConditionalGeneration.from_pretrained('t5-base')"
      ],
      "metadata": {
        "id": "jWzmoi_nir1l"
      },
      "execution_count": 30,
      "outputs": []
    },
    {
      "cell_type": "code",
      "source": [
        "from transformers import T5Tokenizer, T5ForConditionalGeneration"
      ],
      "metadata": {
        "id": "X9OpQuU9gbyr"
      },
      "execution_count": 31,
      "outputs": []
    },
    {
      "cell_type": "code",
      "source": [
        "# Load the T5 tokenizer and model\n",
        "tokenizer = T5Tokenizer.from_pretrained('t5-base')"
      ],
      "metadata": {
        "colab": {
          "base_uri": "https://localhost:8080/",
          "height": 150,
          "referenced_widgets": [
            "7c5f34bbac8a42518477f0fd17791d18",
            "4fdfecb116c84fb1bd2a955dcb05331e",
            "7b6ff428321f403b8fc7e108ad5b84c6",
            "64cd8de54580474fb18c06bc821f99ef",
            "80848c47c2d44be5829b55a27e52f1a1",
            "2c6935776be14541976437ef878153f3",
            "1d74cb32877a4ab79ab416ded35b161d",
            "fa279fb2b7e74fe1a7548fccfce774b3",
            "94cbcdb44ad34be4b5a072d46c4f786f",
            "997468e93bb841e5bab57e8d6e8449bc",
            "44f8d089d62942a5b85cb48070cbeda5",
            "64e54583c5a942c6ad731c583165798b",
            "b48318d54c3c4c24a27bdbfc31951581",
            "9b5c21d10a8c46a286e7eeff64792ac9",
            "ec5a482f3eb246b0b6ebc3190350aeed",
            "bceb0f4edf0246a99a9052b26c50065c",
            "c6ef0976f37b478992d268e8bd055015",
            "d0384748d8c54f1e9f73f53d28f7d6d7",
            "53a00bd2c6c14c5b94406864fa87da0f",
            "ebea67d6354b43a793ae595185191b73",
            "6ed3162687954d58a71fd5f7aeec9d57",
            "fd40834ee1a745708dd63eb9eba12e63",
            "f39cdeef582c48929747b5e0c7cbabd6",
            "36b0df91edbf474f8d959a29bdd04e59",
            "6fb92e8e340d49078ed704069dd6c435",
            "ea2bd6da777c452792f1aec93caa0208",
            "bc0a05a589ab49e59e41dda81d6e3edd",
            "e58e2275fa8e4b479d1715ef19c225f7",
            "8b91727e79a445e59c7961b314caba55",
            "8afedbd7134c413f8730df484bd62072",
            "69510586092e46f58946a248952c53cd",
            "e4800f5989d84475b17322518ad60463",
            "3f95b9ccc86141b79c1efae9f9fb5699"
          ]
        },
        "id": "DNhwT5soitud",
        "outputId": "1b9adc36-d8e7-4f67-bdb8-ef261a0abcd9"
      },
      "execution_count": 32,
      "outputs": [
        {
          "output_type": "display_data",
          "data": {
            "text/plain": [
              "spiece.model:   0%|          | 0.00/792k [00:00<?, ?B/s]"
            ],
            "application/vnd.jupyter.widget-view+json": {
              "version_major": 2,
              "version_minor": 0,
              "model_id": "7c5f34bbac8a42518477f0fd17791d18"
            }
          },
          "metadata": {}
        },
        {
          "output_type": "display_data",
          "data": {
            "text/plain": [
              "tokenizer.json:   0%|          | 0.00/1.39M [00:00<?, ?B/s]"
            ],
            "application/vnd.jupyter.widget-view+json": {
              "version_major": 2,
              "version_minor": 0,
              "model_id": "64e54583c5a942c6ad731c583165798b"
            }
          },
          "metadata": {}
        },
        {
          "output_type": "display_data",
          "data": {
            "text/plain": [
              "config.json:   0%|          | 0.00/1.21k [00:00<?, ?B/s]"
            ],
            "application/vnd.jupyter.widget-view+json": {
              "version_major": 2,
              "version_minor": 0,
              "model_id": "f39cdeef582c48929747b5e0c7cbabd6"
            }
          },
          "metadata": {}
        },
        {
          "output_type": "stream",
          "name": "stderr",
          "text": [
            "You are using the default legacy behaviour of the <class 'transformers.models.t5.tokenization_t5.T5Tokenizer'>. This is expected, and simply means that the `legacy` (previous) behavior will be used so nothing changes for you. If you want to use the new behaviour, set `legacy=False`. This should only be set if you understand what it means, and thoroughly read the reason why this was added as explained in https://github.com/huggingface/transformers/pull/24565\n"
          ]
        }
      ]
    },
    {
      "cell_type": "markdown",
      "source": [
        "# Test the tokenizer"
      ],
      "metadata": {
        "id": "jkJJqezqivb7"
      }
    },
    {
      "cell_type": "code",
      "source": [
        "# ipput ids\n",
        "input_ids=tokenizer(df['article'][0])"
      ],
      "metadata": {
        "id": "BB-kHM50iuvJ"
      },
      "execution_count": 33,
      "outputs": []
    },
    {
      "cell_type": "code",
      "source": [
        "tokenizer.decode(input_ids['input_ids'])"
      ],
      "metadata": {
        "colab": {
          "base_uri": "https://localhost:8080/",
          "height": 174
        },
        "id": "bgRxZGH8jHV-",
        "outputId": "d04fa721-eaa9-4ce1-ff45-09bf3730ed56"
      },
      "execution_count": 34,
      "outputs": [
        {
          "output_type": "execute_result",
          "data": {
            "text/plain": [
              "\"by . associ press . published: . 14:11 est, 25 octob 2013 . | . updated: . 15:36 est, 25 octob 2013 . the bishop of the fargo cathol dioces in north dakota ha expos potenti hundr of church member in fargo, grand fork and jamestown to the hepat a viru in late septemb and earli october. the state health depart ha issu an advisori of exposur for anyon who attend five church and took communion. bishop john folda (pictured) of the fargo cathol dioces in north dakota ha expos potenti hundr of church member in fargo, grand fork and jamestown to the hepat a . state immun program manag molli howel say the risk is low, but offici feel it' import to alert peopl to the possibl exposure. the dioces announc on monday that bishop john folda is take time off after be diagnos with hepat a. the dioces say he contract the infect through contamin food while attend a confer for newli ordain bishop in itali last month. symptom of hepat a includ fever, tiredness, loss of appetite, nausea and abdomin discomfort. fargo cathol dioces in north dakota (pictured) is where the bishop is locat .</s>\""
            ],
            "application/vnd.google.colaboratory.intrinsic+json": {
              "type": "string"
            }
          },
          "metadata": {},
          "execution_count": 34
        }
      ]
    },
    {
      "cell_type": "code",
      "source": [
        "# fun for text encoding\n",
        "def process_text(data):\n",
        "    artilce = data['article']\n",
        "    summary = data['highlights']\n",
        "\n",
        "    article_encoding = tokenizer(artilce, return_tensors=\"pt\",padding=True, truncation=True)\n",
        "    summary_encoding = tokenizer(summary, return_tensors=\"pt\",padding=True, truncation=True)\n",
        "\n",
        "    return {\n",
        "        \"input_ids\": article_encoding[\"input_ids\"].squeeze(),\n",
        "        \"attention_mask\":article_encoding['attention_mask'].squeeze(),\n",
        "        \"labels\": summary_encoding[\"input_ids\"].squeeze()\n",
        "    }"
      ],
      "metadata": {
        "id": "-Yk81WX8kP8u"
      },
      "execution_count": 35,
      "outputs": []
    },
    {
      "cell_type": "code",
      "source": [
        "process_text(df.iloc[0])"
      ],
      "metadata": {
        "colab": {
          "base_uri": "https://localhost:8080/"
        },
        "id": "iQd3rjVWlekk",
        "outputId": "d833466a-ec2d-4947-f1e7-f4b0e958acc9"
      },
      "execution_count": 36,
      "outputs": [
        {
          "output_type": "stream",
          "name": "stderr",
          "text": [
            "Asking to truncate to max_length but no maximum length is provided and the model has no predefined maximum length. Default to no truncation.\n"
          ]
        },
        {
          "output_type": "execute_result",
          "data": {
            "text/plain": [
              "{'input_ids': tensor([   57,     3,     5,    38,  5444,  2785,     3,     5,  1790,    10,\n",
              "             3,     5,   968,    10,  2596,   259,     6,   944,     3,    32,\n",
              "            75,   235,   115,  2038,     3,     5,  1820,     3,     5,  3250,\n",
              "            10,     3,     5,   627,    10,  3420,   259,     6,   944,     3,\n",
              "            32,    75,   235,   115,  2038,     3,     5,     8, 25214,    13,\n",
              "             8,   623,   839,  1712,  2831,  1227,    32,  2319,    16,  3457,\n",
              "           836, 15414,     9,  4244,     3, 19300,     7,   815,   295,    23,\n",
              "             3,   107,  1106,    52,    13,  2078,  1144,    16,   623,   839,\n",
              "             6,  1907,    21,   157,    11,  7620,    15,     7,  3540,    12,\n",
              "             8,     3,    88,  4665,     3,     9,     3,  5771,    76,    16,\n",
              "          1480, 16022,    15,    51,   115,    11,     3,  2741,    40,    23,\n",
              "             3,    32,    75,   235,  1152,     5,     8,   538,   533, 15407,\n",
              "          4244,    19,     7,    76,    46,  8815,    23,    13,     3, 19300,\n",
              "          3042,    21,   136,   106,   113,  2467,   874,  2078,    11,   808,\n",
              "         30124,     5, 25214,     3, 27341, 11750,     9,    41, 22665,    61,\n",
              "            13,     8,   623,   839,  1712,  2831,  1227,    32,  2319,    16,\n",
              "          3457,   836, 15414,     9,  4244,     3, 19300,     7,   815,   295,\n",
              "            23,     3,   107,  1106,    52,    13,  2078,  1144,    16,   623,\n",
              "           839,     6,  1907,    21,   157,    11,  7620,    15,     7,  3540,\n",
              "            12,     8,     3,    88,  4665,     3,     9,     3,     5,   538,\n",
              "           256,    51,   202,   478,   388,     9,   122,     3,    51, 20953,\n",
              "           149,    15,    40,   497,     8,  1020,    19,   731,     6,    68,\n",
              "           326,  1294,   473,    34,    31,  4830,    12,  5685,   158,    32,\n",
              "           102,    40,    12,     8,     3,  2748,     7,    23,   115,    40,\n",
              "          4773,     5,     8,  1227,    32,  2319,     3, 24889,   202,    75,\n",
              "            30,  1911,  1135,    24, 25214,     3, 27341, 11750,     9,    19,\n",
              "           240,    97,   326,   227,    36, 28252,    28,     3,    88,  4665,\n",
              "             3,     9,     5,     8,  1227,    32,  2319,   497,     3,    88,\n",
              "          1696,     8,    16,  4075,   190,     3, 23753,   542,   298,  2467,\n",
              "             3,     9, 11323,    21,   126,    40,    23,    42,    26,     9,\n",
              "            77, 25214,    16,    34,  4288,   336,   847,     5,     3, 18018,\n",
              "            13,     3,    88,  4665,     3,     9, 12507,    26, 17055,     6,\n",
              "          7718,   655,     6,  1453,    13, 17699,     6, 25808,    11,   703,\n",
              "          5012,    77, 17294,     5,   623,   839,  1712,  2831,  1227,    32,\n",
              "          2319,    16,  3457,   836, 15414,     9,    41, 22665,    61,    19,\n",
              "           213,     8, 25214,    19,  2072,   144,     3,     5,     1]),\n",
              " 'attention_mask': tensor([1, 1, 1, 1, 1, 1, 1, 1, 1, 1, 1, 1, 1, 1, 1, 1, 1, 1, 1, 1, 1, 1, 1, 1,\n",
              "         1, 1, 1, 1, 1, 1, 1, 1, 1, 1, 1, 1, 1, 1, 1, 1, 1, 1, 1, 1, 1, 1, 1, 1,\n",
              "         1, 1, 1, 1, 1, 1, 1, 1, 1, 1, 1, 1, 1, 1, 1, 1, 1, 1, 1, 1, 1, 1, 1, 1,\n",
              "         1, 1, 1, 1, 1, 1, 1, 1, 1, 1, 1, 1, 1, 1, 1, 1, 1, 1, 1, 1, 1, 1, 1, 1,\n",
              "         1, 1, 1, 1, 1, 1, 1, 1, 1, 1, 1, 1, 1, 1, 1, 1, 1, 1, 1, 1, 1, 1, 1, 1,\n",
              "         1, 1, 1, 1, 1, 1, 1, 1, 1, 1, 1, 1, 1, 1, 1, 1, 1, 1, 1, 1, 1, 1, 1, 1,\n",
              "         1, 1, 1, 1, 1, 1, 1, 1, 1, 1, 1, 1, 1, 1, 1, 1, 1, 1, 1, 1, 1, 1, 1, 1,\n",
              "         1, 1, 1, 1, 1, 1, 1, 1, 1, 1, 1, 1, 1, 1, 1, 1, 1, 1, 1, 1, 1, 1, 1, 1,\n",
              "         1, 1, 1, 1, 1, 1, 1, 1, 1, 1, 1, 1, 1, 1, 1, 1, 1, 1, 1, 1, 1, 1, 1, 1,\n",
              "         1, 1, 1, 1, 1, 1, 1, 1, 1, 1, 1, 1, 1, 1, 1, 1, 1, 1, 1, 1, 1, 1, 1, 1,\n",
              "         1, 1, 1, 1, 1, 1, 1, 1, 1, 1, 1, 1, 1, 1, 1, 1, 1, 1, 1, 1, 1, 1, 1, 1,\n",
              "         1, 1, 1, 1, 1, 1, 1, 1, 1, 1, 1, 1, 1, 1, 1, 1, 1, 1, 1, 1, 1, 1, 1, 1,\n",
              "         1, 1, 1, 1, 1, 1, 1, 1, 1, 1, 1, 1, 1, 1, 1, 1, 1, 1, 1, 1, 1, 1, 1, 1,\n",
              "         1, 1, 1, 1, 1, 1, 1, 1, 1, 1, 1, 1, 1, 1, 1, 1, 1, 1, 1, 1, 1, 1, 1, 1,\n",
              "         1, 1, 1, 1, 1, 1, 1, 1, 1, 1, 1, 1, 1, 1, 1, 1, 1, 1, 1, 1, 1, 1, 1]),\n",
              " 'labels': tensor([25214,     3, 27341, 11750,     9,     6,    13,  3457,   836, 15414,\n",
              "             9,     6,    19,   240,    97,   326,   227,    36, 28252,     3,\n",
              "             5,     3,    88,  1696,     8,    16,  4075,   190,     3, 23753,\n",
              "           542,    16,    34,  4288,     3,     5,  2078,  1144,    16,   623,\n",
              "           839,     6,  1907,    21,   157,    11,  7620,    15,     7,  3540,\n",
              "           228,    43,   118,     3, 19300,     7,     3,     5,     1])}"
            ]
          },
          "metadata": {},
          "execution_count": 36
        }
      ]
    },
    {
      "cell_type": "markdown",
      "source": [
        "# Hugging Face Dataset Format"
      ],
      "metadata": {
        "id": "N1KnBxoDs1f-"
      }
    },
    {
      "cell_type": "markdown",
      "source": [
        "# If it necessrary\n",
        "- we can conveert the data into hugging face dataset.\n",
        "- **Note** we will convert the data into hugging face data if we can use the `Hugging Face` **trainer Obj** for training the model.\n",
        "- If we can't use the `Hugging Face` **trainer Obj** it is not necessary."
      ],
      "metadata": {
        "id": "lX2wR7G1lgpm"
      }
    },
    {
      "cell_type": "code",
      "source": [
        "!pip install datasets"
      ],
      "metadata": {
        "colab": {
          "base_uri": "https://localhost:8080/"
        },
        "collapsed": true,
        "id": "smvJQDF0l4Ao",
        "outputId": "dc55ede3-ec99-41e3-e365-ff5c03397ace"
      },
      "execution_count": 38,
      "outputs": [
        {
          "output_type": "stream",
          "name": "stdout",
          "text": [
            "Collecting datasets\n",
            "  Downloading datasets-3.1.0-py3-none-any.whl.metadata (20 kB)\n",
            "Requirement already satisfied: filelock in /usr/local/lib/python3.10/dist-packages (from datasets) (3.16.1)\n",
            "Requirement already satisfied: numpy>=1.17 in /usr/local/lib/python3.10/dist-packages (from datasets) (1.26.4)\n",
            "Requirement already satisfied: pyarrow>=15.0.0 in /usr/local/lib/python3.10/dist-packages (from datasets) (17.0.0)\n",
            "Collecting dill<0.3.9,>=0.3.0 (from datasets)\n",
            "  Downloading dill-0.3.8-py3-none-any.whl.metadata (10 kB)\n",
            "Requirement already satisfied: pandas in /usr/local/lib/python3.10/dist-packages (from datasets) (2.2.2)\n",
            "Requirement already satisfied: requests>=2.32.2 in /usr/local/lib/python3.10/dist-packages (from datasets) (2.32.3)\n",
            "Requirement already satisfied: tqdm>=4.66.3 in /usr/local/lib/python3.10/dist-packages (from datasets) (4.66.6)\n",
            "Collecting xxhash (from datasets)\n",
            "  Downloading xxhash-3.5.0-cp310-cp310-manylinux_2_17_x86_64.manylinux2014_x86_64.whl.metadata (12 kB)\n",
            "Collecting multiprocess<0.70.17 (from datasets)\n",
            "  Downloading multiprocess-0.70.16-py310-none-any.whl.metadata (7.2 kB)\n",
            "Collecting fsspec<=2024.9.0,>=2023.1.0 (from fsspec[http]<=2024.9.0,>=2023.1.0->datasets)\n",
            "  Downloading fsspec-2024.9.0-py3-none-any.whl.metadata (11 kB)\n",
            "Requirement already satisfied: aiohttp in /usr/local/lib/python3.10/dist-packages (from datasets) (3.11.2)\n",
            "Requirement already satisfied: huggingface-hub>=0.23.0 in /usr/local/lib/python3.10/dist-packages (from datasets) (0.26.2)\n",
            "Requirement already satisfied: packaging in /usr/local/lib/python3.10/dist-packages (from datasets) (24.2)\n",
            "Requirement already satisfied: pyyaml>=5.1 in /usr/local/lib/python3.10/dist-packages (from datasets) (6.0.2)\n",
            "Requirement already satisfied: aiohappyeyeballs>=2.3.0 in /usr/local/lib/python3.10/dist-packages (from aiohttp->datasets) (2.4.3)\n",
            "Requirement already satisfied: aiosignal>=1.1.2 in /usr/local/lib/python3.10/dist-packages (from aiohttp->datasets) (1.3.1)\n",
            "Requirement already satisfied: attrs>=17.3.0 in /usr/local/lib/python3.10/dist-packages (from aiohttp->datasets) (24.2.0)\n",
            "Requirement already satisfied: frozenlist>=1.1.1 in /usr/local/lib/python3.10/dist-packages (from aiohttp->datasets) (1.5.0)\n",
            "Requirement already satisfied: multidict<7.0,>=4.5 in /usr/local/lib/python3.10/dist-packages (from aiohttp->datasets) (6.1.0)\n",
            "Requirement already satisfied: propcache>=0.2.0 in /usr/local/lib/python3.10/dist-packages (from aiohttp->datasets) (0.2.0)\n",
            "Requirement already satisfied: yarl<2.0,>=1.17.0 in /usr/local/lib/python3.10/dist-packages (from aiohttp->datasets) (1.17.2)\n",
            "Requirement already satisfied: async-timeout<6.0,>=4.0 in /usr/local/lib/python3.10/dist-packages (from aiohttp->datasets) (4.0.3)\n",
            "Requirement already satisfied: typing-extensions>=3.7.4.3 in /usr/local/lib/python3.10/dist-packages (from huggingface-hub>=0.23.0->datasets) (4.12.2)\n",
            "Requirement already satisfied: charset-normalizer<4,>=2 in /usr/local/lib/python3.10/dist-packages (from requests>=2.32.2->datasets) (3.4.0)\n",
            "Requirement already satisfied: idna<4,>=2.5 in /usr/local/lib/python3.10/dist-packages (from requests>=2.32.2->datasets) (3.10)\n",
            "Requirement already satisfied: urllib3<3,>=1.21.1 in /usr/local/lib/python3.10/dist-packages (from requests>=2.32.2->datasets) (2.2.3)\n",
            "Requirement already satisfied: certifi>=2017.4.17 in /usr/local/lib/python3.10/dist-packages (from requests>=2.32.2->datasets) (2024.8.30)\n",
            "Requirement already satisfied: python-dateutil>=2.8.2 in /usr/local/lib/python3.10/dist-packages (from pandas->datasets) (2.8.2)\n",
            "Requirement already satisfied: pytz>=2020.1 in /usr/local/lib/python3.10/dist-packages (from pandas->datasets) (2024.2)\n",
            "Requirement already satisfied: tzdata>=2022.7 in /usr/local/lib/python3.10/dist-packages (from pandas->datasets) (2024.2)\n",
            "Requirement already satisfied: six>=1.5 in /usr/local/lib/python3.10/dist-packages (from python-dateutil>=2.8.2->pandas->datasets) (1.16.0)\n",
            "Downloading datasets-3.1.0-py3-none-any.whl (480 kB)\n",
            "\u001b[2K   \u001b[90m━━━━━━━━━━━━━━━━━━━━━━━━━━━━━━━━━━━━━━━━\u001b[0m \u001b[32m480.6/480.6 kB\u001b[0m \u001b[31m14.7 MB/s\u001b[0m eta \u001b[36m0:00:00\u001b[0m\n",
            "\u001b[?25hDownloading dill-0.3.8-py3-none-any.whl (116 kB)\n",
            "\u001b[2K   \u001b[90m━━━━━━━━━━━━━━━━━━━━━━━━━━━━━━━━━━━━━━━━\u001b[0m \u001b[32m116.3/116.3 kB\u001b[0m \u001b[31m11.8 MB/s\u001b[0m eta \u001b[36m0:00:00\u001b[0m\n",
            "\u001b[?25hDownloading fsspec-2024.9.0-py3-none-any.whl (179 kB)\n",
            "\u001b[2K   \u001b[90m━━━━━━━━━━━━━━━━━━━━━━━━━━━━━━━━━━━━━━━━\u001b[0m \u001b[32m179.3/179.3 kB\u001b[0m \u001b[31m16.2 MB/s\u001b[0m eta \u001b[36m0:00:00\u001b[0m\n",
            "\u001b[?25hDownloading multiprocess-0.70.16-py310-none-any.whl (134 kB)\n",
            "\u001b[2K   \u001b[90m━━━━━━━━━━━━━━━━━━━━━━━━━━━━━━━━━━━━━━━━\u001b[0m \u001b[32m134.8/134.8 kB\u001b[0m \u001b[31m13.3 MB/s\u001b[0m eta \u001b[36m0:00:00\u001b[0m\n",
            "\u001b[?25hDownloading xxhash-3.5.0-cp310-cp310-manylinux_2_17_x86_64.manylinux2014_x86_64.whl (194 kB)\n",
            "\u001b[2K   \u001b[90m━━━━━━━━━━━━━━━━━━━━━━━━━━━━━━━━━━━━━━━━\u001b[0m \u001b[32m194.1/194.1 kB\u001b[0m \u001b[31m18.0 MB/s\u001b[0m eta \u001b[36m0:00:00\u001b[0m\n",
            "\u001b[?25hInstalling collected packages: xxhash, fsspec, dill, multiprocess, datasets\n",
            "  Attempting uninstall: fsspec\n",
            "    Found existing installation: fsspec 2024.10.0\n",
            "    Uninstalling fsspec-2024.10.0:\n",
            "      Successfully uninstalled fsspec-2024.10.0\n",
            "\u001b[31mERROR: pip's dependency resolver does not currently take into account all the packages that are installed. This behaviour is the source of the following dependency conflicts.\n",
            "gcsfs 2024.10.0 requires fsspec==2024.10.0, but you have fsspec 2024.9.0 which is incompatible.\u001b[0m\u001b[31m\n",
            "\u001b[0mSuccessfully installed datasets-3.1.0 dill-0.3.8 fsspec-2024.9.0 multiprocess-0.70.16 xxhash-3.5.0\n"
          ]
        }
      ]
    },
    {
      "cell_type": "code",
      "source": [
        "from datasets import Dataset\n",
        "\n",
        "# Create a Hugging Face Dataset from the pandas DataFrame\n",
        "huggingface_dataset = Dataset.from_pandas(df)"
      ],
      "metadata": {
        "id": "Ojj9SKLKmbdO"
      },
      "execution_count": 40,
      "outputs": []
    },
    {
      "cell_type": "code",
      "source": [
        "huggingface_dataset"
      ],
      "metadata": {
        "colab": {
          "base_uri": "https://localhost:8080/"
        },
        "id": "_XeD-yOBh_mO",
        "outputId": "4fd589ef-b761-4d97-eccf-6306031d0302"
      },
      "execution_count": 41,
      "outputs": [
        {
          "output_type": "execute_result",
          "data": {
            "text/plain": [
              "Dataset({\n",
              "    features: ['article', 'highlights'],\n",
              "    num_rows: 1000\n",
              "})"
            ]
          },
          "metadata": {},
          "execution_count": 41
        }
      ]
    },
    {
      "cell_type": "code",
      "source": [
        "# Apply the processing function to the dataset\n",
        "huggingface_dataset = huggingface_dataset.map(process_text)"
      ],
      "metadata": {
        "colab": {
          "base_uri": "https://localhost:8080/",
          "height": 49,
          "referenced_widgets": [
            "758fd1a9d48f4d3f8beee764b7f7d1af",
            "0a5fc1ac9b084007b2d54d8c93ef903d",
            "c974824c9b634507bdc78be391029a55",
            "a83972dd8c4b42e1a5882797d76b0975",
            "e8268401ce664584a0aa260127c0f730",
            "380119d4d7ce4f4b93cb745b223c8f27",
            "3e7887f6ae8b4a18b326186cc1ff894a",
            "1281649380b841849b5af1e7b42cb932",
            "98bf87d1ffa04b48bd0f88beb03588bb",
            "f1c640078a3f4168a8eea5c6843ae861",
            "7d83e54c784b40ecae3cca1f90608c76"
          ]
        },
        "id": "joy93AeToq6m",
        "outputId": "e4c9f991-0e24-43b8-bc69-c53a54598665"
      },
      "execution_count": 42,
      "outputs": [
        {
          "output_type": "display_data",
          "data": {
            "text/plain": [
              "Map:   0%|          | 0/1000 [00:00<?, ? examples/s]"
            ],
            "application/vnd.jupyter.widget-view+json": {
              "version_major": 2,
              "version_minor": 0,
              "model_id": "758fd1a9d48f4d3f8beee764b7f7d1af"
            }
          },
          "metadata": {}
        }
      ]
    },
    {
      "cell_type": "code",
      "source": [
        "# Now you have a Hugging Face dataset ready for use with transformers\n",
        "huggingface_dataset"
      ],
      "metadata": {
        "colab": {
          "base_uri": "https://localhost:8080/"
        },
        "id": "OA0lFAPTiHoQ",
        "outputId": "f5dda9a4-052e-4fdc-d004-8244dce6d4dd"
      },
      "execution_count": 43,
      "outputs": [
        {
          "output_type": "execute_result",
          "data": {
            "text/plain": [
              "Dataset({\n",
              "    features: ['article', 'highlights', 'input_ids', 'attention_mask', 'labels'],\n",
              "    num_rows: 1000\n",
              "})"
            ]
          },
          "metadata": {},
          "execution_count": 43
        }
      ]
    },
    {
      "cell_type": "markdown",
      "source": [
        "# observation\n",
        "- Now we can use the transformer tokenizer for text encoding\n",
        "- Now we can see how we can use the pytorch dataset to make a custom dataset so that we can use them for training"
      ],
      "metadata": {
        "id": "yxBN0QJSiL8C"
      }
    },
    {
      "cell_type": "markdown",
      "source": [
        "# Pytoch Custom Dataset\n",
        "**Note**\n",
        "- For building a Custom data we will use the `original` pandas dataframe not `hugging face dataset`"
      ],
      "metadata": {
        "id": "bp6ALb8uikQ-"
      }
    },
    {
      "cell_type": "code",
      "source": [
        "from torch.utils.data import Dataset, DataLoader"
      ],
      "metadata": {
        "id": "tgS7gbJDiogF"
      },
      "execution_count": 44,
      "outputs": []
    },
    {
      "cell_type": "code",
      "source": [
        "class CustomData(Dataset):\n",
        "    def __init__(self,data, tokenizer):\n",
        "        self.data = data.reset_index(drop=True)\n",
        "        self.tokenizer= tokenizer\n",
        "        self.article = data['article']\n",
        "        self.summary =  data['highlights']\n",
        "\n",
        "    def __len__(self):\n",
        "        return len(self.data)\n",
        "\n",
        "    def __getitem__(self,idx):\n",
        "        # Get the article and summary of data\n",
        "        article = self.article[idx]\n",
        "        summary = self.summary[idx]\n",
        "\n",
        "        # encode the text and summary\n",
        "        article_embedding = self.tokenizer(article, padding='max_length',truncation = True, return_tensors=\"pt\",max_length=512)\n",
        "\n",
        "        # Summary embedding\n",
        "        summary_embedding = self.tokenizer(summary, padding='max_length',truncation = True, return_tensors=\"pt\",max_length=512)\n",
        "\n",
        "        return {\n",
        "            \"input_ids\": article_embedding[\"input_ids\"].squeeze(),\n",
        "            \"attention_mask\":article_embedding['attention_mask'].squeeze(),\n",
        "            \"labels\": summary_embedding[\"input_ids\"].squeeze()\n",
        "        }\n"
      ],
      "metadata": {
        "id": "YbbNgUyti8R4"
      },
      "execution_count": 83,
      "outputs": []
    },
    {
      "cell_type": "code",
      "source": [
        "# make a dataset\n",
        "dataset = CustomData(df,tokenizer)"
      ],
      "metadata": {
        "id": "mN2A6eiKkqMU"
      },
      "execution_count": 84,
      "outputs": []
    },
    {
      "cell_type": "code",
      "source": [
        "dataset"
      ],
      "metadata": {
        "colab": {
          "base_uri": "https://localhost:8080/"
        },
        "id": "IJ7hJv56kzrt",
        "outputId": "027d37af-2e9b-4df2-d41a-518bf9ced87b"
      },
      "execution_count": 85,
      "outputs": [
        {
          "output_type": "execute_result",
          "data": {
            "text/plain": [
              "<__main__.CustomData at 0x7e7ca53ea170>"
            ]
          },
          "metadata": {},
          "execution_count": 85
        }
      ]
    },
    {
      "cell_type": "code",
      "source": [
        "# Make a dataloader\n",
        "dataloader = DataLoader(dataset, batch_size=8, shuffle=True)"
      ],
      "metadata": {
        "id": "sUYGbPGgk1bu"
      },
      "execution_count": 86,
      "outputs": []
    },
    {
      "cell_type": "code",
      "source": [
        "dataloader"
      ],
      "metadata": {
        "colab": {
          "base_uri": "https://localhost:8080/"
        },
        "id": "tnwaGsgLlmBA",
        "outputId": "efd7e198-e541-4547-e58f-e80b206a1239"
      },
      "execution_count": 87,
      "outputs": [
        {
          "output_type": "execute_result",
          "data": {
            "text/plain": [
              "<torch.utils.data.dataloader.DataLoader at 0x7e7ca53ea620>"
            ]
          },
          "metadata": {},
          "execution_count": 87
        }
      ]
    },
    {
      "cell_type": "code",
      "source": [
        "for idx, batch in enumerate(dataloader):\n",
        "    print(batch)\n",
        "    break"
      ],
      "metadata": {
        "colab": {
          "base_uri": "https://localhost:8080/"
        },
        "id": "GvzkhkFLln9k",
        "outputId": "0c71d32f-190a-4fb3-e95d-c746c367c99d"
      },
      "execution_count": 88,
      "outputs": [
        {
          "output_type": "stream",
          "name": "stdout",
          "text": [
            "{'input_ids': tensor([[ 6179,  6029,    41,  ...,  5314,  6873,     1],\n",
            "        [   57,     3,     5,  ...,   528,     9,     1],\n",
            "        [   57,     3,     5,  ...,     6, 15649,     1],\n",
            "        ...,\n",
            "        [   57,     3,     5,  ...,     9,    20,     1],\n",
            "        [    3,     9,     3,  ...,     3,     5,     1],\n",
            "        [   41,    75,    29,  ...,  1219,   158,     1]]), 'attention_mask': tensor([[1, 1, 1,  ..., 1, 1, 1],\n",
            "        [1, 1, 1,  ..., 1, 1, 1],\n",
            "        [1, 1, 1,  ..., 1, 1, 1],\n",
            "        ...,\n",
            "        [1, 1, 1,  ..., 1, 1, 1],\n",
            "        [1, 1, 1,  ..., 1, 1, 1],\n",
            "        [1, 1, 1,  ..., 1, 1, 1]]), 'labels': tensor([[    8,     3,     9,  ...,     0,     0,     0],\n",
            "        [    3, 13585,   122,  ...,     0,     0,     0],\n",
            "        [    3,     7, 10405,  ...,     0,     0,     0],\n",
            "        ...,\n",
            "        [   46,    15,    40,  ...,     0,     0,     0],\n",
            "        [  836,  6961,    90,  ...,     0,     0,     0],\n",
            "        [ 2278,     9,    15,  ...,     0,     0,     0]])}\n"
          ]
        }
      ]
    },
    {
      "cell_type": "markdown",
      "source": [
        "# Observation\n",
        "- We can make a custom data and we can directly use them for **model training**."
      ],
      "metadata": {
        "id": "nsjZ5Qzql1Ig"
      }
    },
    {
      "cell_type": "code",
      "source": [],
      "metadata": {
        "id": "P3a3izp3mi7W"
      },
      "execution_count": null,
      "outputs": []
    }
  ]
}